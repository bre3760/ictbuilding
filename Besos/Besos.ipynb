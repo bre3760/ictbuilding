{
 "cells": [
  {
   "cell_type": "code",
   "execution_count": 2,
   "metadata": {},
   "outputs": [],
   "source": [
    "import pandas as pd\n",
    "import matplotlib.pyplot as plt\n",
    "from seaborn import heatmap\n",
    "from seaborn import pairplot\n",
    "from besos import eppy_funcs as ef\n",
    "from besos import sampling\n",
    "from besos.evaluator import EvaluatorEP\n",
    "from besos.parameters import RangeParameter, CategoryParameter, expand_plist, FieldSelector, Parameter, wwr\n",
    "from besos.problem import EPProblem\n",
    "plt.rcParams['figure.figsize'] = [8, 8]"
   ]
  },
  {
   "cell_type": "code",
   "execution_count": 3,
   "metadata": {},
   "outputs": [],
   "source": [
    "filename = 'model_final_triple'\n",
    "building = ef.get_building('/home/ict4bd/'+filename+'.idf')"
   ]
  },
  {
   "cell_type": "code",
   "execution_count": 4,
   "metadata": {},
   "outputs": [
    {
     "data": {
      "text/plain": [
       "['Cast Concrete (Dense)_.1',\n",
       " 'Asphalt 1_.O1',\n",
       " 'MW Glass Wool (rolls)_.1445',\n",
       " 'Plasterboard_.O13',\n",
       " 'Gypsum Plasterboard_.O25',\n",
       " 'Cement/plaster/mortar - cement_.O3',\n",
       " 'XPS Extruded Polystyrene  - CO2 Blowing_.2',\n",
       " 'Aerated Concrete Block_.2']"
      ]
     },
     "execution_count": 4,
     "metadata": {},
     "output_type": "execute_result"
    }
   ],
   "source": [
    "[materials.Name for materials in building.idfobjects[\"MATERIAL\"]] # get a list of the Name property of all IDF objects of class MATERIAL"
   ]
  },
  {
   "cell_type": "code",
   "execution_count": 17,
   "metadata": {},
   "outputs": [
    {
     "data": {
      "text/plain": [
       "\n",
       "Building,\n",
       "    Building,                 !- Name\n",
       "    0,                        !- North Axis\n",
       "    Suburbs,                  !- Terrain\n",
       "    0.04,                     !- Loads Convergence Tolerance Value\n",
       "    0.4,                      !- Temperature Convergence Tolerance Value\n",
       "    FullExterior,             !- Solar Distribution\n",
       "    25,                       !- Maximum Number of Warmup Days\n",
       "    6;                        !- Minimum Number of Warmup Days"
      ]
     },
     "execution_count": 17,
     "metadata": {},
     "output_type": "execute_result"
    }
   ],
   "source": [
    "building.idfobjects[\"BUILDING\"][0]"
   ]
  },
  {
   "cell_type": "code",
   "execution_count": 18,
   "metadata": {},
   "outputs": [
    {
     "data": {
      "text/plain": [
       "[\n",
       "Material,\n",
       "    Cast Concrete (Dense)_.1,    !- Name\n",
       "    Rough,                    !- Roughness\n",
       "    0.1,                      !- Thickness\n",
       "    1.4,                      !- Conductivity\n",
       "    2100,                     !- Density\n",
       "    840,                      !- Specific Heat\n",
       "    0.9,                      !- Thermal Absorptance\n",
       "    0.6,                      !- Solar Absorptance\n",
       "    0.6;                      !- Visible Absorptance\n",
       ", \n",
       "Material,\n",
       "    Asphalt 1_.O1,            !- Name\n",
       "    Rough,                    !- Roughness\n",
       "    0.01,                     !- Thickness\n",
       "    0.7,                      !- Conductivity\n",
       "    2100,                     !- Density\n",
       "    1000,                     !- Specific Heat\n",
       "    0.9,                      !- Thermal Absorptance\n",
       "    0.85,                     !- Solar Absorptance\n",
       "    0.9;                      !- Visible Absorptance\n",
       ", \n",
       "Material,\n",
       "    MW Glass Wool (rolls)_.1445,    !- Name\n",
       "    Rough,                    !- Roughness\n",
       "    0.1445,                   !- Thickness\n",
       "    0.04,                     !- Conductivity\n",
       "    12,                       !- Density\n",
       "    840,                      !- Specific Heat\n",
       "    0.9,                      !- Thermal Absorptance\n",
       "    0.6,                      !- Solar Absorptance\n",
       "    0.6;                      !- Visible Absorptance\n",
       ", \n",
       "Material,\n",
       "    Plasterboard_.O13,        !- Name\n",
       "    Rough,                    !- Roughness\n",
       "    0.013,                    !- Thickness\n",
       "    0.25,                     !- Conductivity\n",
       "    2800,                     !- Density\n",
       "    896,                      !- Specific Heat\n",
       "    0.9,                      !- Thermal Absorptance\n",
       "    0.5,                      !- Solar Absorptance\n",
       "    0.5;                      !- Visible Absorptance\n",
       ", \n",
       "Material,\n",
       "    Gypsum Plasterboard_.O25,    !- Name\n",
       "    Rough,                    !- Roughness\n",
       "    0.025,                    !- Thickness\n",
       "    0.25,                     !- Conductivity\n",
       "    900,                      !- Density\n",
       "    1000,                     !- Specific Heat\n",
       "    0.9,                      !- Thermal Absorptance\n",
       "    0.5,                      !- Solar Absorptance\n",
       "    0.5;                      !- Visible Absorptance\n",
       ", \n",
       "Material,\n",
       "    Cement/plaster/mortar - cement_.O3,    !- Name\n",
       "    Rough,                    !- Roughness\n",
       "    0.03,                     !- Thickness\n",
       "    0.72,                     !- Conductivity\n",
       "    1860,                     !- Density\n",
       "    840,                      !- Specific Heat\n",
       "    0.9,                      !- Thermal Absorptance\n",
       "    0.6,                      !- Solar Absorptance\n",
       "    0.6;                      !- Visible Absorptance\n",
       ", \n",
       "Material,\n",
       "    XPS Extruded Polystyrene  - CO2 Blowing_.2,    !- Name\n",
       "    Rough,                    !- Roughness\n",
       "    0.2,                      !- Thickness\n",
       "    0.034,                    !- Conductivity\n",
       "    35,                       !- Density\n",
       "    1400,                     !- Specific Heat\n",
       "    0.9,                      !- Thermal Absorptance\n",
       "    0.6,                      !- Solar Absorptance\n",
       "    0.6;                      !- Visible Absorptance\n",
       ", \n",
       "Material,\n",
       "    Aerated Concrete Block_.2,    !- Name\n",
       "    Rough,                    !- Roughness\n",
       "    0.2,                      !- Thickness\n",
       "    0.24,                     !- Conductivity\n",
       "    750,                      !- Density\n",
       "    1000,                     !- Specific Heat\n",
       "    0.9,                      !- Thermal Absorptance\n",
       "    0.6,                      !- Solar Absorptance\n",
       "    0.6;                      !- Visible Absorptance\n",
       "]"
      ]
     },
     "execution_count": 18,
     "metadata": {},
     "output_type": "execute_result"
    }
   ],
   "source": [
    "building.idfobjects[\"MATERIAL\"]"
   ]
  },
  {
   "cell_type": "code",
   "execution_count": 6,
   "metadata": {},
   "outputs": [],
   "source": [
    "insulation = FieldSelector(class_name='Material',\\\n",
    "                           object_name='XPS Extruded Polystyrene  - CO2 Blowing_.2',\\\n",
    "                           field_name='Thickness')\n",
    "ach_bedroom = FieldSelector(class_name='ZoneVentilation:DesignFlowRate',object_name='Block1:Bedroom Nat Vent', field_name='Air Changes per Hour')\n",
    "ach_bathroom=FieldSelector(class_name='ZoneVentilation:DesignFlowRate',object_name='Block1:Bathroom Nat Vent', field_name='Air Changes per Hour')\n",
    "ach_kitchen=FieldSelector(class_name='ZoneVentilation:DesignFlowRate',object_name='Block1:Kitchen Nat Vent', field_name='Air Changes per Hour')\n",
    "shading_bedroom = FieldSelector(class_name='WindowShadingControl',object_name='1001-Block1:Bedroom', field_name='Setpoint')\n",
    "shading_bathroom = FieldSelector(class_name='WindowShadingControl',object_name='1002-Block1:Bathroom', field_name='Setpoint')\n",
    "shading_kitchen = FieldSelector(class_name='WindowShadingControl',object_name='1003-Block1:Kitchen', field_name='Setpoint')"
   ]
  },
  {
   "cell_type": "code",
   "execution_count": 7,
   "metadata": {},
   "outputs": [],
   "source": [
    "zero_to_one_exclusive = CategoryParameter(options=[0.00001, 0.10, 0.20])\n",
    "ach_parameters = CategoryParameter(options=[0,5])\n",
    "shading_parameters = CategoryParameter(options=[120,2000])"
   ]
  },
  {
   "cell_type": "code",
   "execution_count": 8,
   "metadata": {},
   "outputs": [],
   "source": [
    "insulation_param = Parameter(selector=insulation,\n",
    "                                 value_descriptor=zero_to_one_exclusive,\n",
    "                                 name='Insulation Thickness')\n",
    "\n",
    "ach_bedroom_param = Parameter(selector=ach_bedroom,\n",
    "                                 value_descriptor=ach_parameters,\n",
    "                                 name='Air Changes per Hour Bedroom')\n",
    "\n",
    "ach_bathroom_param = Parameter(selector=ach_bathroom,\n",
    "                                 value_descriptor=ach_parameters,\n",
    "                                 name='Air Changes per Hour Bathroom')\n",
    "\n",
    "ach_kitchen_param = Parameter(selector=ach_kitchen,\n",
    "                                 value_descriptor=ach_parameters,\n",
    "                                 name='Air Changes per Hour Kitchen')\n",
    "\n",
    "shading_bedroom_param=Parameter(selector=shading_bedroom,\n",
    "                                 value_descriptor=shading_parameters,\n",
    "                                 name='Shading Bedroom')\n",
    "\n",
    "shading_bathroom_param=Parameter(selector=shading_bathroom,\n",
    "                                 value_descriptor=shading_parameters,\n",
    "                                 name='Shading Bathroom')\n",
    "\n",
    "shading_kitchen_param=Parameter(selector=shading_kitchen,\n",
    "                                 value_descriptor=shading_parameters,\n",
    "                                 name='Shading Kitchen')"
   ]
  },
  {
   "cell_type": "code",
   "execution_count": 9,
   "metadata": {},
   "outputs": [
    {
     "data": {
      "text/plain": [
       "Parameter(name='Window to Wall Ratio', selector=wwrSelector(), value_descriptor=RangeParameter(min=0.1, max=0.9))"
      ]
     },
     "execution_count": 9,
     "metadata": {},
     "output_type": "execute_result"
    }
   ],
   "source": [
    "window_to_wall = wwr(RangeParameter(0.1,0.9)) # use a special shortcut to get the window-to-wall parameter\n",
    "window_to_wall"
   ]
  },
  {
   "cell_type": "code",
   "execution_count": 20,
   "metadata": {},
   "outputs": [
    {
     "data": {
      "text/plain": [
       "Parameter(name='Orientation', selector=FieldSelector(field_name='North Axis', class_name='Building', object_name='Building'), value_descriptor=CategoryParameter(options=[0.0, 90.0, 180.0, 270.0]))"
      ]
     },
     "execution_count": 20,
     "metadata": {},
     "output_type": "execute_result"
    }
   ],
   "source": [
    "#previous = building.idfobjects[\"BUILDING\"][0].obj[2]\n",
    "#building.idfobjects[\"BUILDING\"][0].obj[2] = [0.0, 90.0, 180.0, 270.0]\n",
    "\n",
    "orientation_param = FieldSelector(class_name='Building',\\\n",
    "                           object_name='Building',\\\n",
    "                           field_name='North Axis')\n",
    "orientation_parameters = CategoryParameter(options=[0.0, 90.0, 180.0, 270.0])\n",
    "orientation = Parameter(selector = orientation_param, value_descriptor = orientation_parameters, name = 'Orientation')\n",
    "\n",
    "orientation"
   ]
  },
  {
   "cell_type": "code",
   "execution_count": 21,
   "metadata": {},
   "outputs": [],
   "source": [
    "# Add all the parameters to a single parameters object.\n",
    "#parameters = [insulation_param] + [window_to_wall]\n",
    "parameters = [window_to_wall,insulation_param,orientation,ach_bedroom_param,ach_bathroom_param,ach_kitchen_param,shading_bedroom_param,shading_bathroom_param,shading_kitchen_param] \n",
    "\n",
    "# Let us try to optimize the Cooling and the Heating of facility at the same time\n",
    "objectives = ['Electricity:Facility','DistrictCooling:Facility'] \n",
    "#'InteriorLights:Electricity' has correlation circa 1 with ELectricity:Facility, we remove it from the obj\n",
    "# These are hourly values, default is sum all the hourly values\n",
    "\n",
    "# Construct the problem \n",
    "problem = EPProblem(parameters, objectives) # Make a problem instance from the parameters and objectives"
   ]
  },
  {
   "cell_type": "code",
   "execution_count": 22,
   "metadata": {},
   "outputs": [
    {
     "data": {
      "text/html": [
       "<div>\n",
       "<style scoped>\n",
       "    .dataframe tbody tr th:only-of-type {\n",
       "        vertical-align: middle;\n",
       "    }\n",
       "\n",
       "    .dataframe tbody tr th {\n",
       "        vertical-align: top;\n",
       "    }\n",
       "\n",
       "    .dataframe thead th {\n",
       "        text-align: right;\n",
       "    }\n",
       "</style>\n",
       "<table border=\"1\" class=\"dataframe\">\n",
       "  <thead>\n",
       "    <tr style=\"text-align: right;\">\n",
       "      <th></th>\n",
       "      <th>Window to Wall Ratio</th>\n",
       "      <th>Insulation Thickness</th>\n",
       "      <th>Orientation</th>\n",
       "      <th>Air Changes per Hour Bedroom</th>\n",
       "      <th>Air Changes per Hour Bathroom</th>\n",
       "      <th>Air Changes per Hour Kitchen</th>\n",
       "      <th>Shading Bedroom</th>\n",
       "      <th>Shading Bathroom</th>\n",
       "      <th>Shading Kitchen</th>\n",
       "    </tr>\n",
       "  </thead>\n",
       "  <tbody>\n",
       "    <tr>\n",
       "      <th>0</th>\n",
       "      <td>0.201992</td>\n",
       "      <td>0.20000</td>\n",
       "      <td>270.0</td>\n",
       "      <td>0</td>\n",
       "      <td>5</td>\n",
       "      <td>5</td>\n",
       "      <td>2000</td>\n",
       "      <td>120</td>\n",
       "      <td>120</td>\n",
       "    </tr>\n",
       "    <tr>\n",
       "      <th>1</th>\n",
       "      <td>0.549148</td>\n",
       "      <td>0.00001</td>\n",
       "      <td>0.0</td>\n",
       "      <td>5</td>\n",
       "      <td>5</td>\n",
       "      <td>5</td>\n",
       "      <td>120</td>\n",
       "      <td>2000</td>\n",
       "      <td>120</td>\n",
       "    </tr>\n",
       "    <tr>\n",
       "      <th>2</th>\n",
       "      <td>0.870987</td>\n",
       "      <td>0.00001</td>\n",
       "      <td>90.0</td>\n",
       "      <td>0</td>\n",
       "      <td>5</td>\n",
       "      <td>0</td>\n",
       "      <td>120</td>\n",
       "      <td>2000</td>\n",
       "      <td>2000</td>\n",
       "    </tr>\n",
       "    <tr>\n",
       "      <th>3</th>\n",
       "      <td>0.800321</td>\n",
       "      <td>0.10000</td>\n",
       "      <td>90.0</td>\n",
       "      <td>0</td>\n",
       "      <td>5</td>\n",
       "      <td>0</td>\n",
       "      <td>2000</td>\n",
       "      <td>2000</td>\n",
       "      <td>120</td>\n",
       "    </tr>\n",
       "    <tr>\n",
       "      <th>4</th>\n",
       "      <td>0.443826</td>\n",
       "      <td>0.10000</td>\n",
       "      <td>0.0</td>\n",
       "      <td>5</td>\n",
       "      <td>5</td>\n",
       "      <td>0</td>\n",
       "      <td>2000</td>\n",
       "      <td>120</td>\n",
       "      <td>120</td>\n",
       "    </tr>\n",
       "    <tr>\n",
       "      <th>5</th>\n",
       "      <td>0.353736</td>\n",
       "      <td>0.10000</td>\n",
       "      <td>90.0</td>\n",
       "      <td>0</td>\n",
       "      <td>0</td>\n",
       "      <td>5</td>\n",
       "      <td>120</td>\n",
       "      <td>2000</td>\n",
       "      <td>2000</td>\n",
       "    </tr>\n",
       "    <tr>\n",
       "      <th>6</th>\n",
       "      <td>0.600416</td>\n",
       "      <td>0.10000</td>\n",
       "      <td>180.0</td>\n",
       "      <td>5</td>\n",
       "      <td>5</td>\n",
       "      <td>5</td>\n",
       "      <td>120</td>\n",
       "      <td>2000</td>\n",
       "      <td>2000</td>\n",
       "    </tr>\n",
       "    <tr>\n",
       "      <th>7</th>\n",
       "      <td>0.762949</td>\n",
       "      <td>0.20000</td>\n",
       "      <td>180.0</td>\n",
       "      <td>5</td>\n",
       "      <td>0</td>\n",
       "      <td>0</td>\n",
       "      <td>120</td>\n",
       "      <td>120</td>\n",
       "      <td>2000</td>\n",
       "    </tr>\n",
       "    <tr>\n",
       "      <th>8</th>\n",
       "      <td>0.255613</td>\n",
       "      <td>0.20000</td>\n",
       "      <td>270.0</td>\n",
       "      <td>5</td>\n",
       "      <td>0</td>\n",
       "      <td>0</td>\n",
       "      <td>2000</td>\n",
       "      <td>120</td>\n",
       "      <td>2000</td>\n",
       "    </tr>\n",
       "    <tr>\n",
       "      <th>9</th>\n",
       "      <td>0.121195</td>\n",
       "      <td>0.00001</td>\n",
       "      <td>0.0</td>\n",
       "      <td>5</td>\n",
       "      <td>0</td>\n",
       "      <td>0</td>\n",
       "      <td>120</td>\n",
       "      <td>120</td>\n",
       "      <td>2000</td>\n",
       "    </tr>\n",
       "    <tr>\n",
       "      <th>10</th>\n",
       "      <td>0.431904</td>\n",
       "      <td>0.20000</td>\n",
       "      <td>270.0</td>\n",
       "      <td>0</td>\n",
       "      <td>0</td>\n",
       "      <td>5</td>\n",
       "      <td>2000</td>\n",
       "      <td>120</td>\n",
       "      <td>120</td>\n",
       "    </tr>\n",
       "    <tr>\n",
       "      <th>11</th>\n",
       "      <td>0.688594</td>\n",
       "      <td>0.00001</td>\n",
       "      <td>180.0</td>\n",
       "      <td>0</td>\n",
       "      <td>0</td>\n",
       "      <td>5</td>\n",
       "      <td>2000</td>\n",
       "      <td>2000</td>\n",
       "      <td>120</td>\n",
       "    </tr>\n",
       "  </tbody>\n",
       "</table>\n",
       "</div>"
      ],
      "text/plain": [
       "    Window to Wall Ratio  Insulation Thickness  Orientation  \\\n",
       "0               0.201992               0.20000        270.0   \n",
       "1               0.549148               0.00001          0.0   \n",
       "2               0.870987               0.00001         90.0   \n",
       "3               0.800321               0.10000         90.0   \n",
       "4               0.443826               0.10000          0.0   \n",
       "5               0.353736               0.10000         90.0   \n",
       "6               0.600416               0.10000        180.0   \n",
       "7               0.762949               0.20000        180.0   \n",
       "8               0.255613               0.20000        270.0   \n",
       "9               0.121195               0.00001          0.0   \n",
       "10              0.431904               0.20000        270.0   \n",
       "11              0.688594               0.00001        180.0   \n",
       "\n",
       "    Air Changes per Hour Bedroom  Air Changes per Hour Bathroom  \\\n",
       "0                              0                              5   \n",
       "1                              5                              5   \n",
       "2                              0                              5   \n",
       "3                              0                              5   \n",
       "4                              5                              5   \n",
       "5                              0                              0   \n",
       "6                              5                              5   \n",
       "7                              5                              0   \n",
       "8                              5                              0   \n",
       "9                              5                              0   \n",
       "10                             0                              0   \n",
       "11                             0                              0   \n",
       "\n",
       "    Air Changes per Hour Kitchen  Shading Bedroom  Shading Bathroom  \\\n",
       "0                              5             2000               120   \n",
       "1                              5              120              2000   \n",
       "2                              0              120              2000   \n",
       "3                              0             2000              2000   \n",
       "4                              0             2000               120   \n",
       "5                              5              120              2000   \n",
       "6                              5              120              2000   \n",
       "7                              0              120               120   \n",
       "8                              0             2000               120   \n",
       "9                              0              120               120   \n",
       "10                             5             2000               120   \n",
       "11                             5             2000              2000   \n",
       "\n",
       "    Shading Kitchen  \n",
       "0               120  \n",
       "1               120  \n",
       "2              2000  \n",
       "3               120  \n",
       "4               120  \n",
       "5              2000  \n",
       "6              2000  \n",
       "7              2000  \n",
       "8              2000  \n",
       "9              2000  \n",
       "10              120  \n",
       "11              120  "
      ]
     },
     "execution_count": 22,
     "metadata": {},
     "output_type": "execute_result"
    }
   ],
   "source": [
    "samples = sampling.dist_sampler(sampling.lhs, problem, num_samples=12)\n",
    "\n",
    "#samples = pd.read_csv(filename+'.csv').drop(['Electricity:Facility','DistrictCooling:Facility'], axis=1)\n",
    "samples"
   ]
  },
  {
   "cell_type": "code",
   "execution_count": null,
   "metadata": {},
   "outputs": [
    {
     "data": {
      "application/vnd.jupyter.widget-view+json": {
       "model_id": "1c5e287111e44cf2846fc9df6577d7db",
       "version_major": 2,
       "version_minor": 0
      },
      "text/plain": [
       "HBox(children=(FloatProgress(value=0.0, description='Executing', max=12.0, style=ProgressStyle(description_wid…"
      ]
     },
     "metadata": {},
     "output_type": "display_data"
    }
   ],
   "source": [
    "evaluator = EvaluatorEP(problem, building, out_dir='outputdir', err_dir='outputdir',epw='/home/ict4bd/larnaca.epw')\n",
    "outputs = evaluator.df_apply(samples, keep_input=True)\n",
    "outputs.describe()"
   ]
  },
  {
   "cell_type": "code",
   "execution_count": null,
   "metadata": {},
   "outputs": [],
   "source": [
    "_ = outputs.plot(x=objectives[0], y=objectives[1], style = 'o')\n",
    "plt.xlabel(objectives[0])\n",
    "plt.ylabel(objectives[1])"
   ]
  },
  {
   "cell_type": "code",
   "execution_count": null,
   "metadata": {},
   "outputs": [],
   "source": [
    "outputs = outputs.sort_values(by=objectives[1])\n",
    "ax=outputs.plot.bar(subplots=True,legend=None, figsize=(8,15))\n",
    "outputs.to_csv(filename + '.csv', index = False)"
   ]
  },
  {
   "cell_type": "code",
   "execution_count": null,
   "metadata": {},
   "outputs": [],
   "source": [
    "outputs"
   ]
  },
  {
   "cell_type": "code",
   "execution_count": null,
   "metadata": {},
   "outputs": [],
   "source": []
  }
 ],
 "metadata": {
  "kernelspec": {
   "display_name": "Python 3",
   "language": "python",
   "name": "python3"
  },
  "language_info": {
   "codemirror_mode": {
    "name": "ipython",
    "version": 3
   },
   "file_extension": ".py",
   "mimetype": "text/x-python",
   "name": "python",
   "nbconvert_exporter": "python",
   "pygments_lexer": "ipython3",
   "version": "3.8.5"
  }
 },
 "nbformat": 4,
 "nbformat_minor": 4
}
