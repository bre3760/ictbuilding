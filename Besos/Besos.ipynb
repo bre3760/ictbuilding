{
 "cells": [
  {
   "cell_type": "code",
   "execution_count": 1,
   "metadata": {},
   "outputs": [],
   "source": [
    "import pandas as pd\n",
    "import matplotlib.pyplot as plt\n",
    "from seaborn import heatmap\n",
    "from seaborn import pairplot\n",
    "from besos import eppy_funcs as ef\n",
    "from besos import sampling\n",
    "from besos.evaluator import EvaluatorEP\n",
    "from besos.parameters import RangeParameter, CategoryParameter, expand_plist, FieldSelector, Parameter, wwr\n",
    "from besos.problem import EPProblem\n",
    "plt.rcParams['figure.figsize'] = [8, 8]"
   ]
  },
  {
   "cell_type": "code",
   "execution_count": 2,
   "metadata": {},
   "outputs": [
    {
     "ename": "FileNotFoundError",
     "evalue": "[Errno 2] No such file or directory: '/home/ict4bd/model_final_triple.idf'",
     "output_type": "error",
     "traceback": [
      "\u001b[0;31m---------------------------------------------------------------------------\u001b[0m",
      "\u001b[0;31mFileNotFoundError\u001b[0m                         Traceback (most recent call last)",
      "\u001b[0;32m<ipython-input-2-ddcafaab1fc6>\u001b[0m in \u001b[0;36m<module>\u001b[0;34m\u001b[0m\n\u001b[1;32m      1\u001b[0m \u001b[0mfilename\u001b[0m \u001b[0;34m=\u001b[0m \u001b[0;34m'model_final_triple'\u001b[0m\u001b[0;34m\u001b[0m\u001b[0;34m\u001b[0m\u001b[0m\n\u001b[0;32m----> 2\u001b[0;31m \u001b[0mbuilding\u001b[0m \u001b[0;34m=\u001b[0m \u001b[0mef\u001b[0m\u001b[0;34m.\u001b[0m\u001b[0mget_building\u001b[0m\u001b[0;34m(\u001b[0m\u001b[0;34m'/home/ict4bd/'\u001b[0m\u001b[0;34m+\u001b[0m\u001b[0mfilename\u001b[0m\u001b[0;34m+\u001b[0m\u001b[0;34m'.idf'\u001b[0m\u001b[0;34m)\u001b[0m\u001b[0;34m\u001b[0m\u001b[0;34m\u001b[0m\u001b[0m\n\u001b[0m",
      "\u001b[0;32m~/Environments/buildingsEnv/lib/python3.8/site-packages/besos/eppy_funcs.py\u001b[0m in \u001b[0;36mget_building\u001b[0;34m(building, data_dict, output_directory, mode, version, ep_path)\u001b[0m\n\u001b[1;32m    142\u001b[0m         \u001b[0mbuilding\u001b[0m \u001b[0;34m=\u001b[0m \u001b[0mconfig\u001b[0m\u001b[0;34m.\u001b[0m\u001b[0mfiles\u001b[0m\u001b[0;34m[\u001b[0m\u001b[0mmode\u001b[0m\u001b[0;34m]\u001b[0m\u001b[0;34m\u001b[0m\u001b[0;34m\u001b[0m\u001b[0m\n\u001b[1;32m    143\u001b[0m     \u001b[0;32mif\u001b[0m \u001b[0mmode\u001b[0m \u001b[0;34m==\u001b[0m \u001b[0;34m\"idf\"\u001b[0m\u001b[0;34m:\u001b[0m\u001b[0;34m\u001b[0m\u001b[0;34m\u001b[0m\u001b[0m\n\u001b[0;32m--> 144\u001b[0;31m         idf = get_idf(\n\u001b[0m\u001b[1;32m    145\u001b[0m             \u001b[0midf_file\u001b[0m\u001b[0;34m=\u001b[0m\u001b[0mbuilding\u001b[0m\u001b[0;34m,\u001b[0m \u001b[0midd_file\u001b[0m\u001b[0;34m=\u001b[0m\u001b[0mdata_dict\u001b[0m\u001b[0;34m,\u001b[0m \u001b[0moutput_directory\u001b[0m\u001b[0;34m=\u001b[0m\u001b[0moutput_directory\u001b[0m\u001b[0;34m\u001b[0m\u001b[0;34m\u001b[0m\u001b[0m\n\u001b[1;32m    146\u001b[0m         )\n",
      "\u001b[0;32m~/Environments/buildingsEnv/lib/python3.8/site-packages/besos/eppy_funcs.py\u001b[0m in \u001b[0;36mget_idf\u001b[0;34m(idf_file, idd_file, version, output_directory, ep_path)\u001b[0m\n\u001b[1;32m    110\u001b[0m     \u001b[0;31m# calling IDF causes a warning to appear, currently redirect_stdout hides this.\u001b[0m\u001b[0;34m\u001b[0m\u001b[0;34m\u001b[0m\u001b[0;34m\u001b[0m\u001b[0m\n\u001b[1;32m    111\u001b[0m     \u001b[0;32mwith\u001b[0m \u001b[0mcontextlib\u001b[0m\u001b[0;34m.\u001b[0m\u001b[0mredirect_stdout\u001b[0m\u001b[0;34m(\u001b[0m\u001b[0;32mNone\u001b[0m\u001b[0;34m)\u001b[0m\u001b[0;34m:\u001b[0m\u001b[0;34m\u001b[0m\u001b[0;34m\u001b[0m\u001b[0m\n\u001b[0;32m--> 112\u001b[0;31m         \u001b[0midf\u001b[0m \u001b[0;34m=\u001b[0m \u001b[0mIDF\u001b[0m\u001b[0;34m(\u001b[0m\u001b[0midf_file\u001b[0m\u001b[0;34m)\u001b[0m\u001b[0;34m\u001b[0m\u001b[0;34m\u001b[0m\u001b[0m\n\u001b[0m\u001b[1;32m    113\u001b[0m     \u001b[0;31m# override the output location so I stop messing up\u001b[0m\u001b[0;34m\u001b[0m\u001b[0;34m\u001b[0m\u001b[0;34m\u001b[0m\u001b[0m\n\u001b[1;32m    114\u001b[0m     \u001b[0midf\u001b[0m\u001b[0;34m.\u001b[0m\u001b[0mrun\u001b[0m \u001b[0;34m=\u001b[0m \u001b[0mpartial\u001b[0m\u001b[0;34m(\u001b[0m\u001b[0midf\u001b[0m\u001b[0;34m.\u001b[0m\u001b[0mrun\u001b[0m\u001b[0;34m,\u001b[0m \u001b[0moutput_directory\u001b[0m\u001b[0;34m=\u001b[0m\u001b[0moutput_directory\u001b[0m\u001b[0;34m)\u001b[0m\u001b[0;34m\u001b[0m\u001b[0;34m\u001b[0m\u001b[0m\n",
      "\u001b[0;32m~/Environments/buildingsEnv/lib/python3.8/site-packages/eppy/modeleditor.py\u001b[0m in \u001b[0;36m__init__\u001b[0;34m(self, idfname, epw)\u001b[0m\n\u001b[1;32m    548\u001b[0m         \u001b[0;32mif\u001b[0m \u001b[0midfname\u001b[0m \u001b[0;34m!=\u001b[0m \u001b[0;32mNone\u001b[0m\u001b[0;34m:\u001b[0m\u001b[0;34m\u001b[0m\u001b[0;34m\u001b[0m\u001b[0m\n\u001b[1;32m    549\u001b[0m             \u001b[0mself\u001b[0m\u001b[0;34m.\u001b[0m\u001b[0midfname\u001b[0m \u001b[0;34m=\u001b[0m \u001b[0midfname\u001b[0m\u001b[0;34m\u001b[0m\u001b[0;34m\u001b[0m\u001b[0m\n\u001b[0;32m--> 550\u001b[0;31m             \u001b[0mself\u001b[0m\u001b[0;34m.\u001b[0m\u001b[0mread\u001b[0m\u001b[0;34m(\u001b[0m\u001b[0;34m)\u001b[0m\u001b[0;34m\u001b[0m\u001b[0;34m\u001b[0m\u001b[0m\n\u001b[0m\u001b[1;32m    551\u001b[0m         \u001b[0;32mif\u001b[0m \u001b[0mepw\u001b[0m \u001b[0;34m!=\u001b[0m \u001b[0;32mNone\u001b[0m\u001b[0;34m:\u001b[0m\u001b[0;34m\u001b[0m\u001b[0;34m\u001b[0m\u001b[0m\n\u001b[1;32m    552\u001b[0m             \u001b[0mself\u001b[0m\u001b[0;34m.\u001b[0m\u001b[0mepw\u001b[0m \u001b[0;34m=\u001b[0m \u001b[0mepw\u001b[0m\u001b[0;34m\u001b[0m\u001b[0;34m\u001b[0m\u001b[0m\n",
      "\u001b[0;32m~/Environments/buildingsEnv/lib/python3.8/site-packages/besos/IDF_class.py\u001b[0m in \u001b[0;36mread\u001b[0;34m(self)\u001b[0m\n\u001b[1;32m     20\u001b[0m                 \u001b[0;32mreturn\u001b[0m \u001b[0msuper\u001b[0m\u001b[0;34m(\u001b[0m\u001b[0;34m)\u001b[0m\u001b[0;34m.\u001b[0m\u001b[0m__getitem__\u001b[0m\u001b[0;34m(\u001b[0m\u001b[0mkey\u001b[0m\u001b[0;34m.\u001b[0m\u001b[0mupper\u001b[0m\u001b[0;34m(\u001b[0m\u001b[0;34m)\u001b[0m\u001b[0;34m)\u001b[0m\u001b[0;34m\u001b[0m\u001b[0;34m\u001b[0m\u001b[0m\n\u001b[1;32m     21\u001b[0m \u001b[0;34m\u001b[0m\u001b[0m\n\u001b[0;32m---> 22\u001b[0;31m         \u001b[0msuper\u001b[0m\u001b[0;34m(\u001b[0m\u001b[0;34m)\u001b[0m\u001b[0;34m.\u001b[0m\u001b[0mread\u001b[0m\u001b[0;34m(\u001b[0m\u001b[0;34m)\u001b[0m\u001b[0;34m\u001b[0m\u001b[0;34m\u001b[0m\u001b[0m\n\u001b[0m\u001b[1;32m     23\u001b[0m         \u001b[0mself\u001b[0m\u001b[0;34m.\u001b[0m\u001b[0midfobjects\u001b[0m \u001b[0;34m=\u001b[0m \u001b[0mAllCapsDict\u001b[0m\u001b[0;34m(\u001b[0m\u001b[0mself\u001b[0m\u001b[0;34m.\u001b[0m\u001b[0midfobjects\u001b[0m\u001b[0;34m)\u001b[0m\u001b[0;34m\u001b[0m\u001b[0;34m\u001b[0m\u001b[0m\n\u001b[1;32m     24\u001b[0m \u001b[0;34m\u001b[0m\u001b[0m\n",
      "\u001b[0;32m~/Environments/buildingsEnv/lib/python3.8/site-packages/geomeppy/patches.py\u001b[0m in \u001b[0;36mread\u001b[0;34m(self)\u001b[0m\n\u001b[1;32m    260\u001b[0m             \u001b[0midd_index\u001b[0m\u001b[0;34m,\u001b[0m\u001b[0;34m\u001b[0m\u001b[0;34m\u001b[0m\u001b[0m\n\u001b[1;32m    261\u001b[0m             \u001b[0mversiontuple\u001b[0m\u001b[0;34m,\u001b[0m\u001b[0;34m\u001b[0m\u001b[0;34m\u001b[0m\u001b[0m\n\u001b[0;32m--> 262\u001b[0;31m         \u001b[0;34m)\u001b[0m \u001b[0;34m=\u001b[0m \u001b[0midfreader1\u001b[0m\u001b[0;34m(\u001b[0m\u001b[0;34m\u001b[0m\u001b[0;34m\u001b[0m\u001b[0m\n\u001b[0m\u001b[1;32m    263\u001b[0m             \u001b[0mself\u001b[0m\u001b[0;34m.\u001b[0m\u001b[0midfname\u001b[0m\u001b[0;34m,\u001b[0m \u001b[0mself\u001b[0m\u001b[0;34m.\u001b[0m\u001b[0middname\u001b[0m\u001b[0;34m,\u001b[0m \u001b[0mself\u001b[0m\u001b[0;34m,\u001b[0m \u001b[0mcommdct\u001b[0m\u001b[0;34m=\u001b[0m\u001b[0mself\u001b[0m\u001b[0;34m.\u001b[0m\u001b[0midd_info\u001b[0m\u001b[0;34m,\u001b[0m \u001b[0mblock\u001b[0m\u001b[0;34m=\u001b[0m\u001b[0mself\u001b[0m\u001b[0;34m.\u001b[0m\u001b[0mblock\u001b[0m\u001b[0;34m\u001b[0m\u001b[0;34m\u001b[0m\u001b[0m\n\u001b[1;32m    264\u001b[0m         )\n",
      "\u001b[0;32m~/Environments/buildingsEnv/lib/python3.8/site-packages/geomeppy/patches.py\u001b[0m in \u001b[0;36midfreader1\u001b[0;34m(fname, iddfile, theidf, conv, commdct, block)\u001b[0m\n\u001b[1;32m     89\u001b[0m     \"\"\"\n\u001b[1;32m     90\u001b[0m     \u001b[0mversiontuple\u001b[0m \u001b[0;34m=\u001b[0m \u001b[0middversiontuple\u001b[0m\u001b[0;34m(\u001b[0m\u001b[0middfile\u001b[0m\u001b[0;34m)\u001b[0m\u001b[0;34m\u001b[0m\u001b[0;34m\u001b[0m\u001b[0m\n\u001b[0;32m---> 91\u001b[0;31m     block, data, commdct, idd_index = readdatacommdct1(\n\u001b[0m\u001b[1;32m     92\u001b[0m         \u001b[0mfname\u001b[0m\u001b[0;34m,\u001b[0m \u001b[0middfile\u001b[0m\u001b[0;34m=\u001b[0m\u001b[0middfile\u001b[0m\u001b[0;34m,\u001b[0m \u001b[0mcommdct\u001b[0m\u001b[0;34m=\u001b[0m\u001b[0mcommdct\u001b[0m\u001b[0;34m,\u001b[0m \u001b[0mblock\u001b[0m\u001b[0;34m=\u001b[0m\u001b[0mblock\u001b[0m\u001b[0;34m\u001b[0m\u001b[0;34m\u001b[0m\u001b[0m\n\u001b[1;32m     93\u001b[0m     )\n",
      "\u001b[0;32m~/Environments/buildingsEnv/lib/python3.8/site-packages/geomeppy/patches.py\u001b[0m in \u001b[0;36mreaddatacommdct1\u001b[0;34m(idfname, iddfile, commdct, block)\u001b[0m\n\u001b[1;32m    136\u001b[0m         \u001b[0midd_index\u001b[0m \u001b[0;34m=\u001b[0m \u001b[0mdict\u001b[0m\u001b[0;34m(\u001b[0m\u001b[0mname2refs\u001b[0m\u001b[0;34m=\u001b[0m\u001b[0mname2refs\u001b[0m\u001b[0;34m,\u001b[0m \u001b[0mref2names\u001b[0m\u001b[0;34m=\u001b[0m\u001b[0mref2namesdct\u001b[0m\u001b[0;34m)\u001b[0m\u001b[0;34m\u001b[0m\u001b[0;34m\u001b[0m\u001b[0m\n\u001b[1;32m    137\u001b[0m         \u001b[0mupdated_commdct\u001b[0m \u001b[0;34m=\u001b[0m \u001b[0middindex\u001b[0m\u001b[0;34m.\u001b[0m\u001b[0mref2names2commdct\u001b[0m\u001b[0;34m(\u001b[0m\u001b[0mref2namesdct\u001b[0m\u001b[0;34m,\u001b[0m \u001b[0mcommdct\u001b[0m\u001b[0;34m)\u001b[0m\u001b[0;34m\u001b[0m\u001b[0;34m\u001b[0m\u001b[0m\n\u001b[0;32m--> 138\u001b[0;31m     \u001b[0mdata\u001b[0m \u001b[0;34m=\u001b[0m \u001b[0meplusdata\u001b[0m\u001b[0;34m.\u001b[0m\u001b[0mEplusdata\u001b[0m\u001b[0;34m(\u001b[0m\u001b[0mtheidd\u001b[0m\u001b[0;34m,\u001b[0m \u001b[0midfname\u001b[0m\u001b[0;34m)\u001b[0m\u001b[0;34m\u001b[0m\u001b[0;34m\u001b[0m\u001b[0m\n\u001b[0m\u001b[1;32m    139\u001b[0m     \u001b[0;32mreturn\u001b[0m \u001b[0mblock\u001b[0m\u001b[0;34m,\u001b[0m \u001b[0mdata\u001b[0m\u001b[0;34m,\u001b[0m \u001b[0mupdated_commdct\u001b[0m\u001b[0;34m,\u001b[0m \u001b[0midd_index\u001b[0m\u001b[0;34m\u001b[0m\u001b[0;34m\u001b[0m\u001b[0m\n\u001b[1;32m    140\u001b[0m \u001b[0;34m\u001b[0m\u001b[0m\n",
      "\u001b[0;32m~/Environments/buildingsEnv/lib/python3.8/site-packages/eppy/EPlusInterfaceFunctions/eplusdata.py\u001b[0m in \u001b[0;36m__init__\u001b[0;34m(self, dictfile, fname)\u001b[0m\n\u001b[1;32m    104\u001b[0m             \u001b[0mself\u001b[0m\u001b[0;34m.\u001b[0m\u001b[0mmakedict\u001b[0m\u001b[0;34m(\u001b[0m\u001b[0mdictfile\u001b[0m\u001b[0;34m,\u001b[0m \u001b[0mfnamefobject\u001b[0m\u001b[0;34m)\u001b[0m\u001b[0;34m\u001b[0m\u001b[0;34m\u001b[0m\u001b[0m\n\u001b[1;32m    105\u001b[0m         \u001b[0;32mif\u001b[0m \u001b[0misinstance\u001b[0m\u001b[0;34m(\u001b[0m\u001b[0mfname\u001b[0m\u001b[0;34m,\u001b[0m \u001b[0mstr\u001b[0m\u001b[0;34m)\u001b[0m \u001b[0;32mand\u001b[0m \u001b[0misinstance\u001b[0m\u001b[0;34m(\u001b[0m\u001b[0mdictfile\u001b[0m\u001b[0;34m,\u001b[0m \u001b[0mIdd\u001b[0m\u001b[0;34m)\u001b[0m\u001b[0;34m:\u001b[0m\u001b[0;34m\u001b[0m\u001b[0;34m\u001b[0m\u001b[0m\n\u001b[0;32m--> 106\u001b[0;31m             \u001b[0mfnamefobject\u001b[0m \u001b[0;34m=\u001b[0m \u001b[0mopen\u001b[0m\u001b[0;34m(\u001b[0m\u001b[0mfname\u001b[0m\u001b[0;34m,\u001b[0m \u001b[0;34m\"rb\"\u001b[0m\u001b[0;34m)\u001b[0m\u001b[0;34m\u001b[0m\u001b[0;34m\u001b[0m\u001b[0m\n\u001b[0m\u001b[1;32m    107\u001b[0m             \u001b[0mself\u001b[0m\u001b[0;34m.\u001b[0m\u001b[0mmakedict\u001b[0m\u001b[0;34m(\u001b[0m\u001b[0mdictfile\u001b[0m\u001b[0;34m,\u001b[0m \u001b[0mfnamefobject\u001b[0m\u001b[0;34m)\u001b[0m\u001b[0;34m\u001b[0m\u001b[0;34m\u001b[0m\u001b[0m\n\u001b[1;32m    108\u001b[0m         \u001b[0;32mtry\u001b[0m\u001b[0;34m:\u001b[0m\u001b[0;34m\u001b[0m\u001b[0;34m\u001b[0m\u001b[0m\n",
      "\u001b[0;31mFileNotFoundError\u001b[0m: [Errno 2] No such file or directory: '/home/ict4bd/model_final_triple.idf'"
     ]
    }
   ],
   "source": [
    "filename = 'model_final_triple'\n",
    "building = ef.get_building('/home/ict4bd/'+filename+'.idf')"
   ]
  },
  {
   "cell_type": "code",
   "execution_count": null,
   "metadata": {},
   "outputs": [],
   "source": [
    "[materials.Name for materials in building.idfobjects[\"MATERIAL\"]] # get a list of the Name property of all IDF objects of class MATERIAL"
   ]
  },
  {
   "cell_type": "code",
   "execution_count": null,
   "metadata": {},
   "outputs": [],
   "source": [
    "building.idfobjects[\"BUILDING\"][0]"
   ]
  },
  {
   "cell_type": "code",
   "execution_count": null,
   "metadata": {},
   "outputs": [],
   "source": [
    "building.idfobjects[\"MATERIAL\"]"
   ]
  },
  {
   "cell_type": "code",
   "execution_count": null,
   "metadata": {},
   "outputs": [],
   "source": [
    "insulation = FieldSelector(class_name='Material',\\\n",
    "                           object_name='XPS Extruded Polystyrene  - CO2 Blowing_.2',\\\n",
    "                           field_name='Thickness')\n",
    "ach_bedroom = FieldSelector(class_name='ZoneVentilation:DesignFlowRate',object_name='Block1:Bedroom Nat Vent', field_name='Air Changes per Hour')\n",
    "ach_bathroom=FieldSelector(class_name='ZoneVentilation:DesignFlowRate',object_name='Block1:Bathroom Nat Vent', field_name='Air Changes per Hour')\n",
    "ach_kitchen=FieldSelector(class_name='ZoneVentilation:DesignFlowRate',object_name='Block1:Kitchen Nat Vent', field_name='Air Changes per Hour')\n",
    "shading_bedroom = FieldSelector(class_name='WindowShadingControl',object_name='1001-Block1:Bedroom', field_name='Setpoint')\n",
    "shading_bathroom = FieldSelector(class_name='WindowShadingControl',object_name='1002-Block1:Bathroom', field_name='Setpoint')\n",
    "shading_kitchen = FieldSelector(class_name='WindowShadingControl',object_name='1003-Block1:Kitchen', field_name='Setpoint')"
   ]
  },
  {
   "cell_type": "code",
   "execution_count": null,
   "metadata": {},
   "outputs": [],
   "source": [
    "zero_to_one_exclusive = CategoryParameter(options=[0.00001, 0.10, 0.20])\n",
    "ach_parameters = CategoryParameter(options=[0,5])\n",
    "shading_parameters = CategoryParameter(options=[120,2000])"
   ]
  },
  {
   "cell_type": "code",
   "execution_count": null,
   "metadata": {},
   "outputs": [],
   "source": [
    "insulation_param = Parameter(selector=insulation,\n",
    "                                 value_descriptor=zero_to_one_exclusive,\n",
    "                                 name='Insulation Thickness')\n",
    "\n",
    "ach_bedroom_param = Parameter(selector=ach_bedroom,\n",
    "                                 value_descriptor=ach_parameters,\n",
    "                                 name='Air Changes per Hour Bedroom')\n",
    "\n",
    "ach_bathroom_param = Parameter(selector=ach_bathroom,\n",
    "                                 value_descriptor=ach_parameters,\n",
    "                                 name='Air Changes per Hour Bathroom')\n",
    "\n",
    "ach_kitchen_param = Parameter(selector=ach_kitchen,\n",
    "                                 value_descriptor=ach_parameters,\n",
    "                                 name='Air Changes per Hour Kitchen')\n",
    "\n",
    "shading_bedroom_param=Parameter(selector=shading_bedroom,\n",
    "                                 value_descriptor=shading_parameters,\n",
    "                                 name='Shading Bedroom')\n",
    "\n",
    "shading_bathroom_param=Parameter(selector=shading_bathroom,\n",
    "                                 value_descriptor=shading_parameters,\n",
    "                                 name='Shading Bathroom')\n",
    "\n",
    "shading_kitchen_param=Parameter(selector=shading_kitchen,\n",
    "                                 value_descriptor=shading_parameters,\n",
    "                                 name='Shading Kitchen')"
   ]
  },
  {
   "cell_type": "code",
   "execution_count": null,
   "metadata": {},
   "outputs": [],
   "source": [
    "window_to_wall = wwr(RangeParameter(0.1,0.9)) # use a special shortcut to get the window-to-wall parameter\n",
    "window_to_wall"
   ]
  },
  {
   "cell_type": "code",
   "execution_count": null,
   "metadata": {},
   "outputs": [],
   "source": [
    "#previous = building.idfobjects[\"BUILDING\"][0].obj[2]\n",
    "#building.idfobjects[\"BUILDING\"][0].obj[2] = [0.0, 90.0, 180.0, 270.0]\n",
    "\n",
    "orientation_param = FieldSelector(class_name='Building',\\\n",
    "                           object_name='Building',\\\n",
    "                           field_name='North Axis')\n",
    "orientation_parameters = CategoryParameter(options=[0.0, 90.0, 180.0, 270.0])\n",
    "orientation = Parameter(selector = orientation_param, value_descriptor = orientation_parameters, name = 'Orientation')\n",
    "\n",
    "orientation"
   ]
  },
  {
   "cell_type": "code",
   "execution_count": null,
   "metadata": {},
   "outputs": [],
   "source": [
    "# Add all the parameters to a single parameters object.\n",
    "#parameters = [insulation_param] + [window_to_wall]\n",
    "parameters = [window_to_wall,insulation_param,orientation,ach_bedroom_param,ach_bathroom_param,ach_kitchen_param,shading_bedroom_param,shading_bathroom_param,shading_kitchen_param] \n",
    "\n",
    "# Let us try to optimize the Cooling and the Heating of facility at the same time\n",
    "objectives = ['Electricity:Facility','DistrictCooling:Facility'] \n",
    "#'InteriorLights:Electricity' has correlation circa 1 with ELectricity:Facility, we remove it from the obj\n",
    "# These are hourly values, default is sum all the hourly values\n",
    "\n",
    "# Construct the problem \n",
    "problem = EPProblem(parameters, objectives) # Make a problem instance from the parameters and objectives"
   ]
  },
  {
   "cell_type": "code",
   "execution_count": null,
   "metadata": {},
   "outputs": [],
   "source": [
    "samples = sampling.dist_sampler(sampling.lhs, problem, num_samples=12)\n",
    "\n",
    "#samples = pd.read_csv(filename+'.csv').drop(['Electricity:Facility','DistrictCooling:Facility'], axis=1)\n",
    "samples"
   ]
  },
  {
   "cell_type": "code",
   "execution_count": null,
   "metadata": {},
   "outputs": [],
   "source": [
    "evaluator = EvaluatorEP(problem, building, out_dir='outputdir', err_dir='outputdir',epw='/home/ict4bd/larnaca.epw')\n",
    "outputs = evaluator.df_apply(samples, keep_input=True)\n",
    "outputs.describe()"
   ]
  },
  {
   "cell_type": "code",
   "execution_count": null,
   "metadata": {},
   "outputs": [],
   "source": [
    "_ = outputs.plot(x=objectives[0], y=objectives[1], style = 'o')\n",
    "plt.xlabel(objectives[0])\n",
    "plt.ylabel(objectives[1])"
   ]
  },
  {
   "cell_type": "code",
   "execution_count": null,
   "metadata": {},
   "outputs": [],
   "source": [
    "outputs = outputs.sort_values(by=objectives[1])\n",
    "ax=outputs.plot.bar(subplots=True,legend=None, figsize=(8,15))\n",
    "outputs.to_csv(filename + '.csv', index = False)"
   ]
  },
  {
   "cell_type": "code",
   "execution_count": null,
   "metadata": {},
   "outputs": [],
   "source": [
    "outputs"
   ]
  },
  {
   "cell_type": "code",
   "execution_count": null,
   "metadata": {},
   "outputs": [],
   "source": []
  },
  {
   "cell_type": "code",
   "execution_count": null,
   "metadata": {},
   "outputs": [],
   "source": []
  }
 ],
 "metadata": {
  "kernelspec": {
   "display_name": "Python 3",
   "language": "python",
   "name": "python3"
  },
  "language_info": {
   "codemirror_mode": {
    "name": "ipython",
    "version": 3
   },
   "file_extension": ".py",
   "mimetype": "text/x-python",
   "name": "python",
   "nbconvert_exporter": "python",
   "pygments_lexer": "ipython3",
   "version": "3.8.5"
  }
 },
 "nbformat": 4,
 "nbformat_minor": 4
}
