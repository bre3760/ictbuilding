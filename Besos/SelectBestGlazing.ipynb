{
 "cells": [
  {
   "cell_type": "code",
   "execution_count": 36,
   "metadata": {},
   "outputs": [],
   "source": [
    "import pandas as pd\n",
    "import matplotlib.pyplot as plt\n",
    "from seaborn import heatmap\n",
    "from seaborn import pairplot\n",
    "from besos import eppy_funcs as ef\n",
    "from besos import sampling\n",
    "from besos.evaluator import EvaluatorEP\n",
    "from besos.parameters import RangeParameter, CategoryParameter, expand_plist, FieldSelector, Parameter, wwr\n",
    "from besos.problem import EPProblem\n",
    "plt.rcParams['figure.figsize'] = [8, 8]"
   ]
  },
  {
   "cell_type": "code",
   "execution_count": 37,
   "metadata": {},
   "outputs": [],
   "source": [
    "Single = pd.read_csv('model_final_single_orientation.csv').iloc[0]\n",
    "Double = pd.read_csv('model_final_double_orientation.csv').iloc[0]\n",
    "Triple = pd.read_csv('model_final_triple_orientation.csv').iloc[0]"
   ]
  },
  {
   "cell_type": "code",
   "execution_count": 38,
   "metadata": {},
   "outputs": [
    {
     "data": {
      "image/png": "[encoded data removed]",
      "text/plain": [
       "<Figure size 576x576 with 1 Axes>"
      ]
     },
     "metadata": {
      "needs_background": "light"
     },
     "output_type": "display_data"
    },
    {
     "data": {
      "image/png": "[encoded data removed]",
      "text/plain": [
       "<Figure size 576x576 with 1 Axes>"
      ]
     },
     "metadata": {
      "needs_background": "light"
     },
     "output_type": "display_data"
    }
   ],
   "source": [
    "df1 = pd.DataFrame({'Glazing':['Single', 'Double', 'Triple'], 'DistrictCooling:Facility':[Single['DistrictCooling:Facility'], Double['DistrictCooling:Facility'], Triple['DistrictCooling:Facility']]})\n",
    "ax = df1.plot.bar(x='Glazing', y='DistrictCooling:Facility', rot=0)\n",
    "\n",
    "df2 = pd.DataFrame({'Glazing':['Single', 'Double', 'Triple'], 'Electricity:Facility':[Single['Electricity:Facility'], Double['Electricity:Facility'], Triple['Electricity:Facility']]})\n",
    "ax = df2.plot.bar(x='Glazing', y='Electricity:Facility', rot=0)\n",
    "#ax=values.plot.bar(subplots=True,legend=None, figsize=(8,15))\n",
    "#plt.hist([single['DistrictCooling:Facility'], double['DistrictCooling:Facility'], triple['DistrictCooling:Facility']])\n",
    "\n"
   ]
  },
  {
   "cell_type": "code",
   "execution_count": 42,
   "metadata": {},
   "outputs": [
    {
     "name": "stdout",
     "output_type": "stream",
     "text": [
      "Final configuration: \n",
      " Window to Wall Ratio             2.106600e-01\n",
      "Insulation Thickness             2.000000e-01\n",
      "Orientation                      2.700000e+02\n",
      "Air Changes per Hour Bedroom     5.000000e+00\n",
      "Air Changes per Hour Bathroom    0.000000e+00\n",
      "Air Changes per Hour Kitchen     5.000000e+00\n",
      "Shading Bedroom                  2.000000e+03\n",
      "Shading Bathroom                 2.000000e+03\n",
      "Shading Kitchen                  2.000000e+03\n",
      "Electricity:Facility             3.923030e+09\n",
      "DistrictCooling:Facility         7.170031e+09\n",
      "Name: 0, dtype: float64\n"
     ]
    }
   ],
   "source": [
    "minDistrCooling = min(df1['DistrictCooling:Facility'])\n",
    "bestGlazing = df1.loc[df1['DistrictCooling:Facility'] == minDistrCooling]['Glazing'].values[0]\n",
    "\n",
    "if bestGlazing == 'Single':\n",
    "    print(\"Final configuration: \\n\", Single)\n",
    "elif bestGlazing == 'Double':\n",
    "    print(\"Final configuration: \\n\", Double)\n",
    "elif bestGlazing == 'Triple':\n",
    "    print(\"Final configuration: \\n\", Triple)\n",
    "else:\n",
    "    print(\"Error name\")"
   ]
  },
  {
   "cell_type": "code",
   "execution_count": null,
   "metadata": {},
   "outputs": [],
   "source": []
  }
 ],
 "metadata": {
  "kernelspec": {
   "display_name": "Python 3",
   "language": "python",
   "name": "python3"
  },
  "language_info": {
   "codemirror_mode": {
    "name": "ipython",
    "version": 3
   },
   "file_extension": ".py",
   "mimetype": "text/x-python",
   "name": "python",
   "nbconvert_exporter": "python",
   "pygments_lexer": "ipython3",
   "version": "3.8.5"
  }
 },
 "nbformat": 4,
 "nbformat_minor": 4
}
