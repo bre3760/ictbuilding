{
 "cells": [
  {
   "cell_type": "code",
   "execution_count": 40,
   "metadata": {},
   "outputs": [],
   "source": [
    "import pandas as pd\n",
    "import matplotlib.pyplot as plt\n",
    "from seaborn import heatmap\n",
    "from seaborn import pairplot\n",
    "from besos import eppy_funcs as ef\n",
    "from besos import sampling\n",
    "from besos.evaluator import EvaluatorEP\n",
    "from besos.parameters import RangeParameter, CategoryParameter, expand_plist, FieldSelector, Parameter, wwr\n",
    "from besos.problem import EPProblem\n",
    "plt.rcParams['figure.figsize'] = [8, 8]"
   ]
  },
  {
   "cell_type": "code",
   "execution_count": 41,
   "metadata": {},
   "outputs": [],
   "source": [
    "filename = 'model_final_triple'\n",
    "#building = ef.ge t_building('/home/ict4bd/'+filename+'.idf')\n",
    "building = ef.get_building('/home/brendan/Desktop/polito/ICTBuilding/labBuilding/'+filename+'.idf')"
   ]
  },
  {
   "cell_type": "code",
   "execution_count": 42,
   "metadata": {},
   "outputs": [
    {
     "data": {
      "text/plain": [
       "['Cast Concrete (Dense)_.1',\n",
       " 'Asphalt 1_.O1',\n",
       " 'MW Glass Wool (rolls)_.1445',\n",
       " 'Plasterboard_.O13',\n",
       " 'Gypsum Plasterboard_.O25',\n",
       " 'Cement/plaster/mortar - cement_.O3',\n",
       " 'XPS Extruded Polystyrene  - CO2 Blowing_.2',\n",
       " 'Aerated Concrete Block_.2']"
      ]
     },
     "execution_count": 42,
     "metadata": {},
     "output_type": "execute_result"
    }
   ],
   "source": [
    "[materials.Name for materials in building.idfobjects[\"MATERIAL\"]] # get a list of the Name property of all IDF objects of class MATERIAL"
   ]
  },
  {
   "cell_type": "code",
   "execution_count": 43,
   "metadata": {},
   "outputs": [
    {
     "data": {
      "text/plain": [
       "\n",
       "Building,\n",
       "    Building,                 !- Name\n",
       "    0,                        !- North Axis\n",
       "    Suburbs,                  !- Terrain\n",
       "    0.04,                     !- Loads Convergence Tolerance Value\n",
       "    0.4,                      !- Temperature Convergence Tolerance Value\n",
       "    FullExterior,             !- Solar Distribution\n",
       "    25,                       !- Maximum Number of Warmup Days\n",
       "    6;                        !- Minimum Number of Warmup Days"
      ]
     },
     "execution_count": 43,
     "metadata": {},
     "output_type": "execute_result"
    }
   ],
   "source": [
    "building.idfobjects[\"BUILDING\"][0]"
   ]
  },
  {
   "cell_type": "code",
   "execution_count": 44,
   "metadata": {},
   "outputs": [],
   "source": [
    "insulation = FieldSelector(class_name='Material',\\\n",
    "                           object_name='XPS Extruded Polystyrene  - CO2 Blowing_.2',\\\n",
    "                           field_name='Thickness')\n",
    "ach_bedroom = FieldSelector(class_name='ZoneVentilation:DesignFlowRate',object_name='Block1:Bedroom Nat Vent', field_name='Air Changes per Hour')\n",
    "ach_bathroom=FieldSelector(class_name='ZoneVentilation:DesignFlowRate',object_name='Block1:Bathroom Nat Vent', field_name='Air Changes per Hour')\n",
    "ach_kitchen=FieldSelector(class_name='ZoneVentilation:DesignFlowRate',object_name='Block1:Kitchen Nat Vent', field_name='Air Changes per Hour')\n",
    "shading_bedroom = FieldSelector(class_name='WindowShadingControl',object_name='1001-Block1:Bedroom', field_name='Setpoint')\n",
    "shading_bathroom = FieldSelector(class_name='WindowShadingControl',object_name='1002-Block1:Bathroom', field_name='Setpoint')\n",
    "shading_kitchen = FieldSelector(class_name='WindowShadingControl',object_name='1003-Block1:Kitchen', field_name='Setpoint')\n",
    "orientation = FieldSelector(class_name='Building',object_name='Building',field_name='North Axis')"
   ]
  },
  {
   "cell_type": "code",
   "execution_count": 45,
   "metadata": {},
   "outputs": [],
   "source": [
    "zero_to_one_exclusive = CategoryParameter(options=[0.00001, 0.10, 0.20])\n",
    "ach_parameters = CategoryParameter(options=[0,5])\n",
    "shading_parameters = CategoryParameter(options=[120,2000])\n",
    "orientation_parameters = CategoryParameter(options=[0.0, 90.0, 180.0, 270.0])"
   ]
  },
  {
   "cell_type": "code",
   "execution_count": 46,
   "metadata": {},
   "outputs": [],
   "source": [
    "insulation_param = Parameter(selector=insulation,\n",
    "                                 value_descriptor=zero_to_one_exclusive,\n",
    "                                 name='Insulation Thickness')\n",
    "\n",
    "ach_bedroom_param = Parameter(selector=ach_bedroom,\n",
    "                                 value_descriptor=ach_parameters,\n",
    "                                 name='Air Changes per Hour Bedroom')\n",
    "\n",
    "ach_bathroom_param = Parameter(selector=ach_bathroom,\n",
    "                                 value_descriptor=ach_parameters,\n",
    "                                 name='Air Changes per Hour Bathroom')\n",
    "\n",
    "ach_kitchen_param = Parameter(selector=ach_kitchen,\n",
    "                                 value_descriptor=ach_parameters,\n",
    "                                 name='Air Changes per Hour Kitchen')\n",
    "\n",
    "shading_bedroom_param=Parameter(selector=shading_bedroom,\n",
    "                                 value_descriptor=shading_parameters,\n",
    "                                 name='Shading Bedroom')\n",
    "\n",
    "shading_bathroom_param=Parameter(selector=shading_bathroom,\n",
    "                                 value_descriptor=shading_parameters,\n",
    "                                 name='Shading Bathroom')\n",
    "\n",
    "shading_kitchen_param=Parameter(selector=shading_kitchen,\n",
    "                                 value_descriptor=shading_parameters,\n",
    "                                 name='Shading Kitchen')\n",
    "\n",
    "orientation_param = Parameter(selector = orientation, \n",
    "                              value_descriptor = orientation_parameters, \n",
    "                              name = 'Orientation')\n"
   ]
  },
  {
   "cell_type": "code",
   "execution_count": 47,
   "metadata": {},
   "outputs": [
    {
     "data": {
      "text/plain": [
       "Parameter(name='Window to Wall Ratio', selector=wwrSelector(), value_descriptor=RangeParameter(min=0.1, max=0.9))"
      ]
     },
     "execution_count": 47,
     "metadata": {},
     "output_type": "execute_result"
    }
   ],
   "source": [
    "window_to_wall = wwr(RangeParameter(0.1,0.9)) # use a special shortcut to get the window-to-wall parameter\n",
    "window_to_wall"
   ]
  },
  {
   "cell_type": "code",
   "execution_count": 48,
   "metadata": {},
   "outputs": [],
   "source": [
    "# Add all the parameters to a single parameters object.\n",
    "#parameters = [insulation_param] + [window_to_wall]\n",
    "parameters = [window_to_wall,insulation_param,orientation_param,ach_bedroom_param,ach_bathroom_param,ach_kitchen_param,shading_bedroom_param,shading_bathroom_param,shading_kitchen_param] \n",
    "parameters2 = [insulation_param,ach_bedroom_param,shading_bedroom_param,orientation_param,window_to_wall]\n",
    "# Let us try to optimize the Cooling and the Heating of facility at the same time\n",
    "objectives = ['Electricity:Facility','DistrictCooling:Facility'] \n",
    "#'InteriorLights:Electricity' has correlation circa 1 with ELectricity:Facility, we remove it from the obj\n",
    "# These are hourly values, default is sum all the hourly values\n",
    "\n",
    "# Construct the problem \n",
    "problem = EPProblem(parameters2, objectives) # Make a problem instance from the parameters and objectives"
   ]
  },
  {
   "cell_type": "code",
   "execution_count": 49,
   "metadata": {},
   "outputs": [
    {
     "name": "stdout",
     "output_type": "stream",
     "text": [
      "Parameter(name='Insulation Thickness', selector=FieldSelector(field_name='Thickness', class_name='Material', object_name='XPS Extruded Polystyrene  - CO2 Blowing_.2'), value_descriptor=CategoryParameter(options=[1e-05, 0.1, 0.2]))\n",
      "\n",
      "\n",
      "Parameter(name='Air Changes per Hour Bedroom', selector=FieldSelector(field_name='Air Changes per Hour', class_name='ZoneVentilation:DesignFlowRate', object_name='Block1:Bedroom Nat Vent'), value_descriptor=CategoryParameter(options=[0, 5]))\n",
      "\n",
      "\n",
      "Parameter(name='Shading Bedroom', selector=FieldSelector(field_name='Setpoint', class_name='WindowShadingControl', object_name='1001-Block1:Bedroom'), value_descriptor=CategoryParameter(options=[120, 2000]))\n",
      "\n",
      "\n",
      "Parameter(name='Orientation', selector=FieldSelector(field_name='North Axis', class_name='Building', object_name='Building'), value_descriptor=CategoryParameter(options=[0.0, 90.0, 180.0, 270.0]))\n",
      "\n",
      "\n",
      "Parameter(name='Window to Wall Ratio', selector=wwrSelector(), value_descriptor=RangeParameter(min=0.1, max=0.9))\n",
      "\n",
      "\n"
     ]
    }
   ],
   "source": [
    "for param in parameters2:\n",
    "    print(param)\n",
    "    print(\"\\n\")"
   ]
  },
  {
   "cell_type": "code",
   "execution_count": 50,
   "metadata": {},
   "outputs": [
    {
     "data": {
      "text/plain": [
       "array([0.1       , 0.12758621, 0.15517241, 0.18275862, 0.21034483,\n",
       "       0.23793103, 0.26551724, 0.29310345, 0.32068966, 0.34827586,\n",
       "       0.37586207, 0.40344828, 0.43103448, 0.45862069, 0.4862069 ,\n",
       "       0.5137931 , 0.54137931, 0.56896552, 0.59655172, 0.62413793,\n",
       "       0.65172414, 0.67931034, 0.70689655, 0.73448276, 0.76206897,\n",
       "       0.78965517, 0.81724138, 0.84482759, 0.87241379, 0.9       ])"
      ]
     },
     "execution_count": 50,
     "metadata": {},
     "output_type": "execute_result"
    }
   ],
   "source": [
    "#samples = sampling.dist_sampler(sampling.lhs, problem, num_samples=20)\n",
    "import numpy as np\n",
    "W_wwr = [0.10,0.20,0.30,0.40,0.50,0.60,0.70,0.80,0.90]\n",
    "new_wwr= np.linspace(0.1,0.9,30)\n",
    "dictio = {\"insulation\":[0.00001,0.10,0.20,0.00001,0.10,0.20,0.00001,0.10,0.20,0.00001,0.10,0.20],\\\n",
    "          \"ach\":[5,5,5,5,5,5,0,0,0,0,0,0], \\\n",
    "          \"shading\":[120,120,120,120,120,120,2000,2000,2000,2000,2000,2000],\\\n",
    "          \"orientation\":[0,0,0,90,90,90,0,0,0,90,90,90],\\\n",
    "          \"wwr\":[new_wwr for x in range(12)]}\n",
    "samples = pd.DataFrame(dictio)\n",
    "#samples = pd.read_csv(filename+'.csv').drop(['Electricity:Facility','DistrictCooling:Facility'], axis=1)\n",
    "samples\n",
    "new_wwr"
   ]
  },
  {
   "cell_type": "code",
   "execution_count": 51,
   "metadata": {
    "scrolled": true
   },
   "outputs": [
    {
     "data": {
      "text/html": [
       "<div>\n",
       "<style scoped>\n",
       "    .dataframe tbody tr th:only-of-type {\n",
       "        vertical-align: middle;\n",
       "    }\n",
       "\n",
       "    .dataframe tbody tr th {\n",
       "        vertical-align: top;\n",
       "    }\n",
       "\n",
       "    .dataframe thead th {\n",
       "        text-align: right;\n",
       "    }\n",
       "</style>\n",
       "<table border=\"1\" class=\"dataframe\">\n",
       "  <thead>\n",
       "    <tr style=\"text-align: right;\">\n",
       "      <th></th>\n",
       "      <th>insulation</th>\n",
       "      <th>ach</th>\n",
       "      <th>shading</th>\n",
       "      <th>orientation</th>\n",
       "      <th>wwr</th>\n",
       "    </tr>\n",
       "  </thead>\n",
       "  <tbody>\n",
       "    <tr>\n",
       "      <th>0</th>\n",
       "      <td>0.00001</td>\n",
       "      <td>5</td>\n",
       "      <td>120</td>\n",
       "      <td>0</td>\n",
       "      <td>0.1</td>\n",
       "    </tr>\n",
       "    <tr>\n",
       "      <th>1</th>\n",
       "      <td>0.00001</td>\n",
       "      <td>5</td>\n",
       "      <td>120</td>\n",
       "      <td>0</td>\n",
       "      <td>0.127586</td>\n",
       "    </tr>\n",
       "    <tr>\n",
       "      <th>2</th>\n",
       "      <td>0.00001</td>\n",
       "      <td>5</td>\n",
       "      <td>120</td>\n",
       "      <td>0</td>\n",
       "      <td>0.155172</td>\n",
       "    </tr>\n",
       "    <tr>\n",
       "      <th>3</th>\n",
       "      <td>0.00001</td>\n",
       "      <td>5</td>\n",
       "      <td>120</td>\n",
       "      <td>0</td>\n",
       "      <td>0.182759</td>\n",
       "    </tr>\n",
       "    <tr>\n",
       "      <th>4</th>\n",
       "      <td>0.00001</td>\n",
       "      <td>5</td>\n",
       "      <td>120</td>\n",
       "      <td>0</td>\n",
       "      <td>0.210345</td>\n",
       "    </tr>\n",
       "    <tr>\n",
       "      <th>...</th>\n",
       "      <td>...</td>\n",
       "      <td>...</td>\n",
       "      <td>...</td>\n",
       "      <td>...</td>\n",
       "      <td>...</td>\n",
       "    </tr>\n",
       "    <tr>\n",
       "      <th>355</th>\n",
       "      <td>0.20000</td>\n",
       "      <td>0</td>\n",
       "      <td>2000</td>\n",
       "      <td>90</td>\n",
       "      <td>0.789655</td>\n",
       "    </tr>\n",
       "    <tr>\n",
       "      <th>356</th>\n",
       "      <td>0.20000</td>\n",
       "      <td>0</td>\n",
       "      <td>2000</td>\n",
       "      <td>90</td>\n",
       "      <td>0.817241</td>\n",
       "    </tr>\n",
       "    <tr>\n",
       "      <th>357</th>\n",
       "      <td>0.20000</td>\n",
       "      <td>0</td>\n",
       "      <td>2000</td>\n",
       "      <td>90</td>\n",
       "      <td>0.844828</td>\n",
       "    </tr>\n",
       "    <tr>\n",
       "      <th>358</th>\n",
       "      <td>0.20000</td>\n",
       "      <td>0</td>\n",
       "      <td>2000</td>\n",
       "      <td>90</td>\n",
       "      <td>0.872414</td>\n",
       "    </tr>\n",
       "    <tr>\n",
       "      <th>359</th>\n",
       "      <td>0.20000</td>\n",
       "      <td>0</td>\n",
       "      <td>2000</td>\n",
       "      <td>90</td>\n",
       "      <td>0.9</td>\n",
       "    </tr>\n",
       "  </tbody>\n",
       "</table>\n",
       "<p>360 rows × 5 columns</p>\n",
       "</div>"
      ],
      "text/plain": [
       "     insulation  ach  shading  orientation       wwr\n",
       "0       0.00001    5      120            0       0.1\n",
       "1       0.00001    5      120            0  0.127586\n",
       "2       0.00001    5      120            0  0.155172\n",
       "3       0.00001    5      120            0  0.182759\n",
       "4       0.00001    5      120            0  0.210345\n",
       "..          ...  ...      ...          ...       ...\n",
       "355     0.20000    0     2000           90  0.789655\n",
       "356     0.20000    0     2000           90  0.817241\n",
       "357     0.20000    0     2000           90  0.844828\n",
       "358     0.20000    0     2000           90  0.872414\n",
       "359     0.20000    0     2000           90       0.9\n",
       "\n",
       "[360 rows x 5 columns]"
      ]
     },
     "execution_count": 51,
     "metadata": {},
     "output_type": "execute_result"
    }
   ],
   "source": [
    "new_samples = samples.explode(\"wwr\")\n",
    "new_samples.reset_index(inplace=True,drop=True)\n",
    "new_samples"
   ]
  },
  {
   "cell_type": "code",
   "execution_count": 52,
   "metadata": {},
   "outputs": [
    {
     "data": {
      "text/plain": [
       "<bound method NDFrame.describe of      insulation  ach  shading  orientation       wwr\n",
       "0       0.00001    5      120            0       0.1\n",
       "1       0.00001    5      120            0  0.127586\n",
       "2       0.00001    5      120            0  0.155172\n",
       "3       0.00001    5      120            0  0.182759\n",
       "4       0.00001    5      120            0  0.210345\n",
       "..          ...  ...      ...          ...       ...\n",
       "355     0.20000    0     2000           90  0.789655\n",
       "356     0.20000    0     2000           90  0.817241\n",
       "357     0.20000    0     2000           90  0.844828\n",
       "358     0.20000    0     2000           90  0.872414\n",
       "359     0.20000    0     2000           90       0.9\n",
       "\n",
       "[360 rows x 5 columns]>"
      ]
     },
     "execution_count": 52,
     "metadata": {},
     "output_type": "execute_result"
    }
   ],
   "source": [
    "new_samples.describe"
   ]
  },
  {
   "cell_type": "code",
   "execution_count": 53,
   "metadata": {},
   "outputs": [],
   "source": [
    "evaluator = EvaluatorEP(problem, building, out_dir='outputdir', err_dir='outputdir',epw='../larnaca.epw')\n"
   ]
  },
  {
   "cell_type": "code",
   "execution_count": 54,
   "metadata": {},
   "outputs": [
    {
     "data": {
      "application/vnd.jupyter.widget-view+json": {
       "model_id": "b02dd591fd0b4310b3fbb6d3f9265ef8",
       "version_major": 2,
       "version_minor": 0
      },
      "text/plain": [
       "HBox(children=(FloatProgress(value=0.0, description='Executing', max=360.0, style=ProgressStyle(description_wi…"
      ]
     },
     "metadata": {},
     "output_type": "display_data"
    },
    {
     "name": "stdout",
     "output_type": "stream",
     "text": [
      "\n"
     ]
    },
    {
     "data": {
      "text/html": [
       "<div>\n",
       "<style scoped>\n",
       "    .dataframe tbody tr th:only-of-type {\n",
       "        vertical-align: middle;\n",
       "    }\n",
       "\n",
       "    .dataframe tbody tr th {\n",
       "        vertical-align: top;\n",
       "    }\n",
       "\n",
       "    .dataframe thead th {\n",
       "        text-align: right;\n",
       "    }\n",
       "</style>\n",
       "<table border=\"1\" class=\"dataframe\">\n",
       "  <thead>\n",
       "    <tr style=\"text-align: right;\">\n",
       "      <th></th>\n",
       "      <th>insulation</th>\n",
       "      <th>ach</th>\n",
       "      <th>shading</th>\n",
       "      <th>orientation</th>\n",
       "      <th>Electricity:Facility</th>\n",
       "      <th>DistrictCooling:Facility</th>\n",
       "    </tr>\n",
       "  </thead>\n",
       "  <tbody>\n",
       "    <tr>\n",
       "      <th>count</th>\n",
       "      <td>360.000000</td>\n",
       "      <td>360.000000</td>\n",
       "      <td>360.000000</td>\n",
       "      <td>360.000000</td>\n",
       "      <td>3.600000e+02</td>\n",
       "      <td>3.600000e+02</td>\n",
       "    </tr>\n",
       "    <tr>\n",
       "      <th>mean</th>\n",
       "      <td>0.100003</td>\n",
       "      <td>2.500000</td>\n",
       "      <td>1060.000000</td>\n",
       "      <td>45.000000</td>\n",
       "      <td>3.741403e+09</td>\n",
       "      <td>9.363231e+09</td>\n",
       "    </tr>\n",
       "    <tr>\n",
       "      <th>std</th>\n",
       "      <td>0.081759</td>\n",
       "      <td>2.503479</td>\n",
       "      <td>941.308282</td>\n",
       "      <td>45.062631</td>\n",
       "      <td>1.720727e+08</td>\n",
       "      <td>1.316298e+09</td>\n",
       "    </tr>\n",
       "    <tr>\n",
       "      <th>min</th>\n",
       "      <td>0.000010</td>\n",
       "      <td>0.000000</td>\n",
       "      <td>120.000000</td>\n",
       "      <td>0.000000</td>\n",
       "      <td>3.512692e+09</td>\n",
       "      <td>7.113233e+09</td>\n",
       "    </tr>\n",
       "    <tr>\n",
       "      <th>25%</th>\n",
       "      <td>0.000010</td>\n",
       "      <td>0.000000</td>\n",
       "      <td>120.000000</td>\n",
       "      <td>0.000000</td>\n",
       "      <td>3.589878e+09</td>\n",
       "      <td>8.253510e+09</td>\n",
       "    </tr>\n",
       "    <tr>\n",
       "      <th>50%</th>\n",
       "      <td>0.100000</td>\n",
       "      <td>2.500000</td>\n",
       "      <td>1060.000000</td>\n",
       "      <td>45.000000</td>\n",
       "      <td>3.708465e+09</td>\n",
       "      <td>9.326180e+09</td>\n",
       "    </tr>\n",
       "    <tr>\n",
       "      <th>75%</th>\n",
       "      <td>0.200000</td>\n",
       "      <td>5.000000</td>\n",
       "      <td>2000.000000</td>\n",
       "      <td>90.000000</td>\n",
       "      <td>3.873422e+09</td>\n",
       "      <td>1.027546e+10</td>\n",
       "    </tr>\n",
       "    <tr>\n",
       "      <th>max</th>\n",
       "      <td>0.200000</td>\n",
       "      <td>5.000000</td>\n",
       "      <td>2000.000000</td>\n",
       "      <td>90.000000</td>\n",
       "      <td>4.112009e+09</td>\n",
       "      <td>1.216862e+10</td>\n",
       "    </tr>\n",
       "  </tbody>\n",
       "</table>\n",
       "</div>"
      ],
      "text/plain": [
       "       insulation         ach      shading  orientation  Electricity:Facility  \\\n",
       "count  360.000000  360.000000   360.000000   360.000000          3.600000e+02   \n",
       "mean     0.100003    2.500000  1060.000000    45.000000          3.741403e+09   \n",
       "std      0.081759    2.503479   941.308282    45.062631          1.720727e+08   \n",
       "min      0.000010    0.000000   120.000000     0.000000          3.512692e+09   \n",
       "25%      0.000010    0.000000   120.000000     0.000000          3.589878e+09   \n",
       "50%      0.100000    2.500000  1060.000000    45.000000          3.708465e+09   \n",
       "75%      0.200000    5.000000  2000.000000    90.000000          3.873422e+09   \n",
       "max      0.200000    5.000000  2000.000000    90.000000          4.112009e+09   \n",
       "\n",
       "       DistrictCooling:Facility  \n",
       "count              3.600000e+02  \n",
       "mean               9.363231e+09  \n",
       "std                1.316298e+09  \n",
       "min                7.113233e+09  \n",
       "25%                8.253510e+09  \n",
       "50%                9.326180e+09  \n",
       "75%                1.027546e+10  \n",
       "max                1.216862e+10  "
      ]
     },
     "execution_count": 54,
     "metadata": {},
     "output_type": "execute_result"
    }
   ],
   "source": [
    "outputs = evaluator.df_apply(new_samples, keep_input=True)\n",
    "outputs.describe()"
   ]
  },
  {
   "cell_type": "code",
   "execution_count": 64,
   "metadata": {},
   "outputs": [
    {
     "data": {
      "text/plain": [
       "<Figure size 864x864 with 0 Axes>"
      ]
     },
     "metadata": {},
     "output_type": "display_data"
    },
    {
     "data": {
      "image/png": "[encoded data removed]",
      "text/plain": [
       "<Figure size 576x576 with 1 Axes>"
      ]
     },
     "metadata": {
      "needs_background": "light"
     },
     "output_type": "display_data"
    }
   ],
   "source": [
    "plt.figure(figsize=(12,12))\n",
    "\n",
    "gigi = outputs.plot(x=objectives[0], y=objectives[1], style = 'o')\n",
    "plt.xlabel(objectives[0],fontsize=18)\n",
    "plt.ylabel(objectives[1],fontsize=18)\n",
    "plt.savefig('EnergyvsDistrict.png',dpi=200)"
   ]
  },
  {
   "cell_type": "code",
   "execution_count": 56,
   "metadata": {},
   "outputs": [
    {
     "data": {
      "text/html": [
       "<div>\n",
       "<style scoped>\n",
       "    .dataframe tbody tr th:only-of-type {\n",
       "        vertical-align: middle;\n",
       "    }\n",
       "\n",
       "    .dataframe tbody tr th {\n",
       "        vertical-align: top;\n",
       "    }\n",
       "\n",
       "    .dataframe thead th {\n",
       "        text-align: right;\n",
       "    }\n",
       "</style>\n",
       "<table border=\"1\" class=\"dataframe\">\n",
       "  <thead>\n",
       "    <tr style=\"text-align: right;\">\n",
       "      <th></th>\n",
       "      <th>insulation</th>\n",
       "      <th>ach</th>\n",
       "      <th>shading</th>\n",
       "      <th>orientation</th>\n",
       "      <th>wwr</th>\n",
       "      <th>Electricity:Facility</th>\n",
       "      <th>DistrictCooling:Facility</th>\n",
       "    </tr>\n",
       "  </thead>\n",
       "  <tbody>\n",
       "    <tr>\n",
       "      <th>0</th>\n",
       "      <td>0.00001</td>\n",
       "      <td>5</td>\n",
       "      <td>120</td>\n",
       "      <td>0</td>\n",
       "      <td>0.1</td>\n",
       "      <td>4.112009e+09</td>\n",
       "      <td>9.798874e+09</td>\n",
       "    </tr>\n",
       "    <tr>\n",
       "      <th>1</th>\n",
       "      <td>0.00001</td>\n",
       "      <td>5</td>\n",
       "      <td>120</td>\n",
       "      <td>0</td>\n",
       "      <td>0.127586</td>\n",
       "      <td>4.071393e+09</td>\n",
       "      <td>9.852644e+09</td>\n",
       "    </tr>\n",
       "    <tr>\n",
       "      <th>2</th>\n",
       "      <td>0.00001</td>\n",
       "      <td>5</td>\n",
       "      <td>120</td>\n",
       "      <td>0</td>\n",
       "      <td>0.155172</td>\n",
       "      <td>4.027781e+09</td>\n",
       "      <td>9.912038e+09</td>\n",
       "    </tr>\n",
       "    <tr>\n",
       "      <th>3</th>\n",
       "      <td>0.00001</td>\n",
       "      <td>5</td>\n",
       "      <td>120</td>\n",
       "      <td>0</td>\n",
       "      <td>0.182759</td>\n",
       "      <td>3.990565e+09</td>\n",
       "      <td>9.960259e+09</td>\n",
       "    </tr>\n",
       "    <tr>\n",
       "      <th>4</th>\n",
       "      <td>0.00001</td>\n",
       "      <td>5</td>\n",
       "      <td>120</td>\n",
       "      <td>0</td>\n",
       "      <td>0.210345</td>\n",
       "      <td>3.944312e+09</td>\n",
       "      <td>1.002249e+10</td>\n",
       "    </tr>\n",
       "    <tr>\n",
       "      <th>...</th>\n",
       "      <td>...</td>\n",
       "      <td>...</td>\n",
       "      <td>...</td>\n",
       "      <td>...</td>\n",
       "      <td>...</td>\n",
       "      <td>...</td>\n",
       "      <td>...</td>\n",
       "    </tr>\n",
       "    <tr>\n",
       "      <th>355</th>\n",
       "      <td>0.20000</td>\n",
       "      <td>0</td>\n",
       "      <td>2000</td>\n",
       "      <td>90</td>\n",
       "      <td>0.789655</td>\n",
       "      <td>3.592685e+09</td>\n",
       "      <td>9.625481e+09</td>\n",
       "    </tr>\n",
       "    <tr>\n",
       "      <th>356</th>\n",
       "      <td>0.20000</td>\n",
       "      <td>0</td>\n",
       "      <td>2000</td>\n",
       "      <td>90</td>\n",
       "      <td>0.817241</td>\n",
       "      <td>3.583331e+09</td>\n",
       "      <td>9.737693e+09</td>\n",
       "    </tr>\n",
       "    <tr>\n",
       "      <th>357</th>\n",
       "      <td>0.20000</td>\n",
       "      <td>0</td>\n",
       "      <td>2000</td>\n",
       "      <td>90</td>\n",
       "      <td>0.844828</td>\n",
       "      <td>3.575488e+09</td>\n",
       "      <td>9.845313e+09</td>\n",
       "    </tr>\n",
       "    <tr>\n",
       "      <th>358</th>\n",
       "      <td>0.20000</td>\n",
       "      <td>0</td>\n",
       "      <td>2000</td>\n",
       "      <td>90</td>\n",
       "      <td>0.872414</td>\n",
       "      <td>3.568560e+09</td>\n",
       "      <td>9.947782e+09</td>\n",
       "    </tr>\n",
       "    <tr>\n",
       "      <th>359</th>\n",
       "      <td>0.20000</td>\n",
       "      <td>0</td>\n",
       "      <td>2000</td>\n",
       "      <td>90</td>\n",
       "      <td>0.9</td>\n",
       "      <td>3.562110e+09</td>\n",
       "      <td>1.005545e+10</td>\n",
       "    </tr>\n",
       "  </tbody>\n",
       "</table>\n",
       "<p>360 rows × 7 columns</p>\n",
       "</div>"
      ],
      "text/plain": [
       "     insulation  ach  shading  orientation       wwr  Electricity:Facility  \\\n",
       "0       0.00001    5      120            0       0.1          4.112009e+09   \n",
       "1       0.00001    5      120            0  0.127586          4.071393e+09   \n",
       "2       0.00001    5      120            0  0.155172          4.027781e+09   \n",
       "3       0.00001    5      120            0  0.182759          3.990565e+09   \n",
       "4       0.00001    5      120            0  0.210345          3.944312e+09   \n",
       "..          ...  ...      ...          ...       ...                   ...   \n",
       "355     0.20000    0     2000           90  0.789655          3.592685e+09   \n",
       "356     0.20000    0     2000           90  0.817241          3.583331e+09   \n",
       "357     0.20000    0     2000           90  0.844828          3.575488e+09   \n",
       "358     0.20000    0     2000           90  0.872414          3.568560e+09   \n",
       "359     0.20000    0     2000           90       0.9          3.562110e+09   \n",
       "\n",
       "     DistrictCooling:Facility  \n",
       "0                9.798874e+09  \n",
       "1                9.852644e+09  \n",
       "2                9.912038e+09  \n",
       "3                9.960259e+09  \n",
       "4                1.002249e+10  \n",
       "..                        ...  \n",
       "355              9.625481e+09  \n",
       "356              9.737693e+09  \n",
       "357              9.845313e+09  \n",
       "358              9.947782e+09  \n",
       "359              1.005545e+10  \n",
       "\n",
       "[360 rows x 7 columns]"
      ]
     },
     "execution_count": 56,
     "metadata": {},
     "output_type": "execute_result"
    }
   ],
   "source": [
    "outputs"
   ]
  },
  {
   "cell_type": "code",
   "execution_count": 57,
   "metadata": {},
   "outputs": [
    {
     "name": "stdout",
     "output_type": "stream",
     "text": [
      "30\n",
      "range(0, 12)\n",
      "360\n"
     ]
    }
   ],
   "source": [
    "print(len(new_wwr))\n",
    "print(range(int(len(outputs)/len(new_wwr))))\n",
    "print(int(len(outputs)))"
   ]
  },
  {
   "cell_type": "code",
   "execution_count": 58,
   "metadata": {},
   "outputs": [
    {
     "name": "stdout",
     "output_type": "stream",
     "text": [
      "    insulation  ach  shading  orientation       wwr  Electricity:Facility  \\\n",
      "0      0.00001    5      120            0       0.1          4.112009e+09   \n",
      "1      0.00001    5      120            0  0.127586          4.071393e+09   \n",
      "2      0.00001    5      120            0  0.155172          4.027781e+09   \n",
      "3      0.00001    5      120            0  0.182759          3.990565e+09   \n",
      "4      0.00001    5      120            0  0.210345          3.944312e+09   \n",
      "5      0.00001    5      120            0  0.237931          3.906031e+09   \n",
      "6      0.00001    5      120            0  0.265517          3.872894e+09   \n",
      "7      0.00001    5      120            0  0.293103          3.850193e+09   \n",
      "8      0.00001    5      120            0   0.32069          3.822551e+09   \n",
      "9      0.00001    5      120            0  0.348276          3.791492e+09   \n",
      "10     0.00001    5      120            0  0.375862          3.764237e+09   \n",
      "11     0.00001    5      120            0  0.403448          3.742576e+09   \n",
      "12     0.00001    5      120            0  0.431034          3.712722e+09   \n",
      "13     0.00001    5      120            0  0.458621          3.692276e+09   \n",
      "14     0.00001    5      120            0  0.486207          3.664143e+09   \n",
      "15     0.00001    5      120            0  0.513793          3.644651e+09   \n",
      "16     0.00001    5      120            0  0.541379          3.627788e+09   \n",
      "17     0.00001    5      120            0  0.568966          3.605754e+09   \n",
      "18     0.00001    5      120            0  0.596552          3.592060e+09   \n",
      "19     0.00001    5      120            0  0.624138          3.580686e+09   \n",
      "20     0.00001    5      120            0  0.651724          3.571535e+09   \n",
      "21     0.00001    5      120            0   0.67931          3.558811e+09   \n",
      "22     0.00001    5      120            0  0.706897          3.551720e+09   \n",
      "23     0.00001    5      120            0  0.734483          3.544443e+09   \n",
      "24     0.00001    5      120            0  0.762069          3.538285e+09   \n",
      "25     0.00001    5      120            0  0.789655          3.532823e+09   \n",
      "26     0.00001    5      120            0  0.817241          3.526739e+09   \n",
      "27     0.00001    5      120            0  0.844828          3.521571e+09   \n",
      "28     0.00001    5      120            0  0.872414          3.516987e+09   \n",
      "29     0.00001    5      120            0       0.9          3.512692e+09   \n",
      "30     0.10000    5      120            0       0.1          4.112009e+09   \n",
      "31     0.10000    5      120            0  0.127586          4.071393e+09   \n",
      "32     0.10000    5      120            0  0.155172          4.027781e+09   \n",
      "33     0.10000    5      120            0  0.182759          3.990565e+09   \n",
      "34     0.10000    5      120            0  0.210345          3.944312e+09   \n",
      "35     0.10000    5      120            0  0.237931          3.906031e+09   \n",
      "36     0.10000    5      120            0  0.265517          3.872894e+09   \n",
      "37     0.10000    5      120            0  0.293103          3.850193e+09   \n",
      "38     0.10000    5      120            0   0.32069          3.822551e+09   \n",
      "39     0.10000    5      120            0  0.348276          3.791492e+09   \n",
      "40     0.10000    5      120            0  0.375862          3.764237e+09   \n",
      "41     0.10000    5      120            0  0.403448          3.742576e+09   \n",
      "42     0.10000    5      120            0  0.431034          3.712722e+09   \n",
      "43     0.10000    5      120            0  0.458621          3.692276e+09   \n",
      "44     0.10000    5      120            0  0.486207          3.664143e+09   \n",
      "45     0.10000    5      120            0  0.513793          3.644651e+09   \n",
      "46     0.10000    5      120            0  0.541379          3.627788e+09   \n",
      "47     0.10000    5      120            0  0.568966          3.605754e+09   \n",
      "48     0.10000    5      120            0  0.596552          3.592060e+09   \n",
      "49     0.10000    5      120            0  0.624138          3.580686e+09   \n",
      "50     0.10000    5      120            0  0.651724          3.571535e+09   \n",
      "51     0.10000    5      120            0   0.67931          3.558811e+09   \n",
      "52     0.10000    5      120            0  0.706897          3.551720e+09   \n",
      "53     0.10000    5      120            0  0.734483          3.544443e+09   \n",
      "54     0.10000    5      120            0  0.762069          3.538285e+09   \n",
      "55     0.10000    5      120            0  0.789655          3.532823e+09   \n",
      "56     0.10000    5      120            0  0.817241          3.526739e+09   \n",
      "57     0.10000    5      120            0  0.844828          3.521571e+09   \n",
      "58     0.10000    5      120            0  0.872414          3.516987e+09   \n",
      "59     0.10000    5      120            0       0.9          3.512692e+09   \n",
      "\n",
      "    DistrictCooling:Facility  \n",
      "0               9.798874e+09  \n",
      "1               9.852644e+09  \n",
      "2               9.912038e+09  \n",
      "3               9.960259e+09  \n",
      "4               1.002249e+10  \n",
      "5               1.007972e+10  \n",
      "6               1.013936e+10  \n",
      "7               1.018923e+10  \n",
      "8               1.025486e+10  \n",
      "9               1.033139e+10  \n",
      "10              1.040148e+10  \n",
      "11              1.045879e+10  \n",
      "12              1.053841e+10  \n",
      "13              1.059563e+10  \n",
      "14              1.067531e+10  \n",
      "15              1.073590e+10  \n",
      "16              1.079539e+10  \n",
      "17              1.088618e+10  \n",
      "18              1.095993e+10  \n",
      "19              1.103143e+10  \n",
      "20              1.110069e+10  \n",
      "21              1.121018e+10  \n",
      "22              1.128559e+10  \n",
      "23              1.136799e+10  \n",
      "24              1.144599e+10  \n",
      "25              1.152009e+10  \n",
      "26              1.160749e+10  \n",
      "27              1.169065e+10  \n",
      "28              1.176982e+10  \n",
      "29              1.185413e+10  \n",
      "30              7.489654e+09  \n",
      "31              7.560839e+09  \n",
      "32              7.637908e+09  \n",
      "33              7.699056e+09  \n",
      "34              7.781177e+09  \n",
      "35              7.855743e+09  \n",
      "36              7.933952e+09  \n",
      "37              7.995732e+09  \n",
      "38              8.080427e+09  \n",
      "39              8.176106e+09  \n",
      "40              8.265342e+09  \n",
      "41              8.335331e+09  \n",
      "42              8.434571e+09  \n",
      "43              8.508760e+09  \n",
      "44              8.607756e+09  \n",
      "45              8.681704e+09  \n",
      "46              8.755357e+09  \n",
      "47              8.866558e+09  \n",
      "48              8.954557e+09  \n",
      "49              9.040073e+09  \n",
      "50              9.123856e+09  \n",
      "51              9.251781e+09  \n",
      "52              9.342345e+09  \n",
      "53              9.440263e+09  \n",
      "54              9.532357e+09  \n",
      "55              9.623152e+09  \n",
      "56              9.726400e+09  \n",
      "57              9.820945e+09  \n",
      "58              9.915517e+09  \n",
      "59              1.001282e+10  \n"
     ]
    }
   ],
   "source": [
    "print(outputs[:][0:60])\n",
    "outputs.to_csv(\"outputs_360.csv\")"
   ]
  },
  {
   "cell_type": "code",
   "execution_count": 70,
   "metadata": {},
   "outputs": [
    {
     "data": {
      "text/plain": [
       "<Figure size 720x720 with 0 Axes>"
      ]
     },
     "metadata": {},
     "output_type": "display_data"
    }
   ],
   "source": [
    "count=0\n",
    "plt.figure(figsize=(10,10))\n",
    "achON_OFF = 0\n",
    "Orientation_0_270 = 0\n",
    "\n",
    "for i in range(int(len(outputs)/len(new_wwr))):\n",
    "    \n",
    "    if new_samples[\"ach\"][i*len(new_wwr)] == achON_OFF \\\n",
    "        and new_samples[\"orientation\"][i*len(new_wwr)] == Orientation_0_270:\n",
    "\n",
    "        #plt.plot(new_wwr,outputs[\"Electricity:Facility\"][i*30:i*30+30],label=\"thickness=\"+str(new_samples[\"insulation\"][i*len(new_wwr)]))\n",
    "        plt.plot(new_wwr,outputs[\"DistrictCooling:Facility\"][i*30:i*30+30],label=\"thickness=\"+str(new_samples[\"insulation\"][i*len(new_wwr)]))\n",
    "        print(i)\n",
    "        plt.legend()\n",
    "        plt.grid()\n",
    "        plt.xlabel(\"WWR\",fontsize=18)\n",
    "        plt.ylabel(\"Energy Consumption\",fontsize=18)\n",
    "plt.savefig(\"ach\" + +\"\"+\".png\",dpi=300)"
   ]
  },
  {
   "cell_type": "code",
   "execution_count": 60,
   "metadata": {},
   "outputs": [
    {
     "data": {
      "text/plain": [
       "<Figure size 720x720 with 0 Axes>"
      ]
     },
     "metadata": {},
     "output_type": "display_data"
    }
   ],
   "source": [
    "plt.figure(figsize=(10,10))\n",
    "count=0\n",
    "for i in range(int(len(outputs)/len(new_wwr))):\n",
    "    if new_samples[\"ach\"][i*len(new_wwr)] == 0 and new_samples[\"orientation\"][i*len(new_wwr)] == 270:\n",
    "        #plt.plot(new_wwr,outputs[\"Electricity:Facility\"][i*30:i*30+30],label=\"thickness=\"+str(new_samples[\"insulation\"][i*len(new_wwr)]))\n",
    "        plt.plot(new_wwr,outputs[\"DistrictCooling:Facility\"][i*30:i*30+30],label=\"thickness=\"+str(new_samples[\"insulation\"][i*len(new_wwr)]))\n",
    "        print(i)\n",
    "        plt.legend()\n",
    "        plt.grid()\n",
    "        plt.xlabel(\"WWR\")\n",
    "        plt.ylabel(\"Energy Consumption\")\n",
    "plt.savefig(\"achOFF-Nord.png\",dpi=300)"
   ]
  },
  {
   "cell_type": "code",
   "execution_count": 61,
   "metadata": {},
   "outputs": [
    {
     "data": {
      "image/png": "[encoded data removed]",
      "text/plain": [
       "<Figure size 576x1080 with 7 Axes>"
      ]
     },
     "metadata": {
      "needs_background": "light"
     },
     "output_type": "display_data"
    }
   ],
   "source": [
    "outputs_sorted = outputs.sort_values(by=objectives[1])\n",
    "ax=outputs_sorted.plot.bar(subplots=True,legend=None, figsize=(8,15))\n",
    "#outputs.to_csv(filename + '_orientation' + '.csv', index = False)"
   ]
  },
  {
   "cell_type": "code",
   "execution_count": 62,
   "metadata": {
    "scrolled": true
   },
   "outputs": [
    {
     "data": {
      "text/html": [
       "<div>\n",
       "<style scoped>\n",
       "    .dataframe tbody tr th:only-of-type {\n",
       "        vertical-align: middle;\n",
       "    }\n",
       "\n",
       "    .dataframe tbody tr th {\n",
       "        vertical-align: top;\n",
       "    }\n",
       "\n",
       "    .dataframe thead th {\n",
       "        text-align: right;\n",
       "    }\n",
       "</style>\n",
       "<table border=\"1\" class=\"dataframe\">\n",
       "  <thead>\n",
       "    <tr style=\"text-align: right;\">\n",
       "      <th></th>\n",
       "      <th>insulation</th>\n",
       "      <th>ach</th>\n",
       "      <th>shading</th>\n",
       "      <th>orientation</th>\n",
       "      <th>wwr</th>\n",
       "      <th>Electricity:Facility</th>\n",
       "      <th>DistrictCooling:Facility</th>\n",
       "    </tr>\n",
       "  </thead>\n",
       "  <tbody>\n",
       "    <tr>\n",
       "      <th>60</th>\n",
       "      <td>0.20000</td>\n",
       "      <td>5</td>\n",
       "      <td>120</td>\n",
       "      <td>0</td>\n",
       "      <td>0.1</td>\n",
       "      <td>4.112009e+09</td>\n",
       "      <td>7.113233e+09</td>\n",
       "    </tr>\n",
       "    <tr>\n",
       "      <th>240</th>\n",
       "      <td>0.20000</td>\n",
       "      <td>0</td>\n",
       "      <td>2000</td>\n",
       "      <td>0</td>\n",
       "      <td>0.1</td>\n",
       "      <td>4.112009e+09</td>\n",
       "      <td>7.113233e+09</td>\n",
       "    </tr>\n",
       "    <tr>\n",
       "      <th>330</th>\n",
       "      <td>0.20000</td>\n",
       "      <td>0</td>\n",
       "      <td>2000</td>\n",
       "      <td>90</td>\n",
       "      <td>0.1</td>\n",
       "      <td>4.101614e+09</td>\n",
       "      <td>7.138045e+09</td>\n",
       "    </tr>\n",
       "    <tr>\n",
       "      <th>150</th>\n",
       "      <td>0.20000</td>\n",
       "      <td>5</td>\n",
       "      <td>120</td>\n",
       "      <td>90</td>\n",
       "      <td>0.1</td>\n",
       "      <td>4.101614e+09</td>\n",
       "      <td>7.138045e+09</td>\n",
       "    </tr>\n",
       "    <tr>\n",
       "      <th>61</th>\n",
       "      <td>0.20000</td>\n",
       "      <td>5</td>\n",
       "      <td>120</td>\n",
       "      <td>0</td>\n",
       "      <td>0.127586</td>\n",
       "      <td>4.071393e+09</td>\n",
       "      <td>7.190869e+09</td>\n",
       "    </tr>\n",
       "    <tr>\n",
       "      <th>...</th>\n",
       "      <td>...</td>\n",
       "      <td>...</td>\n",
       "      <td>...</td>\n",
       "      <td>...</td>\n",
       "      <td>...</td>\n",
       "      <td>...</td>\n",
       "      <td>...</td>\n",
       "    </tr>\n",
       "    <tr>\n",
       "      <th>297</th>\n",
       "      <td>0.00001</td>\n",
       "      <td>0</td>\n",
       "      <td>2000</td>\n",
       "      <td>90</td>\n",
       "      <td>0.844828</td>\n",
       "      <td>3.575488e+09</td>\n",
       "      <td>1.199087e+10</td>\n",
       "    </tr>\n",
       "    <tr>\n",
       "      <th>298</th>\n",
       "      <td>0.00001</td>\n",
       "      <td>0</td>\n",
       "      <td>2000</td>\n",
       "      <td>90</td>\n",
       "      <td>0.872414</td>\n",
       "      <td>3.568560e+09</td>\n",
       "      <td>1.207804e+10</td>\n",
       "    </tr>\n",
       "    <tr>\n",
       "      <th>118</th>\n",
       "      <td>0.00001</td>\n",
       "      <td>5</td>\n",
       "      <td>120</td>\n",
       "      <td>90</td>\n",
       "      <td>0.872414</td>\n",
       "      <td>3.568560e+09</td>\n",
       "      <td>1.207804e+10</td>\n",
       "    </tr>\n",
       "    <tr>\n",
       "      <th>119</th>\n",
       "      <td>0.00001</td>\n",
       "      <td>5</td>\n",
       "      <td>120</td>\n",
       "      <td>90</td>\n",
       "      <td>0.9</td>\n",
       "      <td>3.562110e+09</td>\n",
       "      <td>1.216862e+10</td>\n",
       "    </tr>\n",
       "    <tr>\n",
       "      <th>299</th>\n",
       "      <td>0.00001</td>\n",
       "      <td>0</td>\n",
       "      <td>2000</td>\n",
       "      <td>90</td>\n",
       "      <td>0.9</td>\n",
       "      <td>3.562110e+09</td>\n",
       "      <td>1.216862e+10</td>\n",
       "    </tr>\n",
       "  </tbody>\n",
       "</table>\n",
       "<p>360 rows × 7 columns</p>\n",
       "</div>"
      ],
      "text/plain": [
       "     insulation  ach  shading  orientation       wwr  Electricity:Facility  \\\n",
       "60      0.20000    5      120            0       0.1          4.112009e+09   \n",
       "240     0.20000    0     2000            0       0.1          4.112009e+09   \n",
       "330     0.20000    0     2000           90       0.1          4.101614e+09   \n",
       "150     0.20000    5      120           90       0.1          4.101614e+09   \n",
       "61      0.20000    5      120            0  0.127586          4.071393e+09   \n",
       "..          ...  ...      ...          ...       ...                   ...   \n",
       "297     0.00001    0     2000           90  0.844828          3.575488e+09   \n",
       "298     0.00001    0     2000           90  0.872414          3.568560e+09   \n",
       "118     0.00001    5      120           90  0.872414          3.568560e+09   \n",
       "119     0.00001    5      120           90       0.9          3.562110e+09   \n",
       "299     0.00001    0     2000           90       0.9          3.562110e+09   \n",
       "\n",
       "     DistrictCooling:Facility  \n",
       "60               7.113233e+09  \n",
       "240              7.113233e+09  \n",
       "330              7.138045e+09  \n",
       "150              7.138045e+09  \n",
       "61               7.190869e+09  \n",
       "..                        ...  \n",
       "297              1.199087e+10  \n",
       "298              1.207804e+10  \n",
       "118              1.207804e+10  \n",
       "119              1.216862e+10  \n",
       "299              1.216862e+10  \n",
       "\n",
       "[360 rows x 7 columns]"
      ]
     },
     "execution_count": 62,
     "metadata": {},
     "output_type": "execute_result"
    }
   ],
   "source": [
    "outputs_sorted"
   ]
  },
  {
   "cell_type": "code",
   "execution_count": 66,
   "metadata": {},
   "outputs": [
    {
     "data": {
      "image/png": "[encoded data removed]",
      "text/plain": [
       "<Figure size 720x720 with 2 Axes>"
      ]
     },
     "metadata": {
      "needs_background": "light"
     },
     "output_type": "display_data"
    }
   ],
   "source": [
    "plt.figure(figsize=(10,10))\n",
    "gigi = heatmap(outputs.corr())\n",
    "plt.savefig('heatmap_params.png')"
   ]
  },
  {
   "cell_type": "code",
   "execution_count": null,
   "metadata": {},
   "outputs": [],
   "source": []
  }
 ],
 "metadata": {
  "kernelspec": {
   "display_name": "Python 3",
   "language": "python",
   "name": "python3"
  },
  "language_info": {
   "codemirror_mode": {
    "name": "ipython",
    "version": 3
   },
   "file_extension": ".py",
   "mimetype": "text/x-python",
   "name": "python",
   "nbconvert_exporter": "python",
   "pygments_lexer": "ipython3",
   "version": "3.8.5"
  }
 },
 "nbformat": 4,
 "nbformat_minor": 4
}
