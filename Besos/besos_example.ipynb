{
 "cells": [
  {
   "cell_type": "markdown",
   "metadata": {},
   "source": [
    "import libraries"
   ]
  },
  {
   "cell_type": "code",
   "execution_count": 84,
   "metadata": {
    "jupyter": {
     "source_hidden": true
    }
   },
   "outputs": [],
   "source": [
    "import pandas as pd\n",
    "import matplotlib.pyplot as plt\n",
    "from seaborn import heatmap\n",
    "from seaborn import pairplot\n",
    "from besos import eppy_funcs as ef\n",
    "from besos import sampling\n",
    "from besos.evaluator import EvaluatorEP\n",
    "from besos.parameters import RangeParameter, CategoryParameter, expand_plist, FieldSelector, Parameter, wwr\n",
    "from besos.problem import EPProblem\n",
    "plt.rcParams['figure.figsize'] = [8, 8]"
   ]
  },
  {
   "cell_type": "markdown",
   "metadata": {},
   "source": [
    "# Parametric Analysis\n",
    "This notebook performs a parametric analysis of a building design using EnergyPlus and BESOS helper functions.  \n",
    "We load a model from in.idf, define parameters to vary, set objectives,then run the model for all parameter combinations and plot the results.\n",
    "\n",
    "The EnergyPlus evaulator object `EvaluatorEP` consists of an `EPProblem` (`Parameters` to modify and `objectives` to report) and a `building` model.  \n",
    "A problem (`problem = parameters + objectives`) can be easily applied to any building model (`evaluator = problem + building`).  "
   ]
  },
  {
   "cell_type": "markdown",
   "metadata": {},
   "source": [
    "Each building is described by an `.idf` or `epJSON` file.  \n",
    "In order to modify it programatically, we load it as a Python object using wrappers for EEPy.\n",
    "\n",
    "If you are using the newer JSON format, then any JSON parsing library will work."
   ]
  },
  {
   "cell_type": "code",
   "execution_count": 119,
   "metadata": {},
   "outputs": [],
   "source": [
    "filename = 'model_final_single'"
   ]
  },
  {
   "cell_type": "code",
   "execution_count": 120,
   "metadata": {
    "scrolled": true
   },
   "outputs": [],
   "source": [
    "building = ef.get_building('/home/brendan/Desktop/polito/ICTBuilding/labBuilding/'+filename+'.idf')"
   ]
  },
  {
   "cell_type": "markdown",
   "metadata": {},
   "source": [
    "Let's check what materials are in the model.  \n",
    "([Eppy's documentation](https://eppy.readthedocs.io/en/latest/) describes how to explore and modify the IDF object directly.)"
   ]
  },
  {
   "cell_type": "code",
   "execution_count": 121,
   "metadata": {},
   "outputs": [
    {
     "data": {
      "text/plain": [
       "['Cast Concrete (Dense)_.1',\n",
       " 'Asphalt 1_.O1',\n",
       " 'MW Glass Wool (rolls)_.1445',\n",
       " 'Plasterboard_.O13',\n",
       " 'Gypsum Plasterboard_.O25',\n",
       " 'Cement/plaster/mortar - cement_.O3',\n",
       " 'XPS Extruded Polystyrene  - CO2 Blowing_.2',\n",
       " 'Aerated Concrete Block_.2']"
      ]
     },
     "execution_count": 121,
     "metadata": {},
     "output_type": "execute_result"
    }
   ],
   "source": [
    "[materials.Name for materials in building.idfobjects[\"MATERIAL\"]] # get a list of the Name property of all IDF objects of class MATERIAL"
   ]
  },
  {
   "cell_type": "markdown",
   "metadata": {},
   "source": [
    "Selectors identify which part of the building model to modify and how to modify it (see the [Selectors](Evaluators/Selectors.ipynb) notebook for details).  \n",
    "The `Selector` below specifies the `Thickness` field of an object named `Mass NonRes Wall Insulation`."
   ]
  },
  {
   "cell_type": "code",
   "execution_count": 122,
   "metadata": {},
   "outputs": [],
   "source": [
    "insulation = FieldSelector(class_name='Material',\\\n",
    "                           object_name='XPS Extruded Polystyrene  - CO2 Blowing_.2',\\\n",
    "                           field_name='Thickness')\n",
    "ach_bedroom = FieldSelector(class_name='ZoneVentilation:DesignFlowRate',object_name='Block1:Bedroom Nat Vent', field_name='Air Changes per Hour')\n",
    "ach_bathroom=FieldSelector(class_name='ZoneVentilation:DesignFlowRate',object_name='Block1:Bathroom Nat Vent', field_name='Air Changes per Hour')\n",
    "ach_kitchen=FieldSelector(class_name='ZoneVentilation:DesignFlowRate',object_name='Block1:Kitchen Nat Vent', field_name='Air Changes per Hour')\n",
    "shading_bedroom = FieldSelector(class_name='WindowShadingControl',object_name='1001-Block1:Bedroom', field_name='Setpoint')\n",
    "shading_bathroom = FieldSelector(class_name='WindowShadingControl',object_name='1002-Block1:Bathroom', field_name='Setpoint')\n",
    "shading_kitchen = FieldSelector(class_name='WindowShadingControl',object_name='1003-Block1:Kitchen', field_name='Setpoint')\n"
   ]
  },
  {
   "cell_type": "markdown",
   "metadata": {},
   "source": [
    "#### Descriptors\n",
    "Descriptors specify what values are valid for a parameter, see the [Descriptors](Evaluators/Descriptors.ipynb) for details.  \n",
    "If we want to vary a parameter $0.01 \\leq x \\leq 0.99$, we can use a `RangeParameter`:"
   ]
  },
  {
   "cell_type": "code",
   "execution_count": 123,
   "metadata": {},
   "outputs": [],
   "source": [
    "zero_to_one_exclusive = CategoryParameter(options=[0.00001, 0.10, 0.20])\n",
    "ach_parameters = CategoryParameter(options=[0,5])\n",
    "shading_parameters = CategoryParameter(options=[120,2000])"
   ]
  },
  {
   "cell_type": "markdown",
   "metadata": {},
   "source": [
    "We can combine this with the `Selector` above to get a `Parameter`:"
   ]
  },
  {
   "cell_type": "code",
   "execution_count": 124,
   "metadata": {},
   "outputs": [],
   "source": [
    "insulation_param = Parameter(selector=insulation,\n",
    "                                 value_descriptor=zero_to_one_exclusive,\n",
    "                                 name='Insulation Thickness')\n",
    "\n",
    "ach_bedroom_param = Parameter(selector=ach_bedroom,\n",
    "                                 value_descriptor=ach_parameters,\n",
    "                                 name='Air Changes per Hour Bedroom')\n",
    "\n",
    "ach_bathroom_param = Parameter(selector=ach_bathroom,\n",
    "                                 value_descriptor=ach_parameters,\n",
    "                                 name='Air Changes per Hour Bathroom')\n",
    "\n",
    "ach_kitchen_param = Parameter(selector=ach_kitchen,\n",
    "                                 value_descriptor=ach_parameters,\n",
    "                                 name='Air Changes per Hour Kitchen')\n",
    "\n",
    "shading_bedroom_param=Parameter(selector=shading_bedroom,\n",
    "                                 value_descriptor=shading_parameters,\n",
    "                                 name='Shading Bedroom')\n",
    "\n",
    "shading_bathroom_param=Parameter(selector=shading_bathroom,\n",
    "                                 value_descriptor=shading_parameters,\n",
    "                                 name='Shading Bathroom')\n",
    "\n",
    "shading_kitchen_param=Parameter(selector=shading_kitchen,\n",
    "                                 value_descriptor=shading_parameters,\n",
    "                                 name='Shading Kitchen')\n"
   ]
  },
  {
   "cell_type": "markdown",
   "metadata": {},
   "source": [
    "#### Short-cuts for defining parameters\n",
    "The `expand_plist` funcion can define `Parameters` more concisely. It takes a nested dictionary as input.  \n",
    "The keys in the first layer of this dictionary are the names of the idf objects.  \n",
    "These are associated with a dictionary that has keys matching the Fields of that object to modify.  \n",
    "Each field-key corresponds to a tuple containing the minimum and maximum values for that parameter.  \n",
    "The `class_name` is not specified.  \n",
    "Instead the model is searched for objects with the correct `object_name`.  \n",
    "**Note - doesn't like duplicate object names!**."
   ]
  },
  {
   "cell_type": "markdown",
   "metadata": {},
   "source": [
    "more_parameters = expand_plist(\n",
    "    # class_name is NOT provided\n",
    "    #{'object_name':\n",
    "    # {'field_name':(min, max)}}\n",
    "    {'Theoretical Glass [167]':\n",
    "     {'Conductivity':(0.1,5)\n",
    "     }\n",
    "    })\n",
    "\n",
    "for p in more_parameters:\n",
    "    print(p)"
   ]
  },
  {
   "cell_type": "markdown",
   "metadata": {},
   "source": [
    "#### Parameter scripts\n",
    "BESOS also includes some pre-defined parameter scripts:\n",
    "+ `wwr(Range)` for window to wall ratio  \n",
    "\n",
    "Here we define the WWR of all walls in the model to be between 10% and 90%."
   ]
  },
  {
   "cell_type": "code",
   "execution_count": 125,
   "metadata": {},
   "outputs": [],
   "source": [
    "window_to_wall = wwr(RangeParameter(0.1,0.9)) # use a special shortcut to get the window-to-wall parameter"
   ]
  },
  {
   "cell_type": "markdown",
   "metadata": {},
   "source": [
    "#### Custom parameter scripts\n",
    "Parameters can also be created by defining a function that takes an idf and a value and mutates the idf.  \n",
    "These functions can be specific to a certain idf file, and can perform any arbitrary transformation.  \n",
    "Creating these can be more involved, and is not covered in this example."
   ]
  },
  {
   "cell_type": "markdown",
   "metadata": {},
   "source": [
    "## Problems\n",
    "`Problem` objects represent inputs and outputs.  \n",
    "We have defined various inputs using `parameters` above, and we define objectives of heating and cooling use."
   ]
  },
  {
   "cell_type": "code",
   "execution_count": 126,
   "metadata": {},
   "outputs": [],
   "source": [
    "# Add all the parameters to a single parameters object.\n",
    "#parameters = [insulation_param] + [window_to_wall]\n",
    "parameters = [window_to_wall,insulation_param, ach_bedroom_param,ach_bathroom_param,ach_kitchen_param,shading_bedroom_param,shading_bathroom_param,shading_kitchen_param] \n",
    "\n",
    "# Let us try to optimize the Cooling and the Heating of facility at the same time\n",
    "objectives = ['Electricity:Facility','DistrictCooling:Facility'] \n",
    "#'InteriorLights:Electricity' has correlation circa 1 with ELectricity:Facility, we remove it from the obj\n",
    "# These are hourly values, default is sum all the hourly values\n",
    "\n",
    "# Construct the problem \n",
    "problem = EPProblem(parameters, objectives) # Make a problem instance from the parameters and objectives"
   ]
  },
  {
   "cell_type": "markdown",
   "metadata": {},
   "source": [
    "## Sampling\n",
    "Once you have defined your parameters, you may want to generate some random possible buildings. Sampling functions allow you to do this."
   ]
  },
  {
   "cell_type": "code",
   "execution_count": 127,
   "metadata": {},
   "outputs": [],
   "source": [
    "# Full factorial sampling \n",
    "#samples = sampling.dist_sampler(sampling.full_factorial, problem, num_samples=5, level=2)"
   ]
  },
  {
   "cell_type": "code",
   "execution_count": 151,
   "metadata": {},
   "outputs": [],
   "source": [
    "# LHS sampling \n",
    "samples = sampling.dist_sampler(sampling.lhs, problem, num_samples=12)"
   ]
  },
  {
   "cell_type": "code",
   "execution_count": 152,
   "metadata": {},
   "outputs": [
    {
     "data": {
      "text/html": [
       "<div>\n",
       "<style scoped>\n",
       "    .dataframe tbody tr th:only-of-type {\n",
       "        vertical-align: middle;\n",
       "    }\n",
       "\n",
       "    .dataframe tbody tr th {\n",
       "        vertical-align: top;\n",
       "    }\n",
       "\n",
       "    .dataframe thead th {\n",
       "        text-align: right;\n",
       "    }\n",
       "</style>\n",
       "<table border=\"1\" class=\"dataframe\">\n",
       "  <thead>\n",
       "    <tr style=\"text-align: right;\">\n",
       "      <th></th>\n",
       "      <th>Window to Wall Ratio</th>\n",
       "      <th>Insulation Thickness</th>\n",
       "      <th>Air Changes per Hour Bedroom</th>\n",
       "      <th>Air Changes per Hour Bathroom</th>\n",
       "      <th>Air Changes per Hour Kitchen</th>\n",
       "      <th>Shading Bedroom</th>\n",
       "      <th>Shading Bathroom</th>\n",
       "      <th>Shading Kitchen</th>\n",
       "    </tr>\n",
       "  </thead>\n",
       "  <tbody>\n",
       "    <tr>\n",
       "      <th>0</th>\n",
       "      <td>0.849499</td>\n",
       "      <td>0.20000</td>\n",
       "      <td>0</td>\n",
       "      <td>0</td>\n",
       "      <td>5</td>\n",
       "      <td>2000</td>\n",
       "      <td>120</td>\n",
       "      <td>2000</td>\n",
       "    </tr>\n",
       "    <tr>\n",
       "      <th>1</th>\n",
       "      <td>0.406410</td>\n",
       "      <td>0.20000</td>\n",
       "      <td>0</td>\n",
       "      <td>5</td>\n",
       "      <td>5</td>\n",
       "      <td>120</td>\n",
       "      <td>120</td>\n",
       "      <td>120</td>\n",
       "    </tr>\n",
       "    <tr>\n",
       "      <th>2</th>\n",
       "      <td>0.108683</td>\n",
       "      <td>0.00001</td>\n",
       "      <td>5</td>\n",
       "      <td>0</td>\n",
       "      <td>0</td>\n",
       "      <td>120</td>\n",
       "      <td>2000</td>\n",
       "      <td>2000</td>\n",
       "    </tr>\n",
       "    <tr>\n",
       "      <th>3</th>\n",
       "      <td>0.490051</td>\n",
       "      <td>0.10000</td>\n",
       "      <td>0</td>\n",
       "      <td>5</td>\n",
       "      <td>5</td>\n",
       "      <td>120</td>\n",
       "      <td>2000</td>\n",
       "      <td>120</td>\n",
       "    </tr>\n",
       "    <tr>\n",
       "      <th>4</th>\n",
       "      <td>0.788155</td>\n",
       "      <td>0.10000</td>\n",
       "      <td>5</td>\n",
       "      <td>5</td>\n",
       "      <td>5</td>\n",
       "      <td>120</td>\n",
       "      <td>2000</td>\n",
       "      <td>2000</td>\n",
       "    </tr>\n",
       "    <tr>\n",
       "      <th>5</th>\n",
       "      <td>0.618223</td>\n",
       "      <td>0.00001</td>\n",
       "      <td>5</td>\n",
       "      <td>0</td>\n",
       "      <td>5</td>\n",
       "      <td>2000</td>\n",
       "      <td>120</td>\n",
       "      <td>120</td>\n",
       "    </tr>\n",
       "    <tr>\n",
       "      <th>6</th>\n",
       "      <td>0.250379</td>\n",
       "      <td>0.10000</td>\n",
       "      <td>0</td>\n",
       "      <td>5</td>\n",
       "      <td>5</td>\n",
       "      <td>120</td>\n",
       "      <td>120</td>\n",
       "      <td>2000</td>\n",
       "    </tr>\n",
       "    <tr>\n",
       "      <th>7</th>\n",
       "      <td>0.546731</td>\n",
       "      <td>0.00001</td>\n",
       "      <td>5</td>\n",
       "      <td>0</td>\n",
       "      <td>0</td>\n",
       "      <td>2000</td>\n",
       "      <td>120</td>\n",
       "      <td>120</td>\n",
       "    </tr>\n",
       "    <tr>\n",
       "      <th>8</th>\n",
       "      <td>0.341462</td>\n",
       "      <td>0.20000</td>\n",
       "      <td>5</td>\n",
       "      <td>0</td>\n",
       "      <td>0</td>\n",
       "      <td>2000</td>\n",
       "      <td>2000</td>\n",
       "      <td>2000</td>\n",
       "    </tr>\n",
       "    <tr>\n",
       "      <th>9</th>\n",
       "      <td>0.231618</td>\n",
       "      <td>0.00001</td>\n",
       "      <td>0</td>\n",
       "      <td>0</td>\n",
       "      <td>0</td>\n",
       "      <td>2000</td>\n",
       "      <td>120</td>\n",
       "      <td>2000</td>\n",
       "    </tr>\n",
       "    <tr>\n",
       "      <th>10</th>\n",
       "      <td>0.744516</td>\n",
       "      <td>0.10000</td>\n",
       "      <td>0</td>\n",
       "      <td>5</td>\n",
       "      <td>0</td>\n",
       "      <td>120</td>\n",
       "      <td>2000</td>\n",
       "      <td>120</td>\n",
       "    </tr>\n",
       "    <tr>\n",
       "      <th>11</th>\n",
       "      <td>0.699712</td>\n",
       "      <td>0.20000</td>\n",
       "      <td>5</td>\n",
       "      <td>5</td>\n",
       "      <td>0</td>\n",
       "      <td>2000</td>\n",
       "      <td>2000</td>\n",
       "      <td>120</td>\n",
       "    </tr>\n",
       "  </tbody>\n",
       "</table>\n",
       "</div>"
      ],
      "text/plain": [
       "    Window to Wall Ratio  Insulation Thickness  Air Changes per Hour Bedroom  \\\n",
       "0               0.849499               0.20000                             0   \n",
       "1               0.406410               0.20000                             0   \n",
       "2               0.108683               0.00001                             5   \n",
       "3               0.490051               0.10000                             0   \n",
       "4               0.788155               0.10000                             5   \n",
       "5               0.618223               0.00001                             5   \n",
       "6               0.250379               0.10000                             0   \n",
       "7               0.546731               0.00001                             5   \n",
       "8               0.341462               0.20000                             5   \n",
       "9               0.231618               0.00001                             0   \n",
       "10              0.744516               0.10000                             0   \n",
       "11              0.699712               0.20000                             5   \n",
       "\n",
       "    Air Changes per Hour Bathroom  Air Changes per Hour Kitchen  \\\n",
       "0                               0                             5   \n",
       "1                               5                             5   \n",
       "2                               0                             0   \n",
       "3                               5                             5   \n",
       "4                               5                             5   \n",
       "5                               0                             5   \n",
       "6                               5                             5   \n",
       "7                               0                             0   \n",
       "8                               0                             0   \n",
       "9                               0                             0   \n",
       "10                              5                             0   \n",
       "11                              5                             0   \n",
       "\n",
       "    Shading Bedroom  Shading Bathroom  Shading Kitchen  \n",
       "0              2000               120             2000  \n",
       "1               120               120              120  \n",
       "2               120              2000             2000  \n",
       "3               120              2000              120  \n",
       "4               120              2000             2000  \n",
       "5              2000               120              120  \n",
       "6               120               120             2000  \n",
       "7              2000               120              120  \n",
       "8              2000              2000             2000  \n",
       "9              2000               120             2000  \n",
       "10              120              2000              120  \n",
       "11             2000              2000              120  "
      ]
     },
     "execution_count": 152,
     "metadata": {},
     "output_type": "execute_result"
    }
   ],
   "source": [
    "samples"
   ]
  },
  {
   "cell_type": "markdown",
   "metadata": {},
   "source": [
    "## Evaluation\n",
    "Now we can evaluate the samples. We create an energy plus evaluator (`EvaluatroEP`) using the parameters, and idf describing the building, and the objectives we want to measure. For this example we will just use one of the premade objectives: Electricity use for the whole facility."
   ]
  },
  {
   "cell_type": "code",
   "execution_count": 143,
   "metadata": {
    "lines_to_next_cell": 0
   },
   "outputs": [
    {
     "data": {
      "application/vnd.jupyter.widget-view+json": {
       "model_id": "5c6b9c77454a46b2b1fa34e5cc293268",
       "version_major": 2,
       "version_minor": 0
      },
      "text/plain": [
       "HBox(children=(FloatProgress(value=0.0, description='Executing', max=12.0, style=ProgressStyle(description_wid…"
      ]
     },
     "metadata": {},
     "output_type": "display_data"
    },
    {
     "name": "stdout",
     "output_type": "stream",
     "text": [
      "\n",
      "\n"
     ]
    },
    {
     "data": {
      "text/html": [
       "<div>\n",
       "<style scoped>\n",
       "    .dataframe tbody tr th:only-of-type {\n",
       "        vertical-align: middle;\n",
       "    }\n",
       "\n",
       "    .dataframe tbody tr th {\n",
       "        vertical-align: top;\n",
       "    }\n",
       "\n",
       "    .dataframe thead th {\n",
       "        text-align: right;\n",
       "    }\n",
       "</style>\n",
       "<table border=\"1\" class=\"dataframe\">\n",
       "  <thead>\n",
       "    <tr style=\"text-align: right;\">\n",
       "      <th></th>\n",
       "      <th>Window to Wall Ratio</th>\n",
       "      <th>Insulation Thickness</th>\n",
       "      <th>Air Changes per Hour Bedroom</th>\n",
       "      <th>Air Changes per Hour Bathroom</th>\n",
       "      <th>Air Changes per Hour Kitchen</th>\n",
       "      <th>Shading Bedroom</th>\n",
       "      <th>Shading Bathroom</th>\n",
       "      <th>Shading Kitchen</th>\n",
       "      <th>Electricity:Facility</th>\n",
       "      <th>DistrictCooling:Facility</th>\n",
       "    </tr>\n",
       "  </thead>\n",
       "  <tbody>\n",
       "    <tr>\n",
       "      <th>count</th>\n",
       "      <td>12.000000</td>\n",
       "      <td>12.000000</td>\n",
       "      <td>12.000000</td>\n",
       "      <td>12.000000</td>\n",
       "      <td>12.000000</td>\n",
       "      <td>12.00000</td>\n",
       "      <td>12.000000</td>\n",
       "      <td>12.000000</td>\n",
       "      <td>1.200000e+01</td>\n",
       "      <td>1.200000e+01</td>\n",
       "    </tr>\n",
       "    <tr>\n",
       "      <th>mean</th>\n",
       "      <td>0.466829</td>\n",
       "      <td>0.116668</td>\n",
       "      <td>2.916667</td>\n",
       "      <td>2.916667</td>\n",
       "      <td>3.333333</td>\n",
       "      <td>1060.00000</td>\n",
       "      <td>746.666667</td>\n",
       "      <td>746.666667</td>\n",
       "      <td>3.638869e+09</td>\n",
       "      <td>1.016008e+10</td>\n",
       "    </tr>\n",
       "    <tr>\n",
       "      <th>std</th>\n",
       "      <td>0.242421</td>\n",
       "      <td>0.057733</td>\n",
       "      <td>2.574643</td>\n",
       "      <td>2.574643</td>\n",
       "      <td>2.461830</td>\n",
       "      <td>981.79798</td>\n",
       "      <td>925.648012</td>\n",
       "      <td>925.648012</td>\n",
       "      <td>1.649948e+08</td>\n",
       "      <td>1.754697e+09</td>\n",
       "    </tr>\n",
       "    <tr>\n",
       "      <th>min</th>\n",
       "      <td>0.116175</td>\n",
       "      <td>0.000010</td>\n",
       "      <td>0.000000</td>\n",
       "      <td>0.000000</td>\n",
       "      <td>0.000000</td>\n",
       "      <td>120.00000</td>\n",
       "      <td>120.000000</td>\n",
       "      <td>120.000000</td>\n",
       "      <td>3.479948e+09</td>\n",
       "      <td>7.558843e+09</td>\n",
       "    </tr>\n",
       "    <tr>\n",
       "      <th>25%</th>\n",
       "      <td>0.328573</td>\n",
       "      <td>0.100000</td>\n",
       "      <td>0.000000</td>\n",
       "      <td>0.000000</td>\n",
       "      <td>0.000000</td>\n",
       "      <td>120.00000</td>\n",
       "      <td>120.000000</td>\n",
       "      <td>120.000000</td>\n",
       "      <td>3.526021e+09</td>\n",
       "      <td>9.200730e+09</td>\n",
       "    </tr>\n",
       "    <tr>\n",
       "      <th>50%</th>\n",
       "      <td>0.426263</td>\n",
       "      <td>0.100000</td>\n",
       "      <td>5.000000</td>\n",
       "      <td>5.000000</td>\n",
       "      <td>5.000000</td>\n",
       "      <td>1060.00000</td>\n",
       "      <td>120.000000</td>\n",
       "      <td>120.000000</td>\n",
       "      <td>3.590182e+09</td>\n",
       "      <td>9.802076e+09</td>\n",
       "    </tr>\n",
       "    <tr>\n",
       "      <th>75%</th>\n",
       "      <td>0.576190</td>\n",
       "      <td>0.125000</td>\n",
       "      <td>5.000000</td>\n",
       "      <td>5.000000</td>\n",
       "      <td>5.000000</td>\n",
       "      <td>2000.00000</td>\n",
       "      <td>2000.000000</td>\n",
       "      <td>2000.000000</td>\n",
       "      <td>3.681132e+09</td>\n",
       "      <td>1.096365e+10</td>\n",
       "    </tr>\n",
       "    <tr>\n",
       "      <th>max</th>\n",
       "      <td>0.881409</td>\n",
       "      <td>0.200000</td>\n",
       "      <td>5.000000</td>\n",
       "      <td>5.000000</td>\n",
       "      <td>5.000000</td>\n",
       "      <td>2000.00000</td>\n",
       "      <td>2000.000000</td>\n",
       "      <td>2000.000000</td>\n",
       "      <td>4.010705e+09</td>\n",
       "      <td>1.285957e+10</td>\n",
       "    </tr>\n",
       "  </tbody>\n",
       "</table>\n",
       "</div>"
      ],
      "text/plain": [
       "       Window to Wall Ratio  Insulation Thickness  \\\n",
       "count             12.000000             12.000000   \n",
       "mean               0.466829              0.116668   \n",
       "std                0.242421              0.057733   \n",
       "min                0.116175              0.000010   \n",
       "25%                0.328573              0.100000   \n",
       "50%                0.426263              0.100000   \n",
       "75%                0.576190              0.125000   \n",
       "max                0.881409              0.200000   \n",
       "\n",
       "       Air Changes per Hour Bedroom  Air Changes per Hour Bathroom  \\\n",
       "count                     12.000000                      12.000000   \n",
       "mean                       2.916667                       2.916667   \n",
       "std                        2.574643                       2.574643   \n",
       "min                        0.000000                       0.000000   \n",
       "25%                        0.000000                       0.000000   \n",
       "50%                        5.000000                       5.000000   \n",
       "75%                        5.000000                       5.000000   \n",
       "max                        5.000000                       5.000000   \n",
       "\n",
       "       Air Changes per Hour Kitchen  Shading Bedroom  Shading Bathroom  \\\n",
       "count                     12.000000         12.00000         12.000000   \n",
       "mean                       3.333333       1060.00000        746.666667   \n",
       "std                        2.461830        981.79798        925.648012   \n",
       "min                        0.000000        120.00000        120.000000   \n",
       "25%                        0.000000        120.00000        120.000000   \n",
       "50%                        5.000000       1060.00000        120.000000   \n",
       "75%                        5.000000       2000.00000       2000.000000   \n",
       "max                        5.000000       2000.00000       2000.000000   \n",
       "\n",
       "       Shading Kitchen  Electricity:Facility  DistrictCooling:Facility  \n",
       "count        12.000000          1.200000e+01              1.200000e+01  \n",
       "mean        746.666667          3.638869e+09              1.016008e+10  \n",
       "std         925.648012          1.649948e+08              1.754697e+09  \n",
       "min         120.000000          3.479948e+09              7.558843e+09  \n",
       "25%         120.000000          3.526021e+09              9.200730e+09  \n",
       "50%         120.000000          3.590182e+09              9.802076e+09  \n",
       "75%        2000.000000          3.681132e+09              1.096365e+10  \n",
       "max        2000.000000          4.010705e+09              1.285957e+10  "
      ]
     },
     "execution_count": 143,
     "metadata": {},
     "output_type": "execute_result"
    }
   ],
   "source": [
    "evaluator = EvaluatorEP(problem, building, out_dir='outputdir', err_dir='outputdir',epw='/home/brendan/Desktop/polito/ICTBuilding/labBuilding/larnaca.epw')\n",
    "outputs = evaluator.df_apply(samples, keep_input=True)\n",
    "\n",
    "outputs.describe()"
   ]
  },
  {
   "cell_type": "markdown",
   "metadata": {},
   "source": [
    "## Visualizing the results\n",
    "\n",
    "First we can see the variation in the objectives:"
   ]
  },
  {
   "cell_type": "code",
   "execution_count": 144,
   "metadata": {},
   "outputs": [
    {
     "data": {
      "text/plain": [
       "Text(0, 0.5, 'DistrictCooling:Facility')"
      ]
     },
     "execution_count": 144,
     "metadata": {},
     "output_type": "execute_result"
    },
    {
     "data": {
      "image/png": "[encoded data removed]",
      "text/plain": [
       "<Figure size 576x576 with 1 Axes>"
      ]
     },
     "metadata": {
      "needs_background": "light"
     },
     "output_type": "display_data"
    }
   ],
   "source": [
    "_ = outputs.plot(x=objectives[0], y=objectives[1], style = 'o')\n",
    "plt.xlabel(objectives[0])\n",
    "plt.ylabel(objectives[1])"
   ]
  },
  {
   "cell_type": "markdown",
   "metadata": {},
   "source": [
    "And compare the trends in the input values as the heating objective increases:"
   ]
  },
  {
   "cell_type": "code",
   "execution_count": 145,
   "metadata": {},
   "outputs": [
    {
     "data": {
      "image/png": "[encoded data removed]",
      "text/plain": [
       "<Figure size 576x1080 with 10 Axes>"
      ]
     },
     "metadata": {
      "needs_background": "light"
     },
     "output_type": "display_data"
    }
   ],
   "source": [
    "outputs = outputs.sort_values(by=objectives[1])\n",
    "ax=outputs.plot.bar(subplots=True,legend=None, figsize=(8,15))"
   ]
  },
  {
   "cell_type": "code",
   "execution_count": 146,
   "metadata": {},
   "outputs": [
    {
     "name": "stdout",
     "output_type": "stream",
     "text": [
      "    Window to Wall Ratio  Insulation Thickness  Air Changes per Hour Bedroom  \\\n",
      "2               0.116175               0.20000                             5   \n",
      "3               0.194620               0.10000                             0   \n",
      "8               0.257266               0.10000                             5   \n",
      "6               0.352343               0.10000                             5   \n",
      "10              0.354387               0.10000                             0   \n",
      "5               0.387606               0.10000                             5   \n",
      "4               0.464920               0.10000                             0   \n",
      "0               0.539051               0.20000                             5   \n",
      "11              0.560757               0.20000                             0   \n",
      "1               0.870930               0.10000                             5   \n",
      "9               0.881409               0.10000                             5   \n",
      "7               0.622487               0.00001                             0   \n",
      "\n",
      "    Air Changes per Hour Bathroom  Air Changes per Hour Kitchen  \\\n",
      "2                               5                             5   \n",
      "3                               5                             5   \n",
      "8                               0                             5   \n",
      "6                               0                             5   \n",
      "10                              5                             5   \n",
      "5                               0                             5   \n",
      "4                               5                             5   \n",
      "0                               5                             0   \n",
      "11                              5                             0   \n",
      "1                               5                             5   \n",
      "9                               0                             0   \n",
      "7                               0                             0   \n",
      "\n",
      "    Shading Bedroom  Shading Bathroom  Shading Kitchen  Electricity:Facility  \\\n",
      "2              2000               120             2000          4.010705e+09   \n",
      "3               120               120             2000          3.862161e+09   \n",
      "8               120              2000              120          3.770218e+09   \n",
      "6               120               120              120          3.651436e+09   \n",
      "10              120              2000              120          3.649267e+09   \n",
      "5              2000               120              120          3.614586e+09   \n",
      "4              2000              2000             2000          3.565777e+09   \n",
      "0              2000               120             2000          3.536865e+09   \n",
      "11             2000               120              120          3.530017e+09   \n",
      "1              2000               120              120          3.481417e+09   \n",
      "9               120               120              120          3.479948e+09   \n",
      "7               120              2000              120          3.514034e+09   \n",
      "\n",
      "    DistrictCooling:Facility  \n",
      "2               7.558843e+09  \n",
      "3               8.371050e+09  \n",
      "8               8.766817e+09  \n",
      "6               9.345367e+09  \n",
      "10              9.354394e+09  \n",
      "5               9.561539e+09  \n",
      "4               1.004261e+10  \n",
      "0               1.025466e+10  \n",
      "11              1.040412e+10  \n",
      "1               1.264225e+10  \n",
      "9               1.275979e+10  \n",
      "7               1.285957e+10  \n"
     ]
    }
   ],
   "source": [
    "print((outputs))\n",
    "#outputs.to_csv('output_files/' + filename + '.csv')\n",
    "outputs.to_csv('output_files/' + 'test_seeded' + '.csv')\n"
   ]
  },
  {
   "cell_type": "markdown",
   "metadata": {},
   "source": [
    "## Visualising the parametric analysis"
   ]
  },
  {
   "cell_type": "markdown",
   "metadata": {},
   "source": [
    "A better way to analyse the results is by looking at scatter plots of the inputs versus the outputs.  \n",
    "This enables us to visually see strong relationships of inputs and outputs."
   ]
  },
  {
   "cell_type": "code",
   "execution_count": 147,
   "metadata": {},
   "outputs": [
    {
     "data": {
      "image/png": "[encoded data removed]",
      "text/plain": [
       "<Figure size 1440x360 with 16 Axes>"
      ]
     },
     "metadata": {
      "needs_background": "light"
     },
     "output_type": "display_data"
    }
   ],
   "source": [
    "_=pairplot(outputs,x_vars=samples.columns, y_vars=objectives, kind=\"scatter\")"
   ]
  },
  {
   "cell_type": "markdown",
   "metadata": {},
   "source": [
    "### Correlation heat map\n",
    "Another way to analyse the impact of the inputs on the outputs is by analysing the correlation.  \n",
    "A common metric is the Pearsson correlation coefficient:\n",
    "\n",
    "$ r = \\frac{N\\sum{XY}-(\\sum{X}\\sum{Y})}{\\sqrt{ [N\\sum{x^2}-(\\sum{x})^2 ][N\\sum{y^2}-(\\sum{y})^2 }]} $\n",
    "\n",
    "where N is the number of samples. $X$ is the vector of observation of variable 1 (e.g. wall conductivity) and $Y$ is the vetor of observations of variable 2 (e.g. electricity consumption).  \n",
    "The closer $r$ is to one the stronger the correlation, and similarly for negative one and negative correleation.\n",
    "\n",
    "To visualize the correlation coefficients of all inputs and outputs, we can plot a heatmap:"
   ]
  },
  {
   "cell_type": "code",
   "execution_count": 148,
   "metadata": {},
   "outputs": [
    {
     "data": {
      "image/png": "[encoded data removed]",
      "text/plain": [
       "<Figure size 576x576 with 2 Axes>"
      ]
     },
     "metadata": {
      "needs_background": "light"
     },
     "output_type": "display_data"
    }
   ],
   "source": [
    "_ = heatmap(outputs.corr())"
   ]
  },
  {
   "cell_type": "markdown",
   "metadata": {},
   "source": [
    "The heatmap shows well that the impact of 'Equipment' and 'Lighting' is the most important given this example of an office building.  \n",
    "The U-Value and the attic insultation thickness have suprisingly little effect.  "
   ]
  },
  {
   "cell_type": "code",
   "execution_count": null,
   "metadata": {},
   "outputs": [],
   "source": []
  },
  {
   "cell_type": "code",
   "execution_count": null,
   "metadata": {},
   "outputs": [],
   "source": []
  },
  {
   "cell_type": "code",
   "execution_count": null,
   "metadata": {},
   "outputs": [],
   "source": []
  },
  {
   "cell_type": "code",
   "execution_count": null,
   "metadata": {},
   "outputs": [],
   "source": []
  },
  {
   "cell_type": "code",
   "execution_count": null,
   "metadata": {},
   "outputs": [],
   "source": []
  },
  {
   "cell_type": "code",
   "execution_count": null,
   "metadata": {},
   "outputs": [],
   "source": []
  }
 ],
 "metadata": {
  "jupytext": {
   "formats": "ipynb,py:light"
  },
  "kernelspec": {
   "display_name": "Python 3",
   "language": "python",
   "name": "python3"
  },
  "language_info": {
   "codemirror_mode": {
    "name": "ipython",
    "version": 3
   },
   "file_extension": ".py",
   "mimetype": "text/x-python",
   "name": "python",
   "nbconvert_exporter": "python",
   "pygments_lexer": "ipython3",
   "version": "3.8.5"
  }
 },
 "nbformat": 4,
 "nbformat_minor": 4
}
