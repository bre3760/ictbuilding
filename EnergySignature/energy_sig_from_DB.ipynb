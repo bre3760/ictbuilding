{
 "cells": [
  {
   "cell_type": "code",
   "execution_count": 1,
   "metadata": {},
   "outputs": [],
   "source": [
    "import pandas as pd\n",
    "from matplotlib import pyplot as plt\n",
    "import statsmodels.api as sm\n",
    "from influxdb import DataFrameClient"
   ]
  },
  {
   "cell_type": "code",
   "execution_count": 2,
   "metadata": {},
   "outputs": [],
   "source": [
    "plt.rcParams['figure.figsize'] = [20, 15] "
   ]
  },
  {
   "cell_type": "code",
   "execution_count": 3,
   "metadata": {},
   "outputs": [],
   "source": [
    "host = 'localhost'\n",
    "port = 8086\n",
    "user = 'root'\n",
    "password = 'root'\n",
    "dbname = 'VirtualBuilding'\n",
    "client = DataFrameClient(host, port, user, password, dbname)"
   ]
  },
  {
   "cell_type": "code",
   "execution_count": 134,
   "metadata": {},
   "outputs": [
    {
     "name": "stdout",
     "output_type": "stream",
     "text": [
      "2017-03-31 23:00:00+00:00    12.766667\n",
      "2017-04-01 00:00:00+00:00    10.158333\n",
      "2017-04-01 01:00:00+00:00    10.083333\n",
      "2017-04-01 02:00:00+00:00     9.883333\n",
      "2017-04-01 03:00:00+00:00    10.325000\n",
      "                               ...    \n",
      "2020-11-30 17:39:26+00:00    21.058333\n",
      "2020-11-30 17:39:28+00:00    18.991667\n",
      "2020-11-30 17:39:29+00:00    17.558333\n",
      "2020-11-30 17:39:31+00:00    16.458333\n",
      "2020-11-30 17:39:33+00:00    15.183333\n",
      "Name: value, Length: 1167, dtype: float64\n"
     ]
    }
   ],
   "source": [
    "outdoor_temp=client.query('select * from \"Outdoor:Temp\"')['Outdoor:Temp']['value']\n",
    "print((tmp))\n"
   ]
  },
  {
   "cell_type": "code",
   "execution_count": 135,
   "metadata": {},
   "outputs": [
    {
     "data": {
      "text/plain": [
       "2017-03-31 23:00:00+00:00    24.946207\n",
       "2017-04-01 00:00:00+00:00    24.394490\n",
       "2017-04-01 01:00:00+00:00    24.114852\n",
       "2017-04-01 02:00:00+00:00    23.832393\n",
       "2017-04-01 03:00:00+00:00    23.610539\n",
       "                               ...    \n",
       "2020-11-30 17:39:26+00:00    26.000000\n",
       "2020-11-30 17:39:27+00:00    26.000000\n",
       "2020-11-30 17:39:29+00:00    26.000000\n",
       "2020-11-30 17:39:31+00:00    26.000000\n",
       "2020-11-30 17:39:33+00:00    25.977041\n",
       "Name: kitchen, Length: 1168, dtype: float64"
      ]
     },
     "execution_count": 135,
     "metadata": {},
     "output_type": "execute_result"
    }
   ],
   "source": [
    "bedroom_mean=client.query('select * from \"Zone_bedroom:Temp_mean\"')['Zone_bedroom:Temp_mean']['value']\n",
    "bathroom_mean=client.query('select * from \"Zone_bathroom:Temp_mean\"')['Zone_bathroom:Temp_mean']['value']\n",
    "kitchen_mean=client.query('select * from \"Zone_kitchen:Temp_mean\"')['Zone_kitchen:Temp_mean']['value']\n",
    "\n",
    "bedroom_mean.rename('bedroom',inplace=True)\n",
    "bathroom_mean.rename('bathroom',inplace=True)\n",
    "kitchen_mean.rename('kitchen',inplace=True)"
   ]
  },
  {
   "cell_type": "code",
   "execution_count": 136,
   "metadata": {},
   "outputs": [
    {
     "data": {
      "text/plain": [
       "DatetimeIndex(['2017-03-31 23:00:00+00:00', '2017-04-01 00:00:00+00:00',\n",
       "               '2017-04-01 01:00:00+00:00', '2017-04-01 02:00:00+00:00',\n",
       "               '2017-04-01 03:00:00+00:00', '2017-04-01 04:00:00+00:00',\n",
       "               '2017-04-01 05:00:00+00:00', '2017-04-01 06:00:00+00:00',\n",
       "               '2017-04-01 07:00:00+00:00', '2017-04-01 08:00:00+00:00',\n",
       "               ...\n",
       "               '2020-11-30 17:39:16+00:00', '2020-11-30 17:39:18+00:00',\n",
       "               '2020-11-30 17:39:20+00:00', '2020-11-30 17:39:22+00:00',\n",
       "               '2020-11-30 17:39:24+00:00', '2020-11-30 17:39:26+00:00',\n",
       "               '2020-11-30 17:39:27+00:00', '2020-11-30 17:39:29+00:00',\n",
       "               '2020-11-30 17:39:31+00:00', '2020-11-30 17:39:33+00:00'],\n",
       "              dtype='datetime64[ns, UTC]', length=1168, freq=None)"
      ]
     },
     "execution_count": 136,
     "metadata": {},
     "output_type": "execute_result"
    }
   ],
   "source": [
    "list_of_series=[bedroom_mean,\\\n",
    "                bathroom_mean,\\\n",
    "                kitchen_mean]\n",
    "kitchen_mean.index"
   ]
  },
  {
   "cell_type": "code",
   "execution_count": 137,
   "metadata": {},
   "outputs": [
    {
     "data": {
      "text/html": [
       "<div>\n",
       "<style scoped>\n",
       "    .dataframe tbody tr th:only-of-type {\n",
       "        vertical-align: middle;\n",
       "    }\n",
       "\n",
       "    .dataframe tbody tr th {\n",
       "        vertical-align: top;\n",
       "    }\n",
       "\n",
       "    .dataframe thead th {\n",
       "        text-align: right;\n",
       "    }\n",
       "</style>\n",
       "<table border=\"1\" class=\"dataframe\">\n",
       "  <thead>\n",
       "    <tr style=\"text-align: right;\">\n",
       "      <th></th>\n",
       "      <th>bedroom</th>\n",
       "      <th>bathroom</th>\n",
       "      <th>kitchen</th>\n",
       "    </tr>\n",
       "  </thead>\n",
       "  <tbody>\n",
       "    <tr>\n",
       "      <th>2017-03-31 23:00:00+00:00</th>\n",
       "      <td>23.400046</td>\n",
       "      <td>24.340571</td>\n",
       "      <td>24.946207</td>\n",
       "    </tr>\n",
       "    <tr>\n",
       "      <th>2017-04-01 00:00:00+00:00</th>\n",
       "      <td>23.003843</td>\n",
       "      <td>23.953833</td>\n",
       "      <td>24.394490</td>\n",
       "    </tr>\n",
       "    <tr>\n",
       "      <th>2017-04-01 01:00:00+00:00</th>\n",
       "      <td>22.831192</td>\n",
       "      <td>23.721700</td>\n",
       "      <td>24.114852</td>\n",
       "    </tr>\n",
       "    <tr>\n",
       "      <th>2017-04-01 02:00:00+00:00</th>\n",
       "      <td>22.647934</td>\n",
       "      <td>23.485598</td>\n",
       "      <td>23.832393</td>\n",
       "    </tr>\n",
       "    <tr>\n",
       "      <th>2017-04-01 03:00:00+00:00</th>\n",
       "      <td>22.517181</td>\n",
       "      <td>23.290817</td>\n",
       "      <td>23.610539</td>\n",
       "    </tr>\n",
       "    <tr>\n",
       "      <th>...</th>\n",
       "      <td>...</td>\n",
       "      <td>...</td>\n",
       "      <td>...</td>\n",
       "    </tr>\n",
       "    <tr>\n",
       "      <th>2020-11-30 17:39:22+00:00</th>\n",
       "      <td>24.840858</td>\n",
       "      <td>26.000000</td>\n",
       "      <td>26.000000</td>\n",
       "    </tr>\n",
       "    <tr>\n",
       "      <th>2020-11-30 17:39:27+00:00</th>\n",
       "      <td>24.034808</td>\n",
       "      <td>26.000000</td>\n",
       "      <td>26.000000</td>\n",
       "    </tr>\n",
       "    <tr>\n",
       "      <th>2020-11-30 17:39:29+00:00</th>\n",
       "      <td>23.863408</td>\n",
       "      <td>26.000000</td>\n",
       "      <td>26.000000</td>\n",
       "    </tr>\n",
       "    <tr>\n",
       "      <th>2020-11-30 17:39:31+00:00</th>\n",
       "      <td>23.815794</td>\n",
       "      <td>25.954044</td>\n",
       "      <td>26.000000</td>\n",
       "    </tr>\n",
       "    <tr>\n",
       "      <th>2020-11-30 17:39:33+00:00</th>\n",
       "      <td>23.783883</td>\n",
       "      <td>25.513727</td>\n",
       "      <td>25.977041</td>\n",
       "    </tr>\n",
       "  </tbody>\n",
       "</table>\n",
       "<p>1148 rows × 3 columns</p>\n",
       "</div>"
      ],
      "text/plain": [
       "                             bedroom   bathroom    kitchen\n",
       "2017-03-31 23:00:00+00:00  23.400046  24.340571  24.946207\n",
       "2017-04-01 00:00:00+00:00  23.003843  23.953833  24.394490\n",
       "2017-04-01 01:00:00+00:00  22.831192  23.721700  24.114852\n",
       "2017-04-01 02:00:00+00:00  22.647934  23.485598  23.832393\n",
       "2017-04-01 03:00:00+00:00  22.517181  23.290817  23.610539\n",
       "...                              ...        ...        ...\n",
       "2020-11-30 17:39:22+00:00  24.840858  26.000000  26.000000\n",
       "2020-11-30 17:39:27+00:00  24.034808  26.000000  26.000000\n",
       "2020-11-30 17:39:29+00:00  23.863408  26.000000  26.000000\n",
       "2020-11-30 17:39:31+00:00  23.815794  25.954044  26.000000\n",
       "2020-11-30 17:39:33+00:00  23.783883  25.513727  25.977041\n",
       "\n",
       "[1148 rows x 3 columns]"
      ]
     },
     "execution_count": 137,
     "metadata": {},
     "output_type": "execute_result"
    }
   ],
   "source": [
    "df = pd.DataFrame(list_of_series,columns=bedroom_mean.index).transpose()\n",
    "df.dropna(inplace=True)\n",
    "df"
   ]
  },
  {
   "cell_type": "code",
   "execution_count": 138,
   "metadata": {},
   "outputs": [
    {
     "data": {
      "text/html": [
       "<div>\n",
       "<style scoped>\n",
       "    .dataframe tbody tr th:only-of-type {\n",
       "        vertical-align: middle;\n",
       "    }\n",
       "\n",
       "    .dataframe tbody tr th {\n",
       "        vertical-align: top;\n",
       "    }\n",
       "\n",
       "    .dataframe thead th {\n",
       "        text-align: right;\n",
       "    }\n",
       "</style>\n",
       "<table border=\"1\" class=\"dataframe\">\n",
       "  <thead>\n",
       "    <tr style=\"text-align: right;\">\n",
       "      <th></th>\n",
       "      <th>bedroom</th>\n",
       "      <th>bathroom</th>\n",
       "      <th>kitchen</th>\n",
       "      <th>mean_indoors</th>\n",
       "    </tr>\n",
       "  </thead>\n",
       "  <tbody>\n",
       "    <tr>\n",
       "      <th>2017-03-31 23:00:00+00:00</th>\n",
       "      <td>23.400046</td>\n",
       "      <td>24.340571</td>\n",
       "      <td>24.946207</td>\n",
       "      <td>24.228941</td>\n",
       "    </tr>\n",
       "    <tr>\n",
       "      <th>2017-04-01 00:00:00+00:00</th>\n",
       "      <td>23.003843</td>\n",
       "      <td>23.953833</td>\n",
       "      <td>24.394490</td>\n",
       "      <td>23.784055</td>\n",
       "    </tr>\n",
       "    <tr>\n",
       "      <th>2017-04-01 01:00:00+00:00</th>\n",
       "      <td>22.831192</td>\n",
       "      <td>23.721700</td>\n",
       "      <td>24.114852</td>\n",
       "      <td>23.555914</td>\n",
       "    </tr>\n",
       "    <tr>\n",
       "      <th>2017-04-01 02:00:00+00:00</th>\n",
       "      <td>22.647934</td>\n",
       "      <td>23.485598</td>\n",
       "      <td>23.832393</td>\n",
       "      <td>23.321975</td>\n",
       "    </tr>\n",
       "  </tbody>\n",
       "</table>\n",
       "</div>"
      ],
      "text/plain": [
       "                             bedroom   bathroom    kitchen  mean_indoors\n",
       "2017-03-31 23:00:00+00:00  23.400046  24.340571  24.946207     24.228941\n",
       "2017-04-01 00:00:00+00:00  23.003843  23.953833  24.394490     23.784055\n",
       "2017-04-01 01:00:00+00:00  22.831192  23.721700  24.114852     23.555914\n",
       "2017-04-01 02:00:00+00:00  22.647934  23.485598  23.832393     23.321975"
      ]
     },
     "execution_count": 138,
     "metadata": {},
     "output_type": "execute_result"
    }
   ],
   "source": [
    "df['mean_indoors'] = df.mean(1)\n",
    "df.head(4)"
   ]
  },
  {
   "cell_type": "code",
   "execution_count": 139,
   "metadata": {},
   "outputs": [
    {
     "data": {
      "text/html": [
       "<div>\n",
       "<style scoped>\n",
       "    .dataframe tbody tr th:only-of-type {\n",
       "        vertical-align: middle;\n",
       "    }\n",
       "\n",
       "    .dataframe tbody tr th {\n",
       "        vertical-align: top;\n",
       "    }\n",
       "\n",
       "    .dataframe thead th {\n",
       "        text-align: right;\n",
       "    }\n",
       "</style>\n",
       "<table border=\"1\" class=\"dataframe\">\n",
       "  <thead>\n",
       "    <tr style=\"text-align: right;\">\n",
       "      <th></th>\n",
       "      <th>bedroom</th>\n",
       "      <th>bathroom</th>\n",
       "      <th>kitchen</th>\n",
       "      <th>mean_indoors</th>\n",
       "      <th>mean_outdoors</th>\n",
       "    </tr>\n",
       "  </thead>\n",
       "  <tbody>\n",
       "    <tr>\n",
       "      <th>2017-03-31 23:00:00+00:00</th>\n",
       "      <td>23.400046</td>\n",
       "      <td>24.340571</td>\n",
       "      <td>24.946207</td>\n",
       "      <td>24.228941</td>\n",
       "      <td>12.766667</td>\n",
       "    </tr>\n",
       "    <tr>\n",
       "      <th>2017-04-01 00:00:00+00:00</th>\n",
       "      <td>23.003843</td>\n",
       "      <td>23.953833</td>\n",
       "      <td>24.394490</td>\n",
       "      <td>23.784055</td>\n",
       "      <td>10.158333</td>\n",
       "    </tr>\n",
       "    <tr>\n",
       "      <th>2017-04-01 01:00:00+00:00</th>\n",
       "      <td>22.831192</td>\n",
       "      <td>23.721700</td>\n",
       "      <td>24.114852</td>\n",
       "      <td>23.555914</td>\n",
       "      <td>10.083333</td>\n",
       "    </tr>\n",
       "    <tr>\n",
       "      <th>2017-04-01 02:00:00+00:00</th>\n",
       "      <td>22.647934</td>\n",
       "      <td>23.485598</td>\n",
       "      <td>23.832393</td>\n",
       "      <td>23.321975</td>\n",
       "      <td>9.883333</td>\n",
       "    </tr>\n",
       "    <tr>\n",
       "      <th>2017-04-01 03:00:00+00:00</th>\n",
       "      <td>22.517181</td>\n",
       "      <td>23.290817</td>\n",
       "      <td>23.610539</td>\n",
       "      <td>23.139512</td>\n",
       "      <td>10.325000</td>\n",
       "    </tr>\n",
       "    <tr>\n",
       "      <th>...</th>\n",
       "      <td>...</td>\n",
       "      <td>...</td>\n",
       "      <td>...</td>\n",
       "      <td>...</td>\n",
       "      <td>...</td>\n",
       "    </tr>\n",
       "    <tr>\n",
       "      <th>2020-11-30 17:39:20+00:00</th>\n",
       "      <td>25.021001</td>\n",
       "      <td>26.000000</td>\n",
       "      <td>26.000000</td>\n",
       "      <td>25.673667</td>\n",
       "      <td>22.725000</td>\n",
       "    </tr>\n",
       "    <tr>\n",
       "      <th>2020-11-30 17:39:22+00:00</th>\n",
       "      <td>24.840858</td>\n",
       "      <td>26.000000</td>\n",
       "      <td>26.000000</td>\n",
       "      <td>25.613619</td>\n",
       "      <td>22.308333</td>\n",
       "    </tr>\n",
       "    <tr>\n",
       "      <th>2020-11-30 17:39:29+00:00</th>\n",
       "      <td>23.863408</td>\n",
       "      <td>26.000000</td>\n",
       "      <td>26.000000</td>\n",
       "      <td>25.287803</td>\n",
       "      <td>17.558333</td>\n",
       "    </tr>\n",
       "    <tr>\n",
       "      <th>2020-11-30 17:39:31+00:00</th>\n",
       "      <td>23.815794</td>\n",
       "      <td>25.954044</td>\n",
       "      <td>26.000000</td>\n",
       "      <td>25.256613</td>\n",
       "      <td>16.458333</td>\n",
       "    </tr>\n",
       "    <tr>\n",
       "      <th>2020-11-30 17:39:33+00:00</th>\n",
       "      <td>23.783883</td>\n",
       "      <td>25.513727</td>\n",
       "      <td>25.977041</td>\n",
       "      <td>25.091550</td>\n",
       "      <td>15.183333</td>\n",
       "    </tr>\n",
       "  </tbody>\n",
       "</table>\n",
       "<p>1135 rows × 5 columns</p>\n",
       "</div>"
      ],
      "text/plain": [
       "                             bedroom   bathroom    kitchen  mean_indoors  \\\n",
       "2017-03-31 23:00:00+00:00  23.400046  24.340571  24.946207     24.228941   \n",
       "2017-04-01 00:00:00+00:00  23.003843  23.953833  24.394490     23.784055   \n",
       "2017-04-01 01:00:00+00:00  22.831192  23.721700  24.114852     23.555914   \n",
       "2017-04-01 02:00:00+00:00  22.647934  23.485598  23.832393     23.321975   \n",
       "2017-04-01 03:00:00+00:00  22.517181  23.290817  23.610539     23.139512   \n",
       "...                              ...        ...        ...           ...   \n",
       "2020-11-30 17:39:20+00:00  25.021001  26.000000  26.000000     25.673667   \n",
       "2020-11-30 17:39:22+00:00  24.840858  26.000000  26.000000     25.613619   \n",
       "2020-11-30 17:39:29+00:00  23.863408  26.000000  26.000000     25.287803   \n",
       "2020-11-30 17:39:31+00:00  23.815794  25.954044  26.000000     25.256613   \n",
       "2020-11-30 17:39:33+00:00  23.783883  25.513727  25.977041     25.091550   \n",
       "\n",
       "                           mean_outdoors  \n",
       "2017-03-31 23:00:00+00:00      12.766667  \n",
       "2017-04-01 00:00:00+00:00      10.158333  \n",
       "2017-04-01 01:00:00+00:00      10.083333  \n",
       "2017-04-01 02:00:00+00:00       9.883333  \n",
       "2017-04-01 03:00:00+00:00      10.325000  \n",
       "...                                  ...  \n",
       "2020-11-30 17:39:20+00:00      22.725000  \n",
       "2020-11-30 17:39:22+00:00      22.308333  \n",
       "2020-11-30 17:39:29+00:00      17.558333  \n",
       "2020-11-30 17:39:31+00:00      16.458333  \n",
       "2020-11-30 17:39:33+00:00      15.183333  \n",
       "\n",
       "[1135 rows x 5 columns]"
      ]
     },
     "execution_count": 139,
     "metadata": {},
     "output_type": "execute_result"
    }
   ],
   "source": [
    "df['mean_outdoors'] = outdoor_temp \n",
    "df.dropna(inplace=True)\n",
    "df"
   ]
  },
  {
   "cell_type": "code",
   "execution_count": 140,
   "metadata": {},
   "outputs": [
    {
     "data": {
      "text/html": [
       "<div>\n",
       "<style scoped>\n",
       "    .dataframe tbody tr th:only-of-type {\n",
       "        vertical-align: middle;\n",
       "    }\n",
       "\n",
       "    .dataframe tbody tr th {\n",
       "        vertical-align: top;\n",
       "    }\n",
       "\n",
       "    .dataframe thead th {\n",
       "        text-align: right;\n",
       "    }\n",
       "</style>\n",
       "<table border=\"1\" class=\"dataframe\">\n",
       "  <thead>\n",
       "    <tr style=\"text-align: right;\">\n",
       "      <th></th>\n",
       "      <th>bedroom</th>\n",
       "      <th>bathroom</th>\n",
       "      <th>kitchen</th>\n",
       "      <th>mean_indoors</th>\n",
       "      <th>mean_outdoors</th>\n",
       "      <th>delta_T</th>\n",
       "    </tr>\n",
       "  </thead>\n",
       "  <tbody>\n",
       "    <tr>\n",
       "      <th>2017-03-31 23:00:00+00:00</th>\n",
       "      <td>23.400046</td>\n",
       "      <td>24.340571</td>\n",
       "      <td>24.946207</td>\n",
       "      <td>24.228941</td>\n",
       "      <td>12.766667</td>\n",
       "      <td>11.462275</td>\n",
       "    </tr>\n",
       "    <tr>\n",
       "      <th>2017-04-01 00:00:00+00:00</th>\n",
       "      <td>23.003843</td>\n",
       "      <td>23.953833</td>\n",
       "      <td>24.394490</td>\n",
       "      <td>23.784055</td>\n",
       "      <td>10.158333</td>\n",
       "      <td>13.625722</td>\n",
       "    </tr>\n",
       "    <tr>\n",
       "      <th>2017-04-01 01:00:00+00:00</th>\n",
       "      <td>22.831192</td>\n",
       "      <td>23.721700</td>\n",
       "      <td>24.114852</td>\n",
       "      <td>23.555914</td>\n",
       "      <td>10.083333</td>\n",
       "      <td>13.472581</td>\n",
       "    </tr>\n",
       "    <tr>\n",
       "      <th>2017-04-01 02:00:00+00:00</th>\n",
       "      <td>22.647934</td>\n",
       "      <td>23.485598</td>\n",
       "      <td>23.832393</td>\n",
       "      <td>23.321975</td>\n",
       "      <td>9.883333</td>\n",
       "      <td>13.438641</td>\n",
       "    </tr>\n",
       "    <tr>\n",
       "      <th>2017-04-01 03:00:00+00:00</th>\n",
       "      <td>22.517181</td>\n",
       "      <td>23.290817</td>\n",
       "      <td>23.610539</td>\n",
       "      <td>23.139512</td>\n",
       "      <td>10.325000</td>\n",
       "      <td>12.814512</td>\n",
       "    </tr>\n",
       "    <tr>\n",
       "      <th>...</th>\n",
       "      <td>...</td>\n",
       "      <td>...</td>\n",
       "      <td>...</td>\n",
       "      <td>...</td>\n",
       "      <td>...</td>\n",
       "      <td>...</td>\n",
       "    </tr>\n",
       "    <tr>\n",
       "      <th>2020-11-30 17:39:20+00:00</th>\n",
       "      <td>25.021001</td>\n",
       "      <td>26.000000</td>\n",
       "      <td>26.000000</td>\n",
       "      <td>25.673667</td>\n",
       "      <td>22.725000</td>\n",
       "      <td>2.948667</td>\n",
       "    </tr>\n",
       "    <tr>\n",
       "      <th>2020-11-30 17:39:22+00:00</th>\n",
       "      <td>24.840858</td>\n",
       "      <td>26.000000</td>\n",
       "      <td>26.000000</td>\n",
       "      <td>25.613619</td>\n",
       "      <td>22.308333</td>\n",
       "      <td>3.305286</td>\n",
       "    </tr>\n",
       "    <tr>\n",
       "      <th>2020-11-30 17:39:29+00:00</th>\n",
       "      <td>23.863408</td>\n",
       "      <td>26.000000</td>\n",
       "      <td>26.000000</td>\n",
       "      <td>25.287803</td>\n",
       "      <td>17.558333</td>\n",
       "      <td>7.729469</td>\n",
       "    </tr>\n",
       "    <tr>\n",
       "      <th>2020-11-30 17:39:31+00:00</th>\n",
       "      <td>23.815794</td>\n",
       "      <td>25.954044</td>\n",
       "      <td>26.000000</td>\n",
       "      <td>25.256613</td>\n",
       "      <td>16.458333</td>\n",
       "      <td>8.798279</td>\n",
       "    </tr>\n",
       "    <tr>\n",
       "      <th>2020-11-30 17:39:33+00:00</th>\n",
       "      <td>23.783883</td>\n",
       "      <td>25.513727</td>\n",
       "      <td>25.977041</td>\n",
       "      <td>25.091550</td>\n",
       "      <td>15.183333</td>\n",
       "      <td>9.908217</td>\n",
       "    </tr>\n",
       "  </tbody>\n",
       "</table>\n",
       "<p>1135 rows × 6 columns</p>\n",
       "</div>"
      ],
      "text/plain": [
       "                             bedroom   bathroom    kitchen  mean_indoors  \\\n",
       "2017-03-31 23:00:00+00:00  23.400046  24.340571  24.946207     24.228941   \n",
       "2017-04-01 00:00:00+00:00  23.003843  23.953833  24.394490     23.784055   \n",
       "2017-04-01 01:00:00+00:00  22.831192  23.721700  24.114852     23.555914   \n",
       "2017-04-01 02:00:00+00:00  22.647934  23.485598  23.832393     23.321975   \n",
       "2017-04-01 03:00:00+00:00  22.517181  23.290817  23.610539     23.139512   \n",
       "...                              ...        ...        ...           ...   \n",
       "2020-11-30 17:39:20+00:00  25.021001  26.000000  26.000000     25.673667   \n",
       "2020-11-30 17:39:22+00:00  24.840858  26.000000  26.000000     25.613619   \n",
       "2020-11-30 17:39:29+00:00  23.863408  26.000000  26.000000     25.287803   \n",
       "2020-11-30 17:39:31+00:00  23.815794  25.954044  26.000000     25.256613   \n",
       "2020-11-30 17:39:33+00:00  23.783883  25.513727  25.977041     25.091550   \n",
       "\n",
       "                           mean_outdoors    delta_T  \n",
       "2017-03-31 23:00:00+00:00      12.766667  11.462275  \n",
       "2017-04-01 00:00:00+00:00      10.158333  13.625722  \n",
       "2017-04-01 01:00:00+00:00      10.083333  13.472581  \n",
       "2017-04-01 02:00:00+00:00       9.883333  13.438641  \n",
       "2017-04-01 03:00:00+00:00      10.325000  12.814512  \n",
       "...                                  ...        ...  \n",
       "2020-11-30 17:39:20+00:00      22.725000   2.948667  \n",
       "2020-11-30 17:39:22+00:00      22.308333   3.305286  \n",
       "2020-11-30 17:39:29+00:00      17.558333   7.729469  \n",
       "2020-11-30 17:39:31+00:00      16.458333   8.798279  \n",
       "2020-11-30 17:39:33+00:00      15.183333   9.908217  \n",
       "\n",
       "[1135 rows x 6 columns]"
      ]
     },
     "execution_count": 140,
     "metadata": {},
     "output_type": "execute_result"
    }
   ],
   "source": [
    "df['delta_T'] = df['mean_indoors'] - df['mean_outdoors']\n",
    "df"
   ]
  },
  {
   "cell_type": "code",
   "execution_count": 141,
   "metadata": {},
   "outputs": [
    {
     "data": {
      "text/plain": [
       "2017-03-31 23:00:00+00:00    0.045749\n",
       "2017-04-01 00:00:00+00:00    0.045749\n",
       "2017-04-01 01:00:00+00:00    0.045749\n",
       "2017-04-01 02:00:00+00:00    0.045749\n",
       "2017-04-01 03:00:00+00:00    0.045749\n",
       "                               ...   \n",
       "2020-11-30 17:39:25+00:00    0.081676\n",
       "2020-11-30 17:39:27+00:00    0.551131\n",
       "2020-11-30 17:39:29+00:00    0.589138\n",
       "2020-11-30 17:39:31+00:00    0.584071\n",
       "2020-11-30 17:39:32+00:00    0.565746\n",
       "Name: value, Length: 1167, dtype: float64"
      ]
     },
     "execution_count": 141,
     "metadata": {},
     "output_type": "execute_result"
    }
   ],
   "source": [
    "power=client.query('select * from Power')['Power']['value']\n",
    "power"
   ]
  },
  {
   "cell_type": "code",
   "execution_count": 142,
   "metadata": {},
   "outputs": [
    {
     "data": {
      "text/html": [
       "<div>\n",
       "<style scoped>\n",
       "    .dataframe tbody tr th:only-of-type {\n",
       "        vertical-align: middle;\n",
       "    }\n",
       "\n",
       "    .dataframe tbody tr th {\n",
       "        vertical-align: top;\n",
       "    }\n",
       "\n",
       "    .dataframe thead th {\n",
       "        text-align: right;\n",
       "    }\n",
       "</style>\n",
       "<table border=\"1\" class=\"dataframe\">\n",
       "  <thead>\n",
       "    <tr style=\"text-align: right;\">\n",
       "      <th></th>\n",
       "      <th>bedroom</th>\n",
       "      <th>bathroom</th>\n",
       "      <th>kitchen</th>\n",
       "      <th>mean_indoors</th>\n",
       "      <th>mean_outdoors</th>\n",
       "      <th>delta_T</th>\n",
       "      <th>Power</th>\n",
       "    </tr>\n",
       "  </thead>\n",
       "  <tbody>\n",
       "    <tr>\n",
       "      <th>2017-03-31 23:00:00+00:00</th>\n",
       "      <td>23.400046</td>\n",
       "      <td>24.340571</td>\n",
       "      <td>24.946207</td>\n",
       "      <td>24.228941</td>\n",
       "      <td>12.766667</td>\n",
       "      <td>11.462275</td>\n",
       "      <td>0.045749</td>\n",
       "    </tr>\n",
       "    <tr>\n",
       "      <th>2017-04-01 00:00:00+00:00</th>\n",
       "      <td>23.003843</td>\n",
       "      <td>23.953833</td>\n",
       "      <td>24.394490</td>\n",
       "      <td>23.784055</td>\n",
       "      <td>10.158333</td>\n",
       "      <td>13.625722</td>\n",
       "      <td>0.045749</td>\n",
       "    </tr>\n",
       "    <tr>\n",
       "      <th>2017-04-01 01:00:00+00:00</th>\n",
       "      <td>22.831192</td>\n",
       "      <td>23.721700</td>\n",
       "      <td>24.114852</td>\n",
       "      <td>23.555914</td>\n",
       "      <td>10.083333</td>\n",
       "      <td>13.472581</td>\n",
       "      <td>0.045749</td>\n",
       "    </tr>\n",
       "    <tr>\n",
       "      <th>2017-04-01 02:00:00+00:00</th>\n",
       "      <td>22.647934</td>\n",
       "      <td>23.485598</td>\n",
       "      <td>23.832393</td>\n",
       "      <td>23.321975</td>\n",
       "      <td>9.883333</td>\n",
       "      <td>13.438641</td>\n",
       "      <td>0.045749</td>\n",
       "    </tr>\n",
       "    <tr>\n",
       "      <th>2017-04-01 03:00:00+00:00</th>\n",
       "      <td>22.517181</td>\n",
       "      <td>23.290817</td>\n",
       "      <td>23.610539</td>\n",
       "      <td>23.139512</td>\n",
       "      <td>10.325000</td>\n",
       "      <td>12.814512</td>\n",
       "      <td>0.045749</td>\n",
       "    </tr>\n",
       "  </tbody>\n",
       "</table>\n",
       "</div>"
      ],
      "text/plain": [
       "                             bedroom   bathroom    kitchen  mean_indoors  \\\n",
       "2017-03-31 23:00:00+00:00  23.400046  24.340571  24.946207     24.228941   \n",
       "2017-04-01 00:00:00+00:00  23.003843  23.953833  24.394490     23.784055   \n",
       "2017-04-01 01:00:00+00:00  22.831192  23.721700  24.114852     23.555914   \n",
       "2017-04-01 02:00:00+00:00  22.647934  23.485598  23.832393     23.321975   \n",
       "2017-04-01 03:00:00+00:00  22.517181  23.290817  23.610539     23.139512   \n",
       "\n",
       "                           mean_outdoors    delta_T     Power  \n",
       "2017-03-31 23:00:00+00:00      12.766667  11.462275  0.045749  \n",
       "2017-04-01 00:00:00+00:00      10.158333  13.625722  0.045749  \n",
       "2017-04-01 01:00:00+00:00      10.083333  13.472581  0.045749  \n",
       "2017-04-01 02:00:00+00:00       9.883333  13.438641  0.045749  \n",
       "2017-04-01 03:00:00+00:00      10.325000  12.814512  0.045749  "
      ]
     },
     "execution_count": 142,
     "metadata": {},
     "output_type": "execute_result"
    }
   ],
   "source": [
    "df['Power']=power\n",
    "df.head()"
   ]
  },
  {
   "cell_type": "code",
   "execution_count": null,
   "metadata": {},
   "outputs": [],
   "source": []
  },
  {
   "cell_type": "code",
   "execution_count": 147,
   "metadata": {},
   "outputs": [
    {
     "data": {
      "text/plain": [
       "<matplotlib.collections.PathCollection at 0x7f87db1175b0>"
      ]
     },
     "execution_count": 147,
     "metadata": {},
     "output_type": "execute_result"
    },
    {
     "data": {
      "image/png": "[encoded data removed]",
      "text/plain": [
       "<Figure size 1440x1080 with 1 Axes>"
      ]
     },
     "metadata": {
      "needs_background": "light"
     },
     "output_type": "display_data"
    }
   ],
   "source": [
    "plt.scatter(df.delta_T,df.Power)"
   ]
  },
  {
   "cell_type": "code",
   "execution_count": null,
   "metadata": {
    "scrolled": true
   },
   "outputs": [],
   "source": []
  },
  {
   "cell_type": "code",
   "execution_count": 149,
   "metadata": {},
   "outputs": [],
   "source": [
    "model = sm.OLS(df.Power,sm.add_constant(df.delta_T))"
   ]
  },
  {
   "cell_type": "code",
   "execution_count": 150,
   "metadata": {},
   "outputs": [],
   "source": [
    "results=model.fit()"
   ]
  },
  {
   "cell_type": "code",
   "execution_count": 151,
   "metadata": {},
   "outputs": [
    {
     "data": {
      "text/plain": [
       "<matplotlib.collections.PathCollection at 0x7f87d9033d00>"
      ]
     },
     "execution_count": 151,
     "metadata": {},
     "output_type": "execute_result"
    },
    {
     "data": {
      "image/png": "[encoded data removed]",
      "text/plain": [
       "<Figure size 1440x1080 with 1 Axes>"
      ]
     },
     "metadata": {
      "needs_background": "light"
     },
     "output_type": "display_data"
    }
   ],
   "source": [
    "plt.plot(df.delta_T,results.predict(),'r')\n",
    "plt.scatter(df.delta_T,df.Power)"
   ]
  },
  {
   "cell_type": "code",
   "execution_count": 152,
   "metadata": {},
   "outputs": [
    {
     "data": {
      "text/html": [
       "<table class=\"simpletable\">\n",
       "<caption>OLS Regression Results</caption>\n",
       "<tr>\n",
       "  <th>Dep. Variable:</th>          <td>Power</td>      <th>  R-squared:         </th> <td>     nan</td>\n",
       "</tr>\n",
       "<tr>\n",
       "  <th>Model:</th>                   <td>OLS</td>       <th>  Adj. R-squared:    </th> <td>     nan</td>\n",
       "</tr>\n",
       "<tr>\n",
       "  <th>Method:</th>             <td>Least Squares</td>  <th>  F-statistic:       </th> <td>     nan</td>\n",
       "</tr>\n",
       "<tr>\n",
       "  <th>Date:</th>             <td>Thu, 03 Dec 2020</td> <th>  Prob (F-statistic):</th>  <td>   nan</td> \n",
       "</tr>\n",
       "<tr>\n",
       "  <th>Time:</th>                 <td>10:58:32</td>     <th>  Log-Likelihood:    </th> <td>     nan</td>\n",
       "</tr>\n",
       "<tr>\n",
       "  <th>No. Observations:</th>      <td>  1135</td>      <th>  AIC:               </th> <td>     nan</td>\n",
       "</tr>\n",
       "<tr>\n",
       "  <th>Df Residuals:</th>          <td>  1133</td>      <th>  BIC:               </th> <td>     nan</td>\n",
       "</tr>\n",
       "<tr>\n",
       "  <th>Df Model:</th>              <td>     1</td>      <th>                     </th>     <td> </td>   \n",
       "</tr>\n",
       "<tr>\n",
       "  <th>Covariance Type:</th>      <td>nonrobust</td>    <th>                     </th>     <td> </td>   \n",
       "</tr>\n",
       "</table>\n",
       "<table class=\"simpletable\">\n",
       "<tr>\n",
       "     <td></td>        <th>coef</th>     <th>std err</th>      <th>t</th>      <th>P>|t|</th>  <th>[0.025</th>    <th>0.975]</th>  \n",
       "</tr>\n",
       "<tr>\n",
       "  <th>const</th>   <td>       nan</td> <td>      nan</td> <td>      nan</td> <td>   nan</td> <td>      nan</td> <td>      nan</td>\n",
       "</tr>\n",
       "<tr>\n",
       "  <th>delta_T</th> <td>       nan</td> <td>      nan</td> <td>      nan</td> <td>   nan</td> <td>      nan</td> <td>      nan</td>\n",
       "</tr>\n",
       "</table>\n",
       "<table class=\"simpletable\">\n",
       "<tr>\n",
       "  <th>Omnibus:</th>       <td>   nan</td> <th>  Durbin-Watson:     </th> <td>     nan</td>\n",
       "</tr>\n",
       "<tr>\n",
       "  <th>Prob(Omnibus):</th> <td>   nan</td> <th>  Jarque-Bera (JB):  </th> <td>     nan</td>\n",
       "</tr>\n",
       "<tr>\n",
       "  <th>Skew:</th>          <td>   nan</td> <th>  Prob(JB):          </th> <td>     nan</td>\n",
       "</tr>\n",
       "<tr>\n",
       "  <th>Kurtosis:</th>      <td>   nan</td> <th>  Cond. No.          </th> <td>    15.5</td>\n",
       "</tr>\n",
       "</table><br/><br/>Notes:<br/>[1] Standard Errors assume that the covariance matrix of the errors is correctly specified."
      ],
      "text/plain": [
       "<class 'statsmodels.iolib.summary.Summary'>\n",
       "\"\"\"\n",
       "                            OLS Regression Results                            \n",
       "==============================================================================\n",
       "Dep. Variable:                  Power   R-squared:                         nan\n",
       "Model:                            OLS   Adj. R-squared:                    nan\n",
       "Method:                 Least Squares   F-statistic:                       nan\n",
       "Date:                Thu, 03 Dec 2020   Prob (F-statistic):                nan\n",
       "Time:                        10:58:32   Log-Likelihood:                    nan\n",
       "No. Observations:                1135   AIC:                               nan\n",
       "Df Residuals:                    1133   BIC:                               nan\n",
       "Df Model:                           1                                         \n",
       "Covariance Type:            nonrobust                                         \n",
       "==============================================================================\n",
       "                 coef    std err          t      P>|t|      [0.025      0.975]\n",
       "------------------------------------------------------------------------------\n",
       "const             nan        nan        nan        nan         nan         nan\n",
       "delta_T           nan        nan        nan        nan         nan         nan\n",
       "==============================================================================\n",
       "Omnibus:                          nan   Durbin-Watson:                     nan\n",
       "Prob(Omnibus):                    nan   Jarque-Bera (JB):                  nan\n",
       "Skew:                             nan   Prob(JB):                          nan\n",
       "Kurtosis:                         nan   Cond. No.                         15.5\n",
       "==============================================================================\n",
       "\n",
       "Notes:\n",
       "[1] Standard Errors assume that the covariance matrix of the errors is correctly specified.\n",
       "\"\"\""
      ]
     },
     "execution_count": 152,
     "metadata": {},
     "output_type": "execute_result"
    }
   ],
   "source": [
    "results.summary()"
   ]
  },
  {
   "cell_type": "code",
   "execution_count": 153,
   "metadata": {},
   "outputs": [],
   "source": [
    "df=df.resample('H').mean()\n",
    "df=df.dropna()"
   ]
  },
  {
   "cell_type": "code",
   "execution_count": 154,
   "metadata": {},
   "outputs": [
    {
     "data": {
      "text/plain": [
       "<matplotlib.collections.PathCollection at 0x7f87d8fcf1f0>"
      ]
     },
     "execution_count": 154,
     "metadata": {},
     "output_type": "execute_result"
    },
    {
     "data": {
      "image/png": "[encoded data removed]",
      "text/plain": [
       "<Figure size 1440x1080 with 1 Axes>"
      ]
     },
     "metadata": {
      "needs_background": "light"
     },
     "output_type": "display_data"
    }
   ],
   "source": [
    "plt.scatter(df.delta_T,df.Power)"
   ]
  },
  {
   "cell_type": "code",
   "execution_count": 155,
   "metadata": {},
   "outputs": [],
   "source": [
    "model = sm.OLS(df.Power,sm.add_constant(df.delta_T))"
   ]
  },
  {
   "cell_type": "code",
   "execution_count": 156,
   "metadata": {},
   "outputs": [],
   "source": [
    "results=model.fit()"
   ]
  },
  {
   "cell_type": "code",
   "execution_count": 157,
   "metadata": {},
   "outputs": [
    {
     "data": {
      "text/plain": [
       "<matplotlib.collections.PathCollection at 0x7f87d8f29f40>"
      ]
     },
     "execution_count": 157,
     "metadata": {},
     "output_type": "execute_result"
    },
    {
     "data": {
      "image/png": "[encoded data removed]",
      "text/plain": [
       "<Figure size 1440x1080 with 1 Axes>"
      ]
     },
     "metadata": {
      "needs_background": "light"
     },
     "output_type": "display_data"
    }
   ],
   "source": [
    "plt.plot(df.delta_T,results.predict(),'r')\n",
    "plt.scatter(df.delta_T,df.Power)"
   ]
  },
  {
   "cell_type": "code",
   "execution_count": 22,
   "metadata": {},
   "outputs": [
    {
     "data": {
      "text/html": [
       "<table class=\"simpletable\">\n",
       "<caption>OLS Regression Results</caption>\n",
       "<tr>\n",
       "  <th>Dep. Variable:</th>          <td>Power</td>      <th>  R-squared:         </th> <td>   0.462</td> \n",
       "</tr>\n",
       "<tr>\n",
       "  <th>Model:</th>                   <td>OLS</td>       <th>  Adj. R-squared:    </th> <td>   0.462</td> \n",
       "</tr>\n",
       "<tr>\n",
       "  <th>Method:</th>             <td>Least Squares</td>  <th>  F-statistic:       </th> <td>   4701.</td> \n",
       "</tr>\n",
       "<tr>\n",
       "  <th>Date:</th>             <td>Thu, 12 Nov 2020</td> <th>  Prob (F-statistic):</th>  <td>  0.00</td>  \n",
       "</tr>\n",
       "<tr>\n",
       "  <th>Time:</th>                 <td>17:12:57</td>     <th>  Log-Likelihood:    </th> <td> -18535.</td> \n",
       "</tr>\n",
       "<tr>\n",
       "  <th>No. Observations:</th>      <td>  5472</td>      <th>  AIC:               </th> <td>3.707e+04</td>\n",
       "</tr>\n",
       "<tr>\n",
       "  <th>Df Residuals:</th>          <td>  5470</td>      <th>  BIC:               </th> <td>3.709e+04</td>\n",
       "</tr>\n",
       "<tr>\n",
       "  <th>Df Model:</th>              <td>     1</td>      <th>                     </th>     <td> </td>    \n",
       "</tr>\n",
       "<tr>\n",
       "  <th>Covariance Type:</th>      <td>nonrobust</td>    <th>                     </th>     <td> </td>    \n",
       "</tr>\n",
       "</table>\n",
       "<table class=\"simpletable\">\n",
       "<tr>\n",
       "     <td></td>       <th>coef</th>     <th>std err</th>      <th>t</th>      <th>P>|t|</th>  <th>[0.025</th>    <th>0.975]</th>  \n",
       "</tr>\n",
       "<tr>\n",
       "  <th>const</th>  <td>   -3.2870</td> <td>    0.240</td> <td>  -13.705</td> <td> 0.000</td> <td>   -3.757</td> <td>   -2.817</td>\n",
       "</tr>\n",
       "<tr>\n",
       "  <th>deltaT</th> <td>    1.3493</td> <td>    0.020</td> <td>   68.563</td> <td> 0.000</td> <td>    1.311</td> <td>    1.388</td>\n",
       "</tr>\n",
       "</table>\n",
       "<table class=\"simpletable\">\n",
       "<tr>\n",
       "  <th>Omnibus:</th>       <td>136.328</td> <th>  Durbin-Watson:     </th> <td>   0.712</td>\n",
       "</tr>\n",
       "<tr>\n",
       "  <th>Prob(Omnibus):</th> <td> 0.000</td>  <th>  Jarque-Bera (JB):  </th> <td> 150.284</td>\n",
       "</tr>\n",
       "<tr>\n",
       "  <th>Skew:</th>          <td>-0.367</td>  <th>  Prob(JB):          </th> <td>2.32e-33</td>\n",
       "</tr>\n",
       "<tr>\n",
       "  <th>Kurtosis:</th>      <td> 3.347</td>  <th>  Cond. No.          </th> <td>    30.4</td>\n",
       "</tr>\n",
       "</table><br/><br/>Notes:<br/>[1] Standard Errors assume that the covariance matrix of the errors is correctly specified."
      ],
      "text/plain": [
       "<class 'statsmodels.iolib.summary.Summary'>\n",
       "\"\"\"\n",
       "                            OLS Regression Results                            \n",
       "==============================================================================\n",
       "Dep. Variable:                  Power   R-squared:                       0.462\n",
       "Model:                            OLS   Adj. R-squared:                  0.462\n",
       "Method:                 Least Squares   F-statistic:                     4701.\n",
       "Date:                Thu, 12 Nov 2020   Prob (F-statistic):               0.00\n",
       "Time:                        17:12:57   Log-Likelihood:                -18535.\n",
       "No. Observations:                5472   AIC:                         3.707e+04\n",
       "Df Residuals:                    5470   BIC:                         3.709e+04\n",
       "Df Model:                           1                                         \n",
       "Covariance Type:            nonrobust                                         \n",
       "==============================================================================\n",
       "                 coef    std err          t      P>|t|      [0.025      0.975]\n",
       "------------------------------------------------------------------------------\n",
       "const         -3.2870      0.240    -13.705      0.000      -3.757      -2.817\n",
       "deltaT         1.3493      0.020     68.563      0.000       1.311       1.388\n",
       "==============================================================================\n",
       "Omnibus:                      136.328   Durbin-Watson:                   0.712\n",
       "Prob(Omnibus):                  0.000   Jarque-Bera (JB):              150.284\n",
       "Skew:                          -0.367   Prob(JB):                     2.32e-33\n",
       "Kurtosis:                       3.347   Cond. No.                         30.4\n",
       "==============================================================================\n",
       "\n",
       "Notes:\n",
       "[1] Standard Errors assume that the covariance matrix of the errors is correctly specified.\n",
       "\"\"\""
      ]
     },
     "execution_count": 22,
     "metadata": {},
     "output_type": "execute_result"
    }
   ],
   "source": [
    "results.summary()"
   ]
  },
  {
   "cell_type": "code",
   "execution_count": 23,
   "metadata": {},
   "outputs": [],
   "source": [
    "df=df.resample('D').mean()\n",
    "df=df.dropna()"
   ]
  },
  {
   "cell_type": "code",
   "execution_count": 24,
   "metadata": {},
   "outputs": [
    {
     "data": {
      "text/plain": [
       "<matplotlib.collections.PathCollection at 0x7f1b9bafabe0>"
      ]
     },
     "execution_count": 24,
     "metadata": {},
     "output_type": "execute_result"
    },
    {
     "data": {
      "image/png": "[encoded data removed]",
      "text/plain": [
       "<Figure size 1440x1080 with 1 Axes>"
      ]
     },
     "metadata": {
      "needs_background": "light"
     },
     "output_type": "display_data"
    }
   ],
   "source": [
    "plt.scatter(df.deltaT,df.Power)"
   ]
  },
  {
   "cell_type": "code",
   "execution_count": 25,
   "metadata": {},
   "outputs": [],
   "source": [
    "model = sm.OLS(df.Power,sm.add_constant(df.deltaT))"
   ]
  },
  {
   "cell_type": "code",
   "execution_count": 26,
   "metadata": {},
   "outputs": [],
   "source": [
    "results=model.fit()"
   ]
  },
  {
   "cell_type": "code",
   "execution_count": 27,
   "metadata": {},
   "outputs": [
    {
     "data": {
      "text/plain": [
       "<matplotlib.collections.PathCollection at 0x7f1b9bb29850>"
      ]
     },
     "execution_count": 27,
     "metadata": {},
     "output_type": "execute_result"
    },
    {
     "data": {
      "image/png": "[encoded data removed]",
      "text/plain": [
       "<Figure size 1440x1080 with 1 Axes>"
      ]
     },
     "metadata": {
      "needs_background": "light"
     },
     "output_type": "display_data"
    }
   ],
   "source": [
    "plt.plot(df.deltaT,results.predict(),'r')\n",
    "plt.scatter(df.deltaT,df.Power)"
   ]
  },
  {
   "cell_type": "code",
   "execution_count": 28,
   "metadata": {},
   "outputs": [
    {
     "data": {
      "text/html": [
       "<table class=\"simpletable\">\n",
       "<caption>OLS Regression Results</caption>\n",
       "<tr>\n",
       "  <th>Dep. Variable:</th>          <td>Power</td>      <th>  R-squared:         </th> <td>   0.949</td> \n",
       "</tr>\n",
       "<tr>\n",
       "  <th>Model:</th>                   <td>OLS</td>       <th>  Adj. R-squared:    </th> <td>   0.949</td> \n",
       "</tr>\n",
       "<tr>\n",
       "  <th>Method:</th>             <td>Least Squares</td>  <th>  F-statistic:       </th> <td>   4297.</td> \n",
       "</tr>\n",
       "<tr>\n",
       "  <th>Date:</th>             <td>Thu, 12 Nov 2020</td> <th>  Prob (F-statistic):</th> <td>2.98e-151</td>\n",
       "</tr>\n",
       "<tr>\n",
       "  <th>Time:</th>                 <td>17:12:59</td>     <th>  Log-Likelihood:    </th> <td> -442.87</td> \n",
       "</tr>\n",
       "<tr>\n",
       "  <th>No. Observations:</th>      <td>   233</td>      <th>  AIC:               </th> <td>   889.7</td> \n",
       "</tr>\n",
       "<tr>\n",
       "  <th>Df Residuals:</th>          <td>   231</td>      <th>  BIC:               </th> <td>   896.6</td> \n",
       "</tr>\n",
       "<tr>\n",
       "  <th>Df Model:</th>              <td>     1</td>      <th>                     </th>     <td> </td>    \n",
       "</tr>\n",
       "<tr>\n",
       "  <th>Covariance Type:</th>      <td>nonrobust</td>    <th>                     </th>     <td> </td>    \n",
       "</tr>\n",
       "</table>\n",
       "<table class=\"simpletable\">\n",
       "<tr>\n",
       "     <td></td>       <th>coef</th>     <th>std err</th>      <th>t</th>      <th>P>|t|</th>  <th>[0.025</th>    <th>0.975]</th>  \n",
       "</tr>\n",
       "<tr>\n",
       "  <th>const</th>  <td>   -4.5836</td> <td>    0.270</td> <td>  -17.005</td> <td> 0.000</td> <td>   -5.115</td> <td>   -4.052</td>\n",
       "</tr>\n",
       "<tr>\n",
       "  <th>deltaT</th> <td>    1.4664</td> <td>    0.022</td> <td>   65.549</td> <td> 0.000</td> <td>    1.422</td> <td>    1.510</td>\n",
       "</tr>\n",
       "</table>\n",
       "<table class=\"simpletable\">\n",
       "<tr>\n",
       "  <th>Omnibus:</th>       <td>140.688</td> <th>  Durbin-Watson:     </th> <td>   0.604</td> \n",
       "</tr>\n",
       "<tr>\n",
       "  <th>Prob(Omnibus):</th> <td> 0.000</td>  <th>  Jarque-Bera (JB):  </th> <td>1164.676</td> \n",
       "</tr>\n",
       "<tr>\n",
       "  <th>Skew:</th>          <td>-2.275</td>  <th>  Prob(JB):          </th> <td>1.24e-253</td>\n",
       "</tr>\n",
       "<tr>\n",
       "  <th>Kurtosis:</th>      <td>12.963</td>  <th>  Cond. No.          </th> <td>    30.7</td> \n",
       "</tr>\n",
       "</table><br/><br/>Notes:<br/>[1] Standard Errors assume that the covariance matrix of the errors is correctly specified."
      ],
      "text/plain": [
       "<class 'statsmodels.iolib.summary.Summary'>\n",
       "\"\"\"\n",
       "                            OLS Regression Results                            \n",
       "==============================================================================\n",
       "Dep. Variable:                  Power   R-squared:                       0.949\n",
       "Model:                            OLS   Adj. R-squared:                  0.949\n",
       "Method:                 Least Squares   F-statistic:                     4297.\n",
       "Date:                Thu, 12 Nov 2020   Prob (F-statistic):          2.98e-151\n",
       "Time:                        17:12:59   Log-Likelihood:                -442.87\n",
       "No. Observations:                 233   AIC:                             889.7\n",
       "Df Residuals:                     231   BIC:                             896.6\n",
       "Df Model:                           1                                         \n",
       "Covariance Type:            nonrobust                                         \n",
       "==============================================================================\n",
       "                 coef    std err          t      P>|t|      [0.025      0.975]\n",
       "------------------------------------------------------------------------------\n",
       "const         -4.5836      0.270    -17.005      0.000      -5.115      -4.052\n",
       "deltaT         1.4664      0.022     65.549      0.000       1.422       1.510\n",
       "==============================================================================\n",
       "Omnibus:                      140.688   Durbin-Watson:                   0.604\n",
       "Prob(Omnibus):                  0.000   Jarque-Bera (JB):             1164.676\n",
       "Skew:                          -2.275   Prob(JB):                    1.24e-253\n",
       "Kurtosis:                      12.963   Cond. No.                         30.7\n",
       "==============================================================================\n",
       "\n",
       "Notes:\n",
       "[1] Standard Errors assume that the covariance matrix of the errors is correctly specified.\n",
       "\"\"\""
      ]
     },
     "execution_count": 28,
     "metadata": {},
     "output_type": "execute_result"
    }
   ],
   "source": [
    "results.summary()"
   ]
  },
  {
   "cell_type": "code",
   "execution_count": 29,
   "metadata": {
    "scrolled": true
   },
   "outputs": [],
   "source": [
    "df=df.resample('W').mean()\n",
    "df=df.dropna()"
   ]
  },
  {
   "cell_type": "code",
   "execution_count": 30,
   "metadata": {},
   "outputs": [
    {
     "data": {
      "text/plain": [
       "<matplotlib.collections.PathCollection at 0x7f1b9b83ed00>"
      ]
     },
     "execution_count": 30,
     "metadata": {},
     "output_type": "execute_result"
    },
    {
     "data": {
      "image/png": "[encoded data removed]",
      "text/plain": [
       "<Figure size 1440x1080 with 1 Axes>"
      ]
     },
     "metadata": {
      "needs_background": "light"
     },
     "output_type": "display_data"
    }
   ],
   "source": [
    "plt.scatter(df.deltaT,df.Power)\n"
   ]
  },
  {
   "cell_type": "code",
   "execution_count": 31,
   "metadata": {},
   "outputs": [],
   "source": [
    "model = sm.OLS(df.Power,sm.add_constant(df.deltaT))"
   ]
  },
  {
   "cell_type": "code",
   "execution_count": 32,
   "metadata": {},
   "outputs": [],
   "source": [
    "results=model.fit()"
   ]
  },
  {
   "cell_type": "code",
   "execution_count": 33,
   "metadata": {},
   "outputs": [
    {
     "data": {
      "text/plain": [
       "<matplotlib.collections.PathCollection at 0x7f1b9b78aeb0>"
      ]
     },
     "execution_count": 33,
     "metadata": {},
     "output_type": "execute_result"
    },
    {
     "data": {
      "image/png": "[encoded data removed]",
      "text/plain": [
       "<Figure size 1440x1080 with 1 Axes>"
      ]
     },
     "metadata": {
      "needs_background": "light"
     },
     "output_type": "display_data"
    }
   ],
   "source": [
    "plt.plot(df.deltaT,results.predict(),'r')\n",
    "plt.scatter(df.deltaT,df.Power)"
   ]
  },
  {
   "cell_type": "code",
   "execution_count": 34,
   "metadata": {},
   "outputs": [
    {
     "data": {
      "text/html": [
       "<table class=\"simpletable\">\n",
       "<caption>OLS Regression Results</caption>\n",
       "<tr>\n",
       "  <th>Dep. Variable:</th>          <td>Power</td>      <th>  R-squared:         </th> <td>   0.972</td>\n",
       "</tr>\n",
       "<tr>\n",
       "  <th>Model:</th>                   <td>OLS</td>       <th>  Adj. R-squared:    </th> <td>   0.971</td>\n",
       "</tr>\n",
       "<tr>\n",
       "  <th>Method:</th>             <td>Least Squares</td>  <th>  F-statistic:       </th> <td>   1129.</td>\n",
       "</tr>\n",
       "<tr>\n",
       "  <th>Date:</th>             <td>Thu, 12 Nov 2020</td> <th>  Prob (F-statistic):</th> <td>4.21e-27</td>\n",
       "</tr>\n",
       "<tr>\n",
       "  <th>Time:</th>                 <td>17:13:01</td>     <th>  Log-Likelihood:    </th> <td> -56.267</td>\n",
       "</tr>\n",
       "<tr>\n",
       "  <th>No. Observations:</th>      <td>    35</td>      <th>  AIC:               </th> <td>   116.5</td>\n",
       "</tr>\n",
       "<tr>\n",
       "  <th>Df Residuals:</th>          <td>    33</td>      <th>  BIC:               </th> <td>   119.6</td>\n",
       "</tr>\n",
       "<tr>\n",
       "  <th>Df Model:</th>              <td>     1</td>      <th>                     </th>     <td> </td>   \n",
       "</tr>\n",
       "<tr>\n",
       "  <th>Covariance Type:</th>      <td>nonrobust</td>    <th>                     </th>     <td> </td>   \n",
       "</tr>\n",
       "</table>\n",
       "<table class=\"simpletable\">\n",
       "<tr>\n",
       "     <td></td>       <th>coef</th>     <th>std err</th>      <th>t</th>      <th>P>|t|</th>  <th>[0.025</th>    <th>0.975]</th>  \n",
       "</tr>\n",
       "<tr>\n",
       "  <th>const</th>  <td>   -5.1572</td> <td>    0.541</td> <td>   -9.539</td> <td> 0.000</td> <td>   -6.257</td> <td>   -4.057</td>\n",
       "</tr>\n",
       "<tr>\n",
       "  <th>deltaT</th> <td>    1.5136</td> <td>    0.045</td> <td>   33.602</td> <td> 0.000</td> <td>    1.422</td> <td>    1.605</td>\n",
       "</tr>\n",
       "</table>\n",
       "<table class=\"simpletable\">\n",
       "<tr>\n",
       "  <th>Omnibus:</th>       <td>22.376</td> <th>  Durbin-Watson:     </th> <td>   1.951</td>\n",
       "</tr>\n",
       "<tr>\n",
       "  <th>Prob(Omnibus):</th> <td> 0.000</td> <th>  Jarque-Bera (JB):  </th> <td>  35.659</td>\n",
       "</tr>\n",
       "<tr>\n",
       "  <th>Skew:</th>          <td>-1.660</td> <th>  Prob(JB):          </th> <td>1.81e-08</td>\n",
       "</tr>\n",
       "<tr>\n",
       "  <th>Kurtosis:</th>      <td> 6.664</td> <th>  Cond. No.          </th> <td>    31.0</td>\n",
       "</tr>\n",
       "</table><br/><br/>Notes:<br/>[1] Standard Errors assume that the covariance matrix of the errors is correctly specified."
      ],
      "text/plain": [
       "<class 'statsmodels.iolib.summary.Summary'>\n",
       "\"\"\"\n",
       "                            OLS Regression Results                            \n",
       "==============================================================================\n",
       "Dep. Variable:                  Power   R-squared:                       0.972\n",
       "Model:                            OLS   Adj. R-squared:                  0.971\n",
       "Method:                 Least Squares   F-statistic:                     1129.\n",
       "Date:                Thu, 12 Nov 2020   Prob (F-statistic):           4.21e-27\n",
       "Time:                        17:13:01   Log-Likelihood:                -56.267\n",
       "No. Observations:                  35   AIC:                             116.5\n",
       "Df Residuals:                      33   BIC:                             119.6\n",
       "Df Model:                           1                                         \n",
       "Covariance Type:            nonrobust                                         \n",
       "==============================================================================\n",
       "                 coef    std err          t      P>|t|      [0.025      0.975]\n",
       "------------------------------------------------------------------------------\n",
       "const         -5.1572      0.541     -9.539      0.000      -6.257      -4.057\n",
       "deltaT         1.5136      0.045     33.602      0.000       1.422       1.605\n",
       "==============================================================================\n",
       "Omnibus:                       22.376   Durbin-Watson:                   1.951\n",
       "Prob(Omnibus):                  0.000   Jarque-Bera (JB):               35.659\n",
       "Skew:                          -1.660   Prob(JB):                     1.81e-08\n",
       "Kurtosis:                       6.664   Cond. No.                         31.0\n",
       "==============================================================================\n",
       "\n",
       "Notes:\n",
       "[1] Standard Errors assume that the covariance matrix of the errors is correctly specified.\n",
       "\"\"\""
      ]
     },
     "execution_count": 34,
     "metadata": {},
     "output_type": "execute_result"
    }
   ],
   "source": [
    "results.summary()"
   ]
  }
 ],
 "metadata": {
  "kernelspec": {
   "display_name": "Python 3",
   "language": "python",
   "name": "python3"
  },
  "language_info": {
   "codemirror_mode": {
    "name": "ipython",
    "version": 3
   },
   "file_extension": ".py",
   "mimetype": "text/x-python",
   "name": "python",
   "nbconvert_exporter": "python",
   "pygments_lexer": "ipython3",
   "version": "3.8.5"
  }
 },
 "nbformat": 4,
 "nbformat_minor": 2
}
