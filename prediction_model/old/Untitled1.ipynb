{
 "cells": [
  {
   "cell_type": "code",
   "execution_count": null,
   "metadata": {},
   "outputs": [],
   "source": [
    "# Extract y fields\n",
    "df_rnn=pd.DataFrame()\n",
    "df_rnn[\"DateTime\"]=df_final[\"DateTime\"]\n",
    "df_rnn[\"Temperature\"]=df_final[\"Indoor_Mean\"]\n",
    "df_rnn.set_index(\"DateTime\",inplace=True)\n",
    "\n",
    "print(len(df_rnn))\n",
    "df_train = df_rnn[\"Temperature\"][0:int(len(df_rnn[\"Temperature\"])*0.7)]\n",
    "print(len(df_train))\n",
    "norm_train = (df_train-df_train.mean())/df_train.std()\n",
    "norm_train.head()\n",
    "\n",
    "df_validate=df_rnn[\"Temperature\"][int(len(df_rnn[\"Temperature\"])*0.7):int(len(df_rnn[\"Temperature\"])*0.9)]\n",
    "print(len(df_validate))\n",
    "norm_val= df_validate-df_train.mean()/df_train.std()\n",
    "\n",
    "df_test = df_rnn[\"Temperature\"][int(len(df_rnn[\"Temperature\"])*0.9):]\n",
    "norm_test= df_test-df_train.mean()/df_train.std()\n",
    "print(len(norm_test))"
   ]
  }
 ],
 "metadata": {
  "kernelspec": {
   "display_name": "Python 3",
   "language": "python",
   "name": "python3"
  },
  "language_info": {
   "codemirror_mode": {
    "name": "ipython",
    "version": 3
   },
   "file_extension": ".py",
   "mimetype": "text/x-python",
   "name": "python",
   "nbconvert_exporter": "python",
   "pygments_lexer": "ipython3",
   "version": "3.6.9"
  }
 },
 "nbformat": 4,
 "nbformat_minor": 4
}
